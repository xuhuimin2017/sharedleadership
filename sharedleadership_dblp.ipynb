{
 "cells": [
  {
   "cell_type": "code",
   "execution_count": 2,
   "metadata": {},
   "outputs": [
    {
     "name": "stderr",
     "output_type": "stream",
     "text": [
      "/home/xh3993/anaconda3/lib/python3.7/site-packages/statsmodels/tools/_testing.py:19: FutureWarning: pandas.util.testing is deprecated. Use the functions in the public API at pandas.testing instead.\n",
      "  import pandas.util.testing as tm\n"
     ]
    }
   ],
   "source": [
    "import pandas as pd\n",
    "from collections import Counter\n",
    "import matplotlib.pyplot as plt\n",
    "import seaborn as sns\n",
    "from matplotlib.legend_handler import HandlerLine2D\n",
    "import numpy as np\n",
    "import matplotlib\n",
    "import statsmodels.formula.api as smf\n",
    "import pickle\n",
    "import re\n",
    "from collections import Counter,defaultdict\n",
    "from tqdm.notebook import tqdm\n",
    "tqdm.pandas()"
   ]
  },
  {
   "cell_type": "code",
   "execution_count": 3,
   "metadata": {},
   "outputs": [
    {
     "name": "stderr",
     "output_type": "stream",
     "text": [
      "/home/xh3993/anaconda3/lib/python3.7/site-packages/IPython/core/interactiveshell.py:3058: DtypeWarning: Columns (37,38) have mixed types.Specify dtype option on import or set low_memory=False.\n",
      "  interactivity=interactivity, compiler=compiler, result=result)\n"
     ]
    }
   ],
   "source": [
    "data=pd.read_csv('/data/sharedleadership/team2.csv')"
   ]
  },
  {
   "cell_type": "code",
   "execution_count": 4,
   "metadata": {},
   "outputs": [
    {
     "data": {
      "text/plain": [
       "Index(['tid', 'aname', 'aid', 'aorg', 'p_year', 'references', 'fos',\n",
       "       'citation2', 'citation5', 'references_age', 'len', 'sci_age',\n",
       "       'citation_all', 'hindex', 'hindex_mean', 'citation2_rank',\n",
       "       'citation5_rank', 'phyical', 'seniority', 'seniority_n',\n",
       "       'reference_diff', 'reference_range', 'reference_SD', 'reference_mean',\n",
       "       'seniority1', 'seniority2', 'leader_range', 'hindex_2', 'hindex_2mean',\n",
       "       'emb_sim', 'keyword_sim', 'mean_power', 'mean_2', 'Mean_p', 'Gini_p',\n",
       "       'team_size', 'year_group', 'gender_c', 'sector_c', 'Ins_country_num',\n",
       "       'ethnicty_num', 'gender_n', 'sector_n'],\n",
       "      dtype='object')"
      ]
     },
     "execution_count": 4,
     "metadata": {},
     "output_type": "execute_result"
    }
   ],
   "source": [
    "data.columns"
   ]
  },
  {
   "cell_type": "code",
   "execution_count": 5,
   "metadata": {},
   "outputs": [
    {
     "data": {
      "text/plain": [
       "array([0.33835846, 0.3002681 , 0.33413462, 0.25360231, 0.3973747 ,\n",
       "       0.40082645,        nan, 0.4198783 , 0.23659306, 0.31319911])"
      ]
     },
     "execution_count": 5,
     "metadata": {},
     "output_type": "execute_result"
    }
   ],
   "source": [
    "data['keyword_sim'].values[:10]"
   ]
  },
  {
   "cell_type": "code",
   "execution_count": 104,
   "metadata": {},
   "outputs": [],
   "source": [
    "data['sci_age']=data['sci_age'].apply(lambda x: eval(x))"
   ]
  },
  {
   "cell_type": "code",
   "execution_count": 109,
   "metadata": {},
   "outputs": [
    {
     "data": {
      "text/plain": [
       "array([list([9, 10, 12]), list([7, 1, 17, 13]), list([12, 8, 7, 15]),\n",
       "       list([15, 22]), list([2, 6, 15, 11]), list([5, 18, 10]),\n",
       "       list([1, 16, 28]), list([8, 15, 19]), list([3, 8, 2, 28, 12]),\n",
       "       list([2, 1, 12, 10]), list([4, 8, 14, 17]), list([5, 20, 8, 36]),\n",
       "       list([1, 16, 28]), list([1, 6, 38, 18]), list([5, 18, 1, 22]),\n",
       "       list([19, 10]), list([1, 14, 17]), list([7, 24, 10]),\n",
       "       list([3, 15, 12]), list([11, 14, 4])], dtype=object)"
      ]
     },
     "execution_count": 109,
     "metadata": {},
     "output_type": "execute_result"
    }
   ],
   "source": [
    "data['sci_age'].values[:20]"
   ]
  },
  {
   "cell_type": "code",
   "execution_count": 6,
   "metadata": {},
   "outputs": [],
   "source": [
    "def position(x):\n",
    "    a=[]\n",
    "    for e,i in enumerate(x):\n",
    "        if i>=10:\n",
    "            a.append(e)\n",
    "    return a"
   ]
  },
  {
   "cell_type": "code",
   "execution_count": 7,
   "metadata": {},
   "outputs": [],
   "source": [
    "data['position']=data['sci_age'].apply(lambda x: position(x))\n",
    "data['last_two']=data['len'].apply(lambda x: [x-2,x-1])\n",
    "data['first_last']=data['len'].apply(lambda x: [0,x-1])"
   ]
  },
  {
   "cell_type": "code",
   "execution_count": 10,
   "metadata": {},
   "outputs": [
    {
     "data": {
      "text/plain": [
       "521693"
      ]
     },
     "execution_count": 10,
     "metadata": {},
     "output_type": "execute_result"
    }
   ],
   "source": [
    "len(data[(data['position']==data['last_two'])|(data['position']==data['first_last'])])"
   ]
  },
  {
   "cell_type": "code",
   "execution_count": 11,
   "metadata": {},
   "outputs": [
    {
     "data": {
      "text/plain": [
       "445303"
      ]
     },
     "execution_count": 11,
     "metadata": {},
     "output_type": "execute_result"
    }
   ],
   "source": [
    "len(data[data['position']==data['last_two']])"
   ]
  },
  {
   "cell_type": "code",
   "execution_count": 12,
   "metadata": {},
   "outputs": [
    {
     "data": {
      "text/plain": [
       "170553"
      ]
     },
     "execution_count": 12,
     "metadata": {},
     "output_type": "execute_result"
    }
   ],
   "source": [
    "len(data[data['position']==data['first_last']])"
   ]
  },
  {
   "cell_type": "code",
   "execution_count": 13,
   "metadata": {
    "scrolled": true
   },
   "outputs": [
    {
     "data": {
      "text/plain": [
       "0.5850312877301911"
      ]
     },
     "execution_count": 13,
     "metadata": {},
     "output_type": "execute_result"
    }
   ],
   "source": [
    "len(data[data['position']==data['last_two']])/len(data)"
   ]
  },
  {
   "cell_type": "code",
   "execution_count": 14,
   "metadata": {},
   "outputs": [
    {
     "data": {
      "text/plain": [
       "0.2240695463903169"
      ]
     },
     "execution_count": 14,
     "metadata": {},
     "output_type": "execute_result"
    }
   ],
   "source": [
    "len(data[data['position']==data['first_last']])/len(data)"
   ]
  },
  {
   "cell_type": "code",
   "execution_count": 15,
   "metadata": {},
   "outputs": [
    {
     "data": {
      "text/plain": [
       "0.6853911327564076"
      ]
     },
     "execution_count": 15,
     "metadata": {},
     "output_type": "execute_result"
    }
   ],
   "source": [
    "len(data[(data['position']==data['last_two'])|(data['position']==data['first_last'])])/len(data)"
   ]
  },
  {
   "cell_type": "code",
   "execution_count": 18,
   "metadata": {},
   "outputs": [],
   "source": [
    "choose_data=data[(data['position']==data['last_two'])|(data['position']==data['first_last'])]"
   ]
  },
  {
   "cell_type": "code",
   "execution_count": 133,
   "metadata": {
    "scrolled": true
   },
   "outputs": [
    {
     "data": {
      "text/plain": [
       "Counter({'(2, 0, 0)': 92369,\n",
       "         '(1, 1, 0)': 115114,\n",
       "         '(0, 1, 1)': 85179,\n",
       "         '(0, 2, 0)': 41221,\n",
       "         '(1, 0, 1)': 133237,\n",
       "         '(0, 0, 2)': 54573})"
      ]
     },
     "execution_count": 133,
     "metadata": {},
     "output_type": "execute_result"
    }
   ],
   "source": [
    "Counter(choose_data['seniority1'].values)"
   ]
  },
  {
   "cell_type": "code",
   "execution_count": 134,
   "metadata": {},
   "outputs": [
    {
     "data": {
      "text/plain": [
       "521693"
      ]
     },
     "execution_count": 134,
     "metadata": {},
     "output_type": "execute_result"
    }
   ],
   "source": [
    "len(choose_data)"
   ]
  },
  {
   "cell_type": "code",
   "execution_count": 135,
   "metadata": {},
   "outputs": [],
   "source": [
    "choose_data.to_csv('/data/sharedleadership/choose_data.csv',index=False)"
   ]
  },
  {
   "cell_type": "markdown",
   "metadata": {},
   "source": [
    "##### top 10 probability"
   ]
  },
  {
   "cell_type": "code",
   "execution_count": 23,
   "metadata": {},
   "outputs": [],
   "source": [
    "e=['(2, 0, 0)', '(0, 2, 0)', '(0, 0, 2)', '(1, 1, 0)', '(0, 1, 1)', '(1, 0, 1)']"
   ]
  },
  {
   "cell_type": "code",
   "execution_count": 57,
   "metadata": {
    "collapsed": true
   },
   "outputs": [
    {
     "ename": "NameError",
     "evalue": "name 'e' is not defined",
     "output_type": "error",
     "traceback": [
      "\u001b[0;31m---------------------------------------------------------------------------\u001b[0m",
      "\u001b[0;31mNameError\u001b[0m                                 Traceback (most recent call last)",
      "\u001b[0;32m<ipython-input-57-5448307f2ff9>\u001b[0m in \u001b[0;36m<module>\u001b[0;34m\u001b[0m\n\u001b[0;32m----> 1\u001b[0;31m \u001b[0mchoose_data\u001b[0m\u001b[0;34m[\u001b[0m\u001b[0;34m'seniority1'\u001b[0m\u001b[0;34m]\u001b[0m\u001b[0;34m=\u001b[0m\u001b[0mpd\u001b[0m\u001b[0;34m.\u001b[0m\u001b[0mCategorical\u001b[0m\u001b[0;34m(\u001b[0m\u001b[0mchoose_data\u001b[0m\u001b[0;34m[\u001b[0m\u001b[0;34m'seniority1'\u001b[0m\u001b[0;34m]\u001b[0m\u001b[0;34m,\u001b[0m\u001b[0mcategories\u001b[0m\u001b[0;34m=\u001b[0m\u001b[0me\u001b[0m\u001b[0;34m,\u001b[0m\u001b[0mordered\u001b[0m\u001b[0;34m=\u001b[0m\u001b[0;32mTrue\u001b[0m\u001b[0;34m)\u001b[0m\u001b[0;34m\u001b[0m\u001b[0;34m\u001b[0m\u001b[0m\n\u001b[0m",
      "\u001b[0;31mNameError\u001b[0m: name 'e' is not defined"
     ]
    }
   ],
   "source": [
    "choose_data['seniority1']=pd.Categorical(choose_data['seniority1'],categories=e,ordered=True)"
   ]
  },
  {
   "cell_type": "code",
   "execution_count": 58,
   "metadata": {
    "scrolled": true
   },
   "outputs": [
    {
     "data": {
      "text/plain": [
       "93.39446593422889"
      ]
     },
     "execution_count": 58,
     "metadata": {},
     "output_type": "execute_result"
    }
   ],
   "source": [
    "np.percentile(choose_data['citation5_rank'],90)"
   ]
  },
  {
   "cell_type": "code",
   "execution_count": 59,
   "metadata": {},
   "outputs": [],
   "source": [
    "top=np.percentile(choose_data['citation5'],90)"
   ]
  },
  {
   "cell_type": "code",
   "execution_count": 60,
   "metadata": {
    "collapsed": true
   },
   "outputs": [
    {
     "name": "stderr",
     "output_type": "stream",
     "text": [
      "/home/xh3993/anaconda3/lib/python3.7/site-packages/ipykernel_launcher.py:1: SettingWithCopyWarning: \n",
      "A value is trying to be set on a copy of a slice from a DataFrame.\n",
      "Try using .loc[row_indexer,col_indexer] = value instead\n",
      "\n",
      "See the caveats in the documentation: http://pandas.pydata.org/pandas-docs/stable/user_guide/indexing.html#returning-a-view-versus-a-copy\n",
      "  \"\"\"Entry point for launching an IPython kernel.\n"
     ]
    }
   ],
   "source": [
    "choose_data['citation5_top10']=choose_data['citation5'].apply(lambda x: 1 if x>=top else 0)"
   ]
  },
  {
   "cell_type": "code",
   "execution_count": 61,
   "metadata": {},
   "outputs": [],
   "source": [
    "top_dict=dict(Counter(choose_data[choose_data['citation5_top10']==1]['seniority1']))"
   ]
  },
  {
   "cell_type": "code",
   "execution_count": 62,
   "metadata": {
    "scrolled": true
   },
   "outputs": [],
   "source": [
    "all_dict=dict(Counter(choose_data['seniority1']))"
   ]
  },
  {
   "cell_type": "code",
   "execution_count": 63,
   "metadata": {},
   "outputs": [],
   "source": [
    "a=pd.DataFrame()"
   ]
  },
  {
   "cell_type": "code",
   "execution_count": 64,
   "metadata": {},
   "outputs": [],
   "source": [
    "a['seniority1']=top_dict.keys()"
   ]
  },
  {
   "cell_type": "code",
   "execution_count": 65,
   "metadata": {},
   "outputs": [],
   "source": [
    "a['top']=a['seniority1'].apply(lambda x: top_dict[x])\n",
    "a['all']=a['seniority1'].apply(lambda x: all_dict[x])"
   ]
  },
  {
   "cell_type": "code",
   "execution_count": 66,
   "metadata": {},
   "outputs": [
    {
     "data": {
      "text/html": [
       "<div>\n",
       "<style scoped>\n",
       "    .dataframe tbody tr th:only-of-type {\n",
       "        vertical-align: middle;\n",
       "    }\n",
       "\n",
       "    .dataframe tbody tr th {\n",
       "        vertical-align: top;\n",
       "    }\n",
       "\n",
       "    .dataframe thead th {\n",
       "        text-align: right;\n",
       "    }\n",
       "</style>\n",
       "<table border=\"1\" class=\"dataframe\">\n",
       "  <thead>\n",
       "    <tr style=\"text-align: right;\">\n",
       "      <th></th>\n",
       "      <th>seniority1</th>\n",
       "      <th>top</th>\n",
       "      <th>all</th>\n",
       "    </tr>\n",
       "  </thead>\n",
       "  <tbody>\n",
       "    <tr>\n",
       "      <td>0</td>\n",
       "      <td>(1, 1, 0)</td>\n",
       "      <td>12620</td>\n",
       "      <td>115114</td>\n",
       "    </tr>\n",
       "    <tr>\n",
       "      <td>1</td>\n",
       "      <td>(0, 2, 0)</td>\n",
       "      <td>4040</td>\n",
       "      <td>41221</td>\n",
       "    </tr>\n",
       "    <tr>\n",
       "      <td>2</td>\n",
       "      <td>(2, 0, 0)</td>\n",
       "      <td>9665</td>\n",
       "      <td>92369</td>\n",
       "    </tr>\n",
       "    <tr>\n",
       "      <td>3</td>\n",
       "      <td>(1, 0, 1)</td>\n",
       "      <td>13793</td>\n",
       "      <td>133237</td>\n",
       "    </tr>\n",
       "    <tr>\n",
       "      <td>4</td>\n",
       "      <td>(0, 0, 2)</td>\n",
       "      <td>4798</td>\n",
       "      <td>54573</td>\n",
       "    </tr>\n",
       "    <tr>\n",
       "      <td>5</td>\n",
       "      <td>(0, 1, 1)</td>\n",
       "      <td>8032</td>\n",
       "      <td>85179</td>\n",
       "    </tr>\n",
       "  </tbody>\n",
       "</table>\n",
       "</div>"
      ],
      "text/plain": [
       "  seniority1    top     all\n",
       "0  (1, 1, 0)  12620  115114\n",
       "1  (0, 2, 0)   4040   41221\n",
       "2  (2, 0, 0)   9665   92369\n",
       "3  (1, 0, 1)  13793  133237\n",
       "4  (0, 0, 2)   4798   54573\n",
       "5  (0, 1, 1)   8032   85179"
      ]
     },
     "execution_count": 66,
     "metadata": {},
     "output_type": "execute_result"
    }
   ],
   "source": [
    "a"
   ]
  },
  {
   "cell_type": "code",
   "execution_count": 67,
   "metadata": {},
   "outputs": [],
   "source": [
    "a['prob']=a['top']/a['all']"
   ]
  },
  {
   "cell_type": "code",
   "execution_count": 68,
   "metadata": {},
   "outputs": [
    {
     "data": {
      "text/html": [
       "<div>\n",
       "<style scoped>\n",
       "    .dataframe tbody tr th:only-of-type {\n",
       "        vertical-align: middle;\n",
       "    }\n",
       "\n",
       "    .dataframe tbody tr th {\n",
       "        vertical-align: top;\n",
       "    }\n",
       "\n",
       "    .dataframe thead th {\n",
       "        text-align: right;\n",
       "    }\n",
       "</style>\n",
       "<table border=\"1\" class=\"dataframe\">\n",
       "  <thead>\n",
       "    <tr style=\"text-align: right;\">\n",
       "      <th></th>\n",
       "      <th>seniority1</th>\n",
       "      <th>top</th>\n",
       "      <th>all</th>\n",
       "      <th>prob</th>\n",
       "    </tr>\n",
       "  </thead>\n",
       "  <tbody>\n",
       "    <tr>\n",
       "      <td>0</td>\n",
       "      <td>(1, 1, 0)</td>\n",
       "      <td>12620</td>\n",
       "      <td>115114</td>\n",
       "      <td>0.109630</td>\n",
       "    </tr>\n",
       "    <tr>\n",
       "      <td>1</td>\n",
       "      <td>(0, 2, 0)</td>\n",
       "      <td>4040</td>\n",
       "      <td>41221</td>\n",
       "      <td>0.098008</td>\n",
       "    </tr>\n",
       "    <tr>\n",
       "      <td>2</td>\n",
       "      <td>(2, 0, 0)</td>\n",
       "      <td>9665</td>\n",
       "      <td>92369</td>\n",
       "      <td>0.104635</td>\n",
       "    </tr>\n",
       "    <tr>\n",
       "      <td>3</td>\n",
       "      <td>(1, 0, 1)</td>\n",
       "      <td>13793</td>\n",
       "      <td>133237</td>\n",
       "      <td>0.103522</td>\n",
       "    </tr>\n",
       "    <tr>\n",
       "      <td>4</td>\n",
       "      <td>(0, 0, 2)</td>\n",
       "      <td>4798</td>\n",
       "      <td>54573</td>\n",
       "      <td>0.087919</td>\n",
       "    </tr>\n",
       "    <tr>\n",
       "      <td>5</td>\n",
       "      <td>(0, 1, 1)</td>\n",
       "      <td>8032</td>\n",
       "      <td>85179</td>\n",
       "      <td>0.094296</td>\n",
       "    </tr>\n",
       "  </tbody>\n",
       "</table>\n",
       "</div>"
      ],
      "text/plain": [
       "  seniority1    top     all      prob\n",
       "0  (1, 1, 0)  12620  115114  0.109630\n",
       "1  (0, 2, 0)   4040   41221  0.098008\n",
       "2  (2, 0, 0)   9665   92369  0.104635\n",
       "3  (1, 0, 1)  13793  133237  0.103522\n",
       "4  (0, 0, 2)   4798   54573  0.087919\n",
       "5  (0, 1, 1)   8032   85179  0.094296"
      ]
     },
     "execution_count": 68,
     "metadata": {},
     "output_type": "execute_result"
    }
   ],
   "source": [
    "a"
   ]
  },
  {
   "cell_type": "code",
   "execution_count": 70,
   "metadata": {},
   "outputs": [],
   "source": [
    "def homo(x):\n",
    "    if (x=='(2, 0, 0)') or (x=='(0, 2, 0)') or (x=='(0, 0, 2)'):\n",
    "        return 'homogenous'\n",
    "    else:\n",
    "        return 'heterogenous'       "
   ]
  },
  {
   "cell_type": "code",
   "execution_count": 71,
   "metadata": {},
   "outputs": [],
   "source": [
    "a['type']=a['seniority1'].apply(lambda x: homo(x))"
   ]
  },
  {
   "cell_type": "code",
   "execution_count": 73,
   "metadata": {},
   "outputs": [],
   "source": [
    "e=['(2, 0, 0)', '(0, 2, 0)', '(0, 0, 2)', '(1, 1, 0)', '(0, 1, 1)', '(1, 0, 1)']"
   ]
  },
  {
   "cell_type": "code",
   "execution_count": 74,
   "metadata": {},
   "outputs": [],
   "source": [
    "a['seniority1']=pd.Categorical(a['seniority1'],categories=e,ordered=True)"
   ]
  },
  {
   "cell_type": "code",
   "execution_count": 75,
   "metadata": {},
   "outputs": [
    {
     "name": "stderr",
     "output_type": "stream",
     "text": [
      "/home/xh3993/anaconda3/lib/python3.7/site-packages/seaborn/algorithms.py:70: RuntimeWarning: Mean of empty slice.\n",
      "  return getattr(x, func)()\n",
      "/home/xh3993/anaconda3/lib/python3.7/site-packages/numpy/core/_methods.py:161: RuntimeWarning: invalid value encountered in double_scalars\n",
      "  ret = ret.dtype.type(ret / rcount)\n",
      "/home/xh3993/anaconda3/lib/python3.7/site-packages/seaborn/algorithms.py:70: RuntimeWarning: Mean of empty slice.\n",
      "  return getattr(x, func)()\n",
      "/home/xh3993/anaconda3/lib/python3.7/site-packages/numpy/core/_methods.py:161: RuntimeWarning: invalid value encountered in double_scalars\n",
      "  ret = ret.dtype.type(ret / rcount)\n"
     ]
    },
    {
     "data": {
      "image/png": "[encoded data removed]",
      "text/plain": [
       "<Figure size 432x288 with 1 Axes>"
      ]
     },
     "metadata": {
      "needs_background": "light"
     },
     "output_type": "display_data"
    }
   ],
   "source": [
    "plt.figure(figsize=(6,4))\n",
    "ax=sns.lineplot(data=a, x=\"seniority1\", y=\"prob\",hue='type',marker=\"s\",markersize=15,palette=\n",
    "               ['green','red'])\n",
    "plt.xlabel('Leader Categories(10-15, 15-20, 20+)',fontsize=12)\n",
    "plt.ylabel('Top 10% Hit Paper Probability ',fontsize=12)\n",
    "plt.legend(frameon=False, labels=['homogenous','heterogenous'])\n",
    "ax.spines['right'].set_visible(False)\n",
    "ax.spines['top'].set_visible(False)\n",
    "plt.show()"
   ]
  },
  {
   "cell_type": "markdown",
   "metadata": {},
   "source": [
    "##### mean percentile"
   ]
  },
  {
   "cell_type": "code",
   "execution_count": 21,
   "metadata": {},
   "outputs": [],
   "source": [
    "e=['(2, 0, 0)', '(0, 2, 0)', '(0, 0, 2)', '(1, 1, 0)', '(0, 1, 1)', '(1, 0, 1)']"
   ]
  },
  {
   "cell_type": "code",
   "execution_count": 33,
   "metadata": {
    "collapsed": true
   },
   "outputs": [
    {
     "name": "stdout",
     "output_type": "stream",
     "text": [
      "0\n",
      "1\n",
      "2\n",
      "3\n",
      "4\n",
      "5\n"
     ]
    }
   ],
   "source": [
    "data1=pd.DataFrame()\n",
    "for i,n in enumerate(e):\n",
    "    print(i)\n",
    "    _=choose_data[choose_data['seniority1']==n]\n",
    "    for q in range(10):\n",
    "        data1=data1.append(_.sample(10000,random_state=100))"
   ]
  },
  {
   "cell_type": "code",
   "execution_count": 34,
   "metadata": {},
   "outputs": [],
   "source": [
    "def homo(x):\n",
    "    if (x=='(2, 0, 0)') or (x=='(0, 2, 0)') or (x=='(0, 0, 2)'):\n",
    "        return 'homogenous'\n",
    "    else:\n",
    "        return 'heterogenous'       "
   ]
  },
  {
   "cell_type": "code",
   "execution_count": 35,
   "metadata": {},
   "outputs": [],
   "source": [
    "data1['type']=data1['seniority1'].apply(lambda x: homo(x))"
   ]
  },
  {
   "cell_type": "code",
   "execution_count": 36,
   "metadata": {},
   "outputs": [
    {
     "data": {
      "text/plain": [
       "600000"
      ]
     },
     "execution_count": 36,
     "metadata": {},
     "output_type": "execute_result"
    }
   ],
   "source": [
    "len(data1)"
   ]
  },
  {
   "cell_type": "code",
   "execution_count": 37,
   "metadata": {},
   "outputs": [],
   "source": [
    "data1['seniority1']=pd.Categorical(data1['seniority1'],categories=e,ordered=True)"
   ]
  },
  {
   "cell_type": "code",
   "execution_count": 40,
   "metadata": {},
   "outputs": [
    {
     "name": "stderr",
     "output_type": "stream",
     "text": [
      "/home/xh3993/anaconda3/lib/python3.7/site-packages/seaborn/algorithms.py:70: RuntimeWarning: Mean of empty slice.\n",
      "  return getattr(x, func)()\n",
      "/home/xh3993/anaconda3/lib/python3.7/site-packages/numpy/core/_methods.py:189: RuntimeWarning: invalid value encountered in double_scalars\n",
      "  ret = ret.dtype.type(ret / rcount)\n",
      "/home/xh3993/anaconda3/lib/python3.7/site-packages/seaborn/algorithms.py:70: RuntimeWarning: Mean of empty slice.\n",
      "  return getattr(x, func)()\n",
      "/home/xh3993/anaconda3/lib/python3.7/site-packages/numpy/core/_methods.py:189: RuntimeWarning: invalid value encountered in double_scalars\n",
      "  ret = ret.dtype.type(ret / rcount)\n"
     ]
    },
    {
     "data": {
      "image/png": "[encoded data removed]",
      "text/plain": [
       "<Figure size 432x288 with 1 Axes>"
      ]
     },
     "metadata": {
      "needs_background": "light"
     },
     "output_type": "display_data"
    }
   ],
   "source": [
    "plt.figure(figsize=(6,4))\n",
    "ax=sns.lineplot(data=data1, x=\"seniority1\", y=\"citation5_rank\",hue='type',marker=\"s\",markersize=15,palette=['green','red'])\n",
    "plt.xlabel('Leader Categories(10-15, 15-20, 20+)',fontsize=12)\n",
    "plt.ylabel('Mean 5-Year Citation Percentile',fontsize=12)\n",
    "plt.legend(frameon=False, labels=['homogenous','heterogenous'])\n",
    "ax.spines['right'].set_visible(False)\n",
    "ax.spines['top'].set_visible(False)\n",
    "# plt.savefig('/home/xh3993/sharedleadership/picture/homo_hete.png',dpi=300)\n",
    "plt.show()"
   ]
  },
  {
   "cell_type": "code",
   "execution_count": 80,
   "metadata": {},
   "outputs": [
    {
     "data": {
      "text/plain": [
       "seniority1\n",
       "(0, 0, 2)     4.0\n",
       "(0, 1, 1)     8.0\n",
       "(0, 2, 0)     1.0\n",
       "(1, 0, 1)    12.0\n",
       "(1, 1, 0)     5.0\n",
       "(2, 0, 0)     1.0\n",
       "Name: leader_range, dtype: float64"
      ]
     },
     "execution_count": 80,
     "metadata": {},
     "output_type": "execute_result"
    }
   ],
   "source": [
    "choose_data.groupby(['seniority1'])['leader_range'].median()"
   ]
  },
  {
   "cell_type": "markdown",
   "metadata": {},
   "source": [
    "##### robust test"
   ]
  },
  {
   "cell_type": "code",
   "execution_count": 110,
   "metadata": {},
   "outputs": [],
   "source": [
    "data=pd.read_csv('/data/sharedleadership/team2.csv')"
   ]
  },
  {
   "cell_type": "code",
   "execution_count": 113,
   "metadata": {},
   "outputs": [],
   "source": [
    "data['sci_age']=data['sci_age'].apply(lambda x: eval(x))"
   ]
  },
  {
   "cell_type": "code",
   "execution_count": 112,
   "metadata": {},
   "outputs": [],
   "source": [
    "def seniority_7_12_17(x): #7_12_17\n",
    "    return 1 if len([i for i in x if i>=7])==0 else 0,len([i for i in x if (i>=7)&(i<12)]),len([i for i in x if (i>=12)&(i<17)]),len([i for i in x if i>=17])"
   ]
  },
  {
   "cell_type": "code",
   "execution_count": 118,
   "metadata": {},
   "outputs": [],
   "source": [
    "data['seniority_7_12_17']=data['sci_age'].apply(lambda x: seniority_7_12_17(x))\n",
    "data['seniority_n_7_12_17']=data['seniority_7_12_17'].apply(lambda x: np.sum(x))\n",
    "data['seniority1_7_12_17']=data['seniority_7_12_17'].apply(lambda x: str(x[1:]))"
   ]
  },
  {
   "cell_type": "code",
   "execution_count": 120,
   "metadata": {},
   "outputs": [],
   "source": [
    "e=['(2, 0, 0)', '(0, 2, 0)', '(0, 0, 2)', '(1, 1, 0)', '(0, 1, 1)', '(1, 0, 1)']"
   ]
  },
  {
   "cell_type": "code",
   "execution_count": 121,
   "metadata": {},
   "outputs": [],
   "source": [
    "def position_7(x):\n",
    "    a=[]\n",
    "    for e,i in enumerate(x):\n",
    "        if i>=7:\n",
    "            a.append(e)\n",
    "    return a\n",
    "data['position']=data['sci_age'].apply(lambda x: position_7(x))\n",
    "data['last_two']=data['len'].apply(lambda x: [x-2,x-1])\n",
    "data['first_last']=data['len'].apply(lambda x: [0,x-1])\n",
    "choose_data=data[(data['position']==data['last_two'])|(data['position']==data['first_last'])]"
   ]
  },
  {
   "cell_type": "code",
   "execution_count": 122,
   "metadata": {},
   "outputs": [
    {
     "name": "stdout",
     "output_type": "stream",
     "text": [
      "0\n",
      "1\n",
      "2\n",
      "3\n",
      "4\n",
      "5\n"
     ]
    }
   ],
   "source": [
    "data1=pd.DataFrame()\n",
    "for i,n in enumerate(e):\n",
    "    print(i)\n",
    "    _=choose_data[choose_data['seniority1_7_12_17']==n]\n",
    "    for q in range(10):\n",
    "        data1=data1.append(_.sample(10000,random_state=100))"
   ]
  },
  {
   "cell_type": "code",
   "execution_count": 124,
   "metadata": {},
   "outputs": [],
   "source": [
    "def homo(x):\n",
    "    if (x=='(2, 0, 0)') or (x=='(0, 2, 0)') or (x=='(0, 0, 2)'):\n",
    "        return 'homogenous'\n",
    "    else:\n",
    "        return 'heterogenous'       "
   ]
  },
  {
   "cell_type": "code",
   "execution_count": 128,
   "metadata": {},
   "outputs": [],
   "source": [
    "data1['type']=data1['seniority1_7_12_17'].apply(lambda x: homo(x))"
   ]
  },
  {
   "cell_type": "code",
   "execution_count": 129,
   "metadata": {},
   "outputs": [],
   "source": [
    "data1['seniority1_7_12_17']=pd.Categorical(data1['seniority1_7_12_17'],categories=e,ordered=True)"
   ]
  },
  {
   "cell_type": "code",
   "execution_count": null,
   "metadata": {},
   "outputs": [],
   "source": []
  },
  {
   "cell_type": "code",
   "execution_count": null,
   "metadata": {},
   "outputs": [],
   "source": []
  },
  {
   "cell_type": "code",
   "execution_count": 2,
   "metadata": {},
   "outputs": [
    {
     "name": "stderr",
     "output_type": "stream",
     "text": [
      "/home/xh3993/anaconda3/lib/python3.7/site-packages/IPython/core/interactiveshell.py:3058: DtypeWarning: Columns (37,38) have mixed types.Specify dtype option on import or set low_memory=False.\n",
      "  interactivity=interactivity, compiler=compiler, result=result)\n"
     ]
    }
   ],
   "source": [
    "choose_data=pd.read_csv('/data/sharedleadership/choose_data.csv')"
   ]
  },
  {
   "cell_type": "code",
   "execution_count": 5,
   "metadata": {},
   "outputs": [],
   "source": [
    "choose_data['sci_age']=choose_data['sci_age'].apply(lambda x: eval(x))"
   ]
  },
  {
   "cell_type": "code",
   "execution_count": 45,
   "metadata": {},
   "outputs": [],
   "source": [
    "def seniority_13_18_23(x): #13_18_23\n",
    "    return 1 if len([i for i in x if i>=13])==0 else 0,len([i for i in x if (i>=13)&(i<18)]),len([i for i in x if (i>=18)&(i<23)]),len([i for i in x if i>=23])"
   ]
  },
  {
   "cell_type": "code",
   "execution_count": 46,
   "metadata": {},
   "outputs": [],
   "source": [
    "choose_data['seniority_13_18_23']=choose_data['sci_age'].apply(lambda x: seniority_13_18_23(x))\n",
    "choose_data['seniority_n_13_18_23']=choose_data['seniority_13_18_23'].apply(lambda x: np.sum(x))\n",
    "choose_data['seniority1_13_18_23']=choose_data['seniority_13_18_23'].apply(lambda x: str(x[1:]))"
   ]
  },
  {
   "cell_type": "code",
   "execution_count": 47,
   "metadata": {},
   "outputs": [
    {
     "data": {
      "text/plain": [
       "Counter({'(0, 0, 0)': 40483,\n",
       "         '(2, 0, 0)': 59508,\n",
       "         '(1, 0, 0)': 85923,\n",
       "         '(1, 1, 0)': 67040,\n",
       "         '(0, 1, 0)': 57516,\n",
       "         '(1, 0, 1)': 67469,\n",
       "         '(0, 0, 1)': 54612,\n",
       "         '(0, 1, 1)': 41159,\n",
       "         '(0, 0, 2)': 25514,\n",
       "         '(0, 2, 0)': 22469})"
      ]
     },
     "execution_count": 47,
     "metadata": {},
     "output_type": "execute_result"
    }
   ],
   "source": [
    "Counter(choose_data['seniority1_13_18_23'])"
   ]
  },
  {
   "cell_type": "code",
   "execution_count": 59,
   "metadata": {},
   "outputs": [
    {
     "name": "stdout",
     "output_type": "stream",
     "text": [
      "0\n",
      "1\n",
      "2\n",
      "3\n",
      "4\n",
      "5\n"
     ]
    }
   ],
   "source": [
    "data2=pd.DataFrame()\n",
    "for i,n in enumerate(e):\n",
    "    print(i)\n",
    "    _=choose_data[choose_data['seniority1_13_18_23']==n]\n",
    "    for q in range(10):\n",
    "        data2=data2.append(_.sample(10000,random_state=100))"
   ]
  },
  {
   "cell_type": "code",
   "execution_count": 65,
   "metadata": {},
   "outputs": [],
   "source": [
    "data2['type']=data2['seniority1_13_18_23'].apply(lambda x: homo(x))"
   ]
  },
  {
   "cell_type": "code",
   "execution_count": 66,
   "metadata": {},
   "outputs": [],
   "source": [
    "data2['seniority1_13_18_23']=pd.Categorical(data2['seniority1_13_18_23'],categories=e,ordered=True)"
   ]
  },
  {
   "cell_type": "code",
   "execution_count": 48,
   "metadata": {},
   "outputs": [],
   "source": [
    "def seniority_15_20_25(x): #15_20_25\n",
    "    return 1 if len([i for i in x if i>=15])==0 else 0,len([i for i in x if (i>=15)&(i<20)]),len([i for i in x if (i>=20)&(i<25)]),len([i for i in x if i>=25])"
   ]
  },
  {
   "cell_type": "code",
   "execution_count": 49,
   "metadata": {},
   "outputs": [],
   "source": [
    "choose_data['seniority_15_20_25']=choose_data['sci_age'].apply(lambda x: seniority_15_20_25(x))\n",
    "choose_data['seniority_n_15_20_25']=choose_data['seniority_15_20_25'].apply(lambda x: np.sum(x))\n",
    "choose_data['seniority1_15_20_25']=choose_data['seniority_15_20_25'].apply(lambda x: str(x[1:]))"
   ]
  },
  {
   "cell_type": "code",
   "execution_count": 50,
   "metadata": {
    "scrolled": true
   },
   "outputs": [
    {
     "data": {
      "text/plain": [
       "Counter({'(0, 0, 0)': 92369,\n",
       "         '(1, 0, 0)': 115114,\n",
       "         '(1, 1, 0)': 44164,\n",
       "         '(1, 0, 1)': 41015,\n",
       "         '(2, 0, 0)': 41221,\n",
       "         '(0, 0, 1)': 61446,\n",
       "         '(0, 1, 0)': 71791,\n",
       "         '(0, 2, 0)': 14618,\n",
       "         '(0, 1, 1)': 24913,\n",
       "         '(0, 0, 2)': 15042})"
      ]
     },
     "execution_count": 50,
     "metadata": {},
     "output_type": "execute_result"
    }
   ],
   "source": [
    "Counter(choose_data['seniority1_15_20_25'])"
   ]
  },
  {
   "cell_type": "code",
   "execution_count": 68,
   "metadata": {},
   "outputs": [
    {
     "name": "stdout",
     "output_type": "stream",
     "text": [
      "0\n",
      "1\n",
      "2\n",
      "3\n",
      "4\n",
      "5\n"
     ]
    }
   ],
   "source": [
    "data3=pd.DataFrame()\n",
    "for i,n in enumerate(e):\n",
    "    print(i)\n",
    "    _=choose_data[choose_data['seniority1_15_20_25']==n]\n",
    "    for q in range(10):\n",
    "        data3=data3.append(_.sample(10000,random_state=100))"
   ]
  },
  {
   "cell_type": "code",
   "execution_count": 69,
   "metadata": {},
   "outputs": [],
   "source": [
    "data3['type']=data3['seniority1_15_20_25'].apply(lambda x: homo(x))"
   ]
  },
  {
   "cell_type": "code",
   "execution_count": 71,
   "metadata": {},
   "outputs": [],
   "source": [
    "data3['seniority1_15_20_25']=pd.Categorical(data3['seniority1_15_20_25'],categories=e,ordered=True)"
   ]
  },
  {
   "cell_type": "code",
   "execution_count": 74,
   "metadata": {},
   "outputs": [],
   "source": [
    "def seniority_10_17_24(x):#10_17_24\n",
    "    return 1 if len([i for i in x if i>=10])==0 else 0,len([i for i in x if (i>=10)&(i<17)]),len([i for i in x if (i>=17)&(i<24)]),len([i for i in x if i>=24])"
   ]
  },
  {
   "cell_type": "code",
   "execution_count": 75,
   "metadata": {},
   "outputs": [],
   "source": [
    "choose_data['seniority_10_17_24']=choose_data['sci_age'].apply(lambda x: seniority_10_17_24(x))\n",
    "choose_data['seniority_n_10_17_24']=choose_data['seniority_10_17_24'].apply(lambda x: np.sum(x))\n",
    "choose_data['seniority1_10_17_24']=choose_data['seniority_10_17_24'].apply(lambda x: str(x[1:]))"
   ]
  },
  {
   "cell_type": "code",
   "execution_count": 76,
   "metadata": {},
   "outputs": [
    {
     "data": {
      "text/plain": [
       "Counter({'(2, 0, 0)': 154057,\n",
       "         '(1, 1, 0)': 159872,\n",
       "         '(1, 0, 1)': 94648,\n",
       "         '(0, 1, 1)': 50237,\n",
       "         '(0, 2, 0)': 43336,\n",
       "         '(0, 0, 2)': 19543})"
      ]
     },
     "execution_count": 76,
     "metadata": {},
     "output_type": "execute_result"
    }
   ],
   "source": [
    "Counter(choose_data['seniority1_10_17_24'])"
   ]
  },
  {
   "cell_type": "code",
   "execution_count": 77,
   "metadata": {},
   "outputs": [
    {
     "name": "stdout",
     "output_type": "stream",
     "text": [
      "0\n",
      "1\n",
      "2\n",
      "3\n",
      "4\n",
      "5\n"
     ]
    }
   ],
   "source": [
    "data4=pd.DataFrame()\n",
    "for i,n in enumerate(e):\n",
    "    print(i)\n",
    "    _=choose_data[choose_data['seniority1_10_17_24']==n]\n",
    "    for q in range(10):\n",
    "        data4=data4.append(_.sample(10000,random_state=100))"
   ]
  },
  {
   "cell_type": "code",
   "execution_count": 78,
   "metadata": {},
   "outputs": [],
   "source": [
    "data4['type']=data4['seniority1_10_17_24'].apply(lambda x: homo(x))\n",
    "data4['seniority1_10_17_24']=pd.Categorical(data4['seniority1_10_17_24'],categories=e,ordered=True)"
   ]
  },
  {
   "cell_type": "code",
   "execution_count": 82,
   "metadata": {},
   "outputs": [],
   "source": [
    "def seniority_10_20_30(x):#10_20_30\n",
    "    return 1 if len([i for i in x if i>=10])==0 else 0,len([i for i in x if (i>=10)&(i<20)]),len([i for i in x if (i>=20)&(i<30)]),len([i for i in x if i>=30])"
   ]
  },
  {
   "cell_type": "code",
   "execution_count": 83,
   "metadata": {},
   "outputs": [],
   "source": [
    "choose_data['seniority_10_20_30']=choose_data['sci_age'].apply(lambda x: seniority_10_20_30(x))\n",
    "choose_data['seniority_n_10_20_30']=choose_data['seniority_10_20_30'].apply(lambda x: np.sum(x))\n",
    "choose_data['seniority1_10_20_30']=choose_data['seniority_10_20_30'].apply(lambda x: str(x[1:]))"
   ]
  },
  {
   "cell_type": "code",
   "execution_count": 84,
   "metadata": {},
   "outputs": [
    {
     "data": {
      "text/plain": [
       "Counter({'(2, 0, 0)': 248704,\n",
       "         '(1, 1, 0)': 177697,\n",
       "         '(1, 0, 1)': 40719,\n",
       "         '(0, 2, 0)': 33578,\n",
       "         '(0, 1, 1)': 17094,\n",
       "         '(0, 0, 2)': 3901})"
      ]
     },
     "execution_count": 84,
     "metadata": {},
     "output_type": "execute_result"
    }
   ],
   "source": [
    "Counter(choose_data['seniority1_10_20_30'])"
   ]
  },
  {
   "cell_type": "code",
   "execution_count": 89,
   "metadata": {},
   "outputs": [
    {
     "name": "stdout",
     "output_type": "stream",
     "text": [
      "0\n",
      "1\n",
      "2\n",
      "3\n",
      "4\n",
      "5\n"
     ]
    }
   ],
   "source": [
    "data5=pd.DataFrame()\n",
    "for i,n in enumerate(e):\n",
    "    print(i)\n",
    "    _=choose_data[choose_data['seniority1_10_20_30']==n]\n",
    "    for q in range(30):\n",
    "        data5=data5.append(_.sample(3901,random_state=100))"
   ]
  },
  {
   "cell_type": "code",
   "execution_count": 94,
   "metadata": {},
   "outputs": [],
   "source": [
    "data5['type']=data5['seniority1_10_20_30'].apply(lambda x: homo(x))\n",
    "data5['seniority1_10_20_30']=pd.Categorical(data5['seniority1_10_20_30'],categories=e,ordered=True)"
   ]
  },
  {
   "cell_type": "code",
   "execution_count": 134,
   "metadata": {
    "scrolled": false
   },
   "outputs": [
    {
     "name": "stderr",
     "output_type": "stream",
     "text": [
      "/home/xh3993/anaconda3/lib/python3.7/site-packages/seaborn/algorithms.py:70: RuntimeWarning: Mean of empty slice.\n",
      "  return getattr(x, func)()\n",
      "/home/xh3993/anaconda3/lib/python3.7/site-packages/numpy/core/_methods.py:189: RuntimeWarning: invalid value encountered in double_scalars\n",
      "  ret = ret.dtype.type(ret / rcount)\n",
      "/home/xh3993/anaconda3/lib/python3.7/site-packages/seaborn/algorithms.py:70: RuntimeWarning: Mean of empty slice.\n",
      "  return getattr(x, func)()\n",
      "/home/xh3993/anaconda3/lib/python3.7/site-packages/numpy/core/_methods.py:189: RuntimeWarning: invalid value encountered in double_scalars\n",
      "  ret = ret.dtype.type(ret / rcount)\n",
      "/home/xh3993/anaconda3/lib/python3.7/site-packages/seaborn/algorithms.py:70: RuntimeWarning: Mean of empty slice.\n",
      "  return getattr(x, func)()\n",
      "/home/xh3993/anaconda3/lib/python3.7/site-packages/numpy/core/_methods.py:189: RuntimeWarning: invalid value encountered in double_scalars\n",
      "  ret = ret.dtype.type(ret / rcount)\n",
      "/home/xh3993/anaconda3/lib/python3.7/site-packages/seaborn/algorithms.py:70: RuntimeWarning: Mean of empty slice.\n",
      "  return getattr(x, func)()\n",
      "/home/xh3993/anaconda3/lib/python3.7/site-packages/numpy/core/_methods.py:189: RuntimeWarning: invalid value encountered in double_scalars\n",
      "  ret = ret.dtype.type(ret / rcount)\n",
      "/home/xh3993/anaconda3/lib/python3.7/site-packages/seaborn/algorithms.py:70: RuntimeWarning: Mean of empty slice.\n",
      "  return getattr(x, func)()\n",
      "/home/xh3993/anaconda3/lib/python3.7/site-packages/numpy/core/_methods.py:189: RuntimeWarning: invalid value encountered in double_scalars\n",
      "  ret = ret.dtype.type(ret / rcount)\n",
      "/home/xh3993/anaconda3/lib/python3.7/site-packages/seaborn/algorithms.py:70: RuntimeWarning: Mean of empty slice.\n",
      "  return getattr(x, func)()\n",
      "/home/xh3993/anaconda3/lib/python3.7/site-packages/numpy/core/_methods.py:189: RuntimeWarning: invalid value encountered in double_scalars\n",
      "  ret = ret.dtype.type(ret / rcount)\n",
      "/home/xh3993/anaconda3/lib/python3.7/site-packages/seaborn/algorithms.py:70: RuntimeWarning: Mean of empty slice.\n",
      "  return getattr(x, func)()\n",
      "/home/xh3993/anaconda3/lib/python3.7/site-packages/numpy/core/_methods.py:189: RuntimeWarning: invalid value encountered in double_scalars\n",
      "  ret = ret.dtype.type(ret / rcount)\n",
      "/home/xh3993/anaconda3/lib/python3.7/site-packages/seaborn/algorithms.py:70: RuntimeWarning: Mean of empty slice.\n",
      "  return getattr(x, func)()\n",
      "/home/xh3993/anaconda3/lib/python3.7/site-packages/numpy/core/_methods.py:189: RuntimeWarning: invalid value encountered in double_scalars\n",
      "  ret = ret.dtype.type(ret / rcount)\n"
     ]
    },
    {
     "data": {
      "image/png": "[encoded data removed]",
      "text/plain": [
       "<Figure size 720x576 with 4 Axes>"
      ]
     },
     "metadata": {
      "needs_background": "light"
     },
     "output_type": "display_data"
    }
   ],
   "source": [
    "fig=plt.figure(figsize=(10,8))\n",
    "\n",
    "ax = plt.subplot(2, 2, 1)\n",
    "ax=sns.lineplot(data=data1, x=\"seniority1_7_12_17\", y=\"citation5_rank\",hue='type',marker=\"s\",markersize=15,palette=['green','red'])\n",
    "plt.xlabel('Leader Categories(7-12, 12-17, 17+)',fontsize=12)\n",
    "plt.ylabel('Mean 5-Year Citation Percentile',fontsize=12)\n",
    "plt.legend(frameon=False, labels=['homogenous','heterogenous'],loc='lower right')\n",
    "b=ax.get_ylim()[0]+(ax.get_ylim()[1]-ax.get_ylim()[0])*0.9\n",
    "plt.text(0,b,'a',fontsize=20)\n",
    "ax.spines['right'].set_visible(False)\n",
    "ax.spines['top'].set_visible(False)\n",
    "\n",
    "ax = plt.subplot(2, 2, 2)\n",
    "ax=sns.lineplot(data=data2, x=\"seniority1_13_18_23\", y=\"citation5_rank\",hue='type',marker=\"s\",markersize=15,palette=['green','red'])\n",
    "plt.xlabel('Leader Categories(13-18, 18-23, 23+)',fontsize=12)\n",
    "plt.ylabel('Mean 5-Year Citation Percentile',fontsize=12)\n",
    "ax.legend_.remove()\n",
    "b=ax.get_ylim()[0]+(ax.get_ylim()[1]-ax.get_ylim()[0])*0.9\n",
    "plt.text(0,b,'b',fontsize=20)\n",
    "ax.spines['right'].set_visible(False)\n",
    "ax.spines['top'].set_visible(False)\n",
    "\n",
    "\n",
    "ax = plt.subplot(2, 2, 3)\n",
    "ax=sns.lineplot(data=data3, x=\"seniority1_15_20_25\", y=\"citation5_rank\",hue='type',marker=\"s\",markersize=15,palette=['green','red'])\n",
    "plt.xlabel('Leader Categories(15-20, 20-25, 25+)',fontsize=12)\n",
    "plt.ylabel('Mean 5-Year Citation Percentile',fontsize=12)\n",
    "ax.legend_.remove()\n",
    "b=ax.get_ylim()[0]+(ax.get_ylim()[1]-ax.get_ylim()[0])*0.9\n",
    "plt.text(0,b,'c',fontsize=20)\n",
    "ax.spines['right'].set_visible(False)\n",
    "ax.spines['top'].set_visible(False)\n",
    "\n",
    "ax = plt.subplot(2, 2, 4)\n",
    "ax=sns.lineplot(data=data4, x=\"seniority1_10_17_24\", y=\"citation5_rank\",hue='type',marker=\"s\",markersize=15,palette=['green','red'])\n",
    "plt.xlabel('Leader Categories(10-17, 17-24, 24+)',fontsize=12)\n",
    "plt.ylabel('Mean 5-Year Citation Percentile',fontsize=12)\n",
    "ax.legend_.remove()\n",
    "b=ax.get_ylim()[0]+(ax.get_ylim()[1]-ax.get_ylim()[0])*0.9\n",
    "plt.text(0,b,'d',fontsize=20)\n",
    "ax.spines['right'].set_visible(False)\n",
    "ax.spines['top'].set_visible(False)\n",
    "\n",
    "\n",
    "plt.tight_layout()\n",
    "plt.savefig('/home/xh3993/sharedleadership/picture/homo_hete_robust.png',dpi=300)\n",
    "plt.show()"
   ]
  },
  {
   "cell_type": "code",
   "execution_count": null,
   "metadata": {},
   "outputs": [],
   "source": []
  },
  {
   "cell_type": "code",
   "execution_count": null,
   "metadata": {},
   "outputs": [],
   "source": []
  },
  {
   "cell_type": "markdown",
   "metadata": {},
   "source": [
    "##### continous variables"
   ]
  },
  {
   "cell_type": "code",
   "execution_count": 83,
   "metadata": {},
   "outputs": [],
   "source": [
    "a=choose_data.groupby(['leader_range'])['citation5_rank'].mean().reset_index()"
   ]
  },
  {
   "cell_type": "code",
   "execution_count": 86,
   "metadata": {},
   "outputs": [],
   "source": [
    "a=a[a['leader_range']<=16]"
   ]
  },
  {
   "cell_type": "code",
   "execution_count": 87,
   "metadata": {},
   "outputs": [
    {
     "data": {
      "image/png": "[encoded data removed]",
      "text/plain": [
       "<Figure size 396x360 with 1 Axes>"
      ]
     },
     "metadata": {},
     "output_type": "display_data"
    }
   ],
   "source": [
    "sns.set_style(style='white') \n",
    "sns.lmplot(x=\"leader_range\", y=\"citation5_rank\", data=a,line_kws={'color': 'orange'},scatter_kws={'color': 'orange','s':150}, fit_reg=True,legend=False,markers='s',height=5, aspect=1.1)\n",
    "\n",
    "plt.axvline(x=1,color='grey',ls='--',alpha=0.5)\n",
    "plt.text(1.1,54.5,'(2,0,0) (0,2,0)',rotation=90)\n",
    "plt.axvline(x=4,color='grey',ls='--',alpha=0.5)\n",
    "plt.text(4.1,54.5,'(0,0,2)',rotation=90)\n",
    "plt.axvline(x=5,color='grey',ls='--',alpha=0.5)\n",
    "plt.text(5.1,54.5,'(1,1,0)',rotation=90)\n",
    "plt.axvline(x=7,color='grey',ls='--',alpha=0.5)\n",
    "plt.text(8.1,54.5,'(0,1,1)',rotation=90)\n",
    "plt.axvline(x=12,color='grey',ls='--',alpha=0.5)\n",
    "plt.text(12.1,54.5,'(1,0,1)',rotation=90)\n",
    "\n",
    "plt.xlabel(\"Difference of Leaders' Career Age\",fontsize=12)\n",
    "plt.ylabel('Mean 5-Year Citation Percentile',fontsize=12)\n",
    "plt.xticks([0,4,8,12,16])\n",
    "plt.savefig('/home/xh3993/sharedleadership/picture/leader_range.png',dpi=300)\n",
    "plt.show()"
   ]
  },
  {
   "cell_type": "code",
   "execution_count": 70,
   "metadata": {
    "collapsed": true
   },
   "outputs": [
    {
     "name": "stderr",
     "output_type": "stream",
     "text": [
      "/home/xh3993/anaconda3/lib/python3.7/site-packages/ipykernel_launcher.py:1: SettingWithCopyWarning: \n",
      "A value is trying to be set on a copy of a slice from a DataFrame.\n",
      "Try using .loc[row_indexer,col_indexer] = value instead\n",
      "\n",
      "See the caveats in the documentation: https://pandas.pydata.org/pandas-docs/stable/user_guide/indexing.html#returning-a-view-versus-a-copy\n",
      "  \"\"\"Entry point for launching an IPython kernel.\n"
     ]
    }
   ],
   "source": [
    "choose_data['first']=choose_data['sci_age'].apply(lambda x: x[0])"
   ]
  },
  {
   "cell_type": "code",
   "execution_count": 71,
   "metadata": {},
   "outputs": [],
   "source": [
    "data_senior=choose_data[choose_data['first']<10]"
   ]
  },
  {
   "cell_type": "code",
   "execution_count": 72,
   "metadata": {
    "scrolled": true
   },
   "outputs": [
    {
     "data": {
      "text/plain": [
       "351140"
      ]
     },
     "execution_count": 72,
     "metadata": {},
     "output_type": "execute_result"
    }
   ],
   "source": [
    "len(data_senior)"
   ]
  },
  {
   "cell_type": "code",
   "execution_count": 73,
   "metadata": {},
   "outputs": [],
   "source": [
    "a=data_senior.groupby(['seniority1','first'])['citation5_rank'].mean().reset_index()"
   ]
  },
  {
   "cell_type": "code",
   "execution_count": 74,
   "metadata": {},
   "outputs": [],
   "source": [
    "a['mean']=a.apply(lambda x: (x['citation5_rank']-a[a['first']==x['first']]['citation5_rank'].mean())/a[a['first']==x['first']]['citation5_rank'].std(),axis=1)"
   ]
  },
  {
   "cell_type": "code",
   "execution_count": 75,
   "metadata": {},
   "outputs": [],
   "source": [
    "a['seniority1']=pd.Categorical(a['seniority1'],categories=e,ordered=True)"
   ]
  },
  {
   "cell_type": "code",
   "execution_count": 76,
   "metadata": {},
   "outputs": [],
   "source": [
    "a['type']=a['seniority1'].apply(lambda x: homo(x))"
   ]
  },
  {
   "cell_type": "code",
   "execution_count": 77,
   "metadata": {},
   "outputs": [],
   "source": [
    "a['student']=a['first']"
   ]
  },
  {
   "cell_type": "code",
   "execution_count": 79,
   "metadata": {},
   "outputs": [
    {
     "name": "stderr",
     "output_type": "stream",
     "text": [
      "/home/xh3993/anaconda3/lib/python3.7/site-packages/seaborn/algorithms.py:70: RuntimeWarning: Mean of empty slice.\n",
      "  return getattr(x, func)()\n",
      "/home/xh3993/anaconda3/lib/python3.7/site-packages/numpy/core/_methods.py:189: RuntimeWarning: invalid value encountered in double_scalars\n",
      "  ret = ret.dtype.type(ret / rcount)\n",
      "/home/xh3993/anaconda3/lib/python3.7/site-packages/seaborn/algorithms.py:70: RuntimeWarning: Mean of empty slice.\n",
      "  return getattr(x, func)()\n",
      "/home/xh3993/anaconda3/lib/python3.7/site-packages/numpy/core/_methods.py:189: RuntimeWarning: invalid value encountered in double_scalars\n",
      "  ret = ret.dtype.type(ret / rcount)\n",
      "/home/xh3993/anaconda3/lib/python3.7/site-packages/seaborn/algorithms.py:70: RuntimeWarning: Mean of empty slice.\n",
      "  return getattr(x, func)()\n",
      "/home/xh3993/anaconda3/lib/python3.7/site-packages/numpy/core/_methods.py:189: RuntimeWarning: invalid value encountered in double_scalars\n",
      "  ret = ret.dtype.type(ret / rcount)\n",
      "/home/xh3993/anaconda3/lib/python3.7/site-packages/seaborn/algorithms.py:70: RuntimeWarning: Mean of empty slice.\n",
      "  return getattr(x, func)()\n",
      "/home/xh3993/anaconda3/lib/python3.7/site-packages/numpy/core/_methods.py:189: RuntimeWarning: invalid value encountered in double_scalars\n",
      "  ret = ret.dtype.type(ret / rcount)\n",
      "/home/xh3993/anaconda3/lib/python3.7/site-packages/seaborn/algorithms.py:70: RuntimeWarning: Mean of empty slice.\n",
      "  return getattr(x, func)()\n",
      "/home/xh3993/anaconda3/lib/python3.7/site-packages/numpy/core/_methods.py:189: RuntimeWarning: invalid value encountered in double_scalars\n",
      "  ret = ret.dtype.type(ret / rcount)\n",
      "/home/xh3993/anaconda3/lib/python3.7/site-packages/seaborn/algorithms.py:70: RuntimeWarning: Mean of empty slice.\n",
      "  return getattr(x, func)()\n",
      "/home/xh3993/anaconda3/lib/python3.7/site-packages/numpy/core/_methods.py:189: RuntimeWarning: invalid value encountered in double_scalars\n",
      "  ret = ret.dtype.type(ret / rcount)\n",
      "/home/xh3993/anaconda3/lib/python3.7/site-packages/seaborn/algorithms.py:70: RuntimeWarning: Mean of empty slice.\n",
      "  return getattr(x, func)()\n",
      "/home/xh3993/anaconda3/lib/python3.7/site-packages/numpy/core/_methods.py:189: RuntimeWarning: invalid value encountered in double_scalars\n",
      "  ret = ret.dtype.type(ret / rcount)\n",
      "/home/xh3993/anaconda3/lib/python3.7/site-packages/seaborn/algorithms.py:70: RuntimeWarning: Mean of empty slice.\n",
      "  return getattr(x, func)()\n",
      "/home/xh3993/anaconda3/lib/python3.7/site-packages/numpy/core/_methods.py:189: RuntimeWarning: invalid value encountered in double_scalars\n",
      "  ret = ret.dtype.type(ret / rcount)\n",
      "/home/xh3993/anaconda3/lib/python3.7/site-packages/seaborn/algorithms.py:70: RuntimeWarning: Mean of empty slice.\n",
      "  return getattr(x, func)()\n",
      "/home/xh3993/anaconda3/lib/python3.7/site-packages/numpy/core/_methods.py:189: RuntimeWarning: invalid value encountered in double_scalars\n",
      "  ret = ret.dtype.type(ret / rcount)\n",
      "/home/xh3993/anaconda3/lib/python3.7/site-packages/seaborn/algorithms.py:70: RuntimeWarning: Mean of empty slice.\n",
      "  return getattr(x, func)()\n",
      "/home/xh3993/anaconda3/lib/python3.7/site-packages/numpy/core/_methods.py:189: RuntimeWarning: invalid value encountered in double_scalars\n",
      "  ret = ret.dtype.type(ret / rcount)\n",
      "/home/xh3993/anaconda3/lib/python3.7/site-packages/seaborn/algorithms.py:70: RuntimeWarning: Mean of empty slice.\n",
      "  return getattr(x, func)()\n",
      "/home/xh3993/anaconda3/lib/python3.7/site-packages/numpy/core/_methods.py:189: RuntimeWarning: invalid value encountered in double_scalars\n",
      "  ret = ret.dtype.type(ret / rcount)\n",
      "/home/xh3993/anaconda3/lib/python3.7/site-packages/seaborn/algorithms.py:70: RuntimeWarning: Mean of empty slice.\n",
      "  return getattr(x, func)()\n",
      "/home/xh3993/anaconda3/lib/python3.7/site-packages/numpy/core/_methods.py:189: RuntimeWarning: invalid value encountered in double_scalars\n",
      "  ret = ret.dtype.type(ret / rcount)\n",
      "/home/xh3993/anaconda3/lib/python3.7/site-packages/seaborn/algorithms.py:70: RuntimeWarning: Mean of empty slice.\n",
      "  return getattr(x, func)()\n",
      "/home/xh3993/anaconda3/lib/python3.7/site-packages/numpy/core/_methods.py:189: RuntimeWarning: invalid value encountered in double_scalars\n",
      "  ret = ret.dtype.type(ret / rcount)\n",
      "/home/xh3993/anaconda3/lib/python3.7/site-packages/seaborn/algorithms.py:70: RuntimeWarning: Mean of empty slice.\n",
      "  return getattr(x, func)()\n",
      "/home/xh3993/anaconda3/lib/python3.7/site-packages/numpy/core/_methods.py:189: RuntimeWarning: invalid value encountered in double_scalars\n",
      "  ret = ret.dtype.type(ret / rcount)\n",
      "/home/xh3993/anaconda3/lib/python3.7/site-packages/seaborn/algorithms.py:70: RuntimeWarning: Mean of empty slice.\n",
      "  return getattr(x, func)()\n",
      "/home/xh3993/anaconda3/lib/python3.7/site-packages/numpy/core/_methods.py:189: RuntimeWarning: invalid value encountered in double_scalars\n",
      "  ret = ret.dtype.type(ret / rcount)\n",
      "/home/xh3993/anaconda3/lib/python3.7/site-packages/seaborn/algorithms.py:70: RuntimeWarning: Mean of empty slice.\n",
      "  return getattr(x, func)()\n",
      "/home/xh3993/anaconda3/lib/python3.7/site-packages/numpy/core/_methods.py:189: RuntimeWarning: invalid value encountered in double_scalars\n",
      "  ret = ret.dtype.type(ret / rcount)\n",
      "/home/xh3993/anaconda3/lib/python3.7/site-packages/seaborn/algorithms.py:70: RuntimeWarning: Mean of empty slice.\n",
      "  return getattr(x, func)()\n",
      "/home/xh3993/anaconda3/lib/python3.7/site-packages/numpy/core/_methods.py:189: RuntimeWarning: invalid value encountered in double_scalars\n",
      "  ret = ret.dtype.type(ret / rcount)\n",
      "/home/xh3993/anaconda3/lib/python3.7/site-packages/seaborn/algorithms.py:70: RuntimeWarning: Mean of empty slice.\n",
      "  return getattr(x, func)()\n",
      "/home/xh3993/anaconda3/lib/python3.7/site-packages/numpy/core/_methods.py:189: RuntimeWarning: invalid value encountered in double_scalars\n",
      "  ret = ret.dtype.type(ret / rcount)\n"
     ]
    },
    {
     "data": {
      "image/png": "[encoded data removed]",
      "text/plain": [
       "<Figure size 576x432 with 1 Axes>"
      ]
     },
     "metadata": {},
     "output_type": "display_data"
    }
   ],
   "source": [
    "plt.figure(figsize=(8,6))\n",
    "ax=sns.lineplot(x=\"seniority1\", y=\"mean\",hue='type',size='student',data=a,palette=['green','red'],marker='s',markersize=15,sizes=(.25, 2.5))\n",
    "# ax.spines['left'].set_position('zero')\n",
    "# ax.spines['bottom'].set_position('zero')\n",
    "plt.axhline(y=0,color='black',ls='--',alpha=0.5)\n",
    "ax.spines['right'].set_visible(False)\n",
    "ax.spines['top'].set_visible(False)\n",
    "plt.xlabel('Leader Categories(10-15, 15-20, 20+)',fontsize=12)\n",
    "plt.ylabel('Normalized Mean 5-Year Citation Percentile',fontsize=12)\n",
    "# plt.xticks(rotation = 45)\n",
    "plt.legend(frameon=False)\n",
    "plt.savefig('/home/xh3993/sharedleadership/picture/student.png',dpi=300)\n",
    "plt.show()"
   ]
  },
  {
   "cell_type": "code",
   "execution_count": 88,
   "metadata": {
    "collapsed": true
   },
   "outputs": [
    {
     "name": "stderr",
     "output_type": "stream",
     "text": [
      "/home/xh3993/anaconda3/lib/python3.7/site-packages/ipykernel_launcher.py:1: SettingWithCopyWarning: \n",
      "A value is trying to be set on a copy of a slice from a DataFrame.\n",
      "Try using .loc[row_indexer,col_indexer] = value instead\n",
      "\n",
      "See the caveats in the documentation: https://pandas.pydata.org/pandas-docs/stable/user_guide/indexing.html#returning-a-view-versus-a-copy\n",
      "  \"\"\"Entry point for launching an IPython kernel.\n"
     ]
    }
   ],
   "source": [
    "choose_data['team size']=choose_data['len'].apply(lambda x: 'large' if x>=3 else 'small')"
   ]
  },
  {
   "cell_type": "code",
   "execution_count": 93,
   "metadata": {
    "collapsed": true
   },
   "outputs": [
    {
     "name": "stderr",
     "output_type": "stream",
     "text": [
      "/home/xh3993/anaconda3/lib/python3.7/site-packages/ipykernel_launcher.py:1: SettingWithCopyWarning: \n",
      "A value is trying to be set on a copy of a slice from a DataFrame.\n",
      "Try using .loc[row_indexer,col_indexer] = value instead\n",
      "\n",
      "See the caveats in the documentation: https://pandas.pydata.org/pandas-docs/stable/user_guide/indexing.html#returning-a-view-versus-a-copy\n",
      "  \"\"\"Entry point for launching an IPython kernel.\n"
     ]
    }
   ],
   "source": [
    "choose_data['seniority1']=pd.Categorical(choose_data['seniority1'],categories=e,ordered=True)"
   ]
  },
  {
   "cell_type": "code",
   "execution_count": 94,
   "metadata": {
    "collapsed": true
   },
   "outputs": [
    {
     "name": "stderr",
     "output_type": "stream",
     "text": [
      "/home/xh3993/anaconda3/lib/python3.7/site-packages/ipykernel_launcher.py:1: SettingWithCopyWarning: \n",
      "A value is trying to be set on a copy of a slice from a DataFrame.\n",
      "Try using .loc[row_indexer,col_indexer] = value instead\n",
      "\n",
      "See the caveats in the documentation: https://pandas.pydata.org/pandas-docs/stable/user_guide/indexing.html#returning-a-view-versus-a-copy\n",
      "  \"\"\"Entry point for launching an IPython kernel.\n"
     ]
    }
   ],
   "source": [
    "choose_data['type']=choose_data['seniority1'].apply(lambda x: homo(x))"
   ]
  },
  {
   "cell_type": "code",
   "execution_count": 98,
   "metadata": {},
   "outputs": [
    {
     "name": "stderr",
     "output_type": "stream",
     "text": [
      "/home/xh3993/anaconda3/lib/python3.7/site-packages/seaborn/algorithms.py:70: RuntimeWarning: Mean of empty slice.\n",
      "  return getattr(x, func)()\n",
      "/home/xh3993/anaconda3/lib/python3.7/site-packages/numpy/core/_methods.py:189: RuntimeWarning: invalid value encountered in double_scalars\n",
      "  ret = ret.dtype.type(ret / rcount)\n",
      "/home/xh3993/anaconda3/lib/python3.7/site-packages/seaborn/algorithms.py:70: RuntimeWarning: Mean of empty slice.\n",
      "  return getattr(x, func)()\n",
      "/home/xh3993/anaconda3/lib/python3.7/site-packages/numpy/core/_methods.py:189: RuntimeWarning: invalid value encountered in double_scalars\n",
      "  ret = ret.dtype.type(ret / rcount)\n",
      "/home/xh3993/anaconda3/lib/python3.7/site-packages/seaborn/algorithms.py:70: RuntimeWarning: Mean of empty slice.\n",
      "  return getattr(x, func)()\n",
      "/home/xh3993/anaconda3/lib/python3.7/site-packages/numpy/core/_methods.py:189: RuntimeWarning: invalid value encountered in double_scalars\n",
      "  ret = ret.dtype.type(ret / rcount)\n",
      "/home/xh3993/anaconda3/lib/python3.7/site-packages/seaborn/algorithms.py:70: RuntimeWarning: Mean of empty slice.\n",
      "  return getattr(x, func)()\n",
      "/home/xh3993/anaconda3/lib/python3.7/site-packages/numpy/core/_methods.py:189: RuntimeWarning: invalid value encountered in double_scalars\n",
      "  ret = ret.dtype.type(ret / rcount)\n"
     ]
    },
    {
     "data": {
      "image/png": "[encoded data removed]",
      "text/plain": [
       "<Figure size 576x432 with 1 Axes>"
      ]
     },
     "metadata": {},
     "output_type": "display_data"
    }
   ],
   "source": [
    "plt.figure(figsize=(8,6))\n",
    "ax=sns.lineplot(data=choose_data, x=\"seniority1\", y=\"citation5_rank\",hue='type',style='team size',marker=\"s\",markersize=15,palette=\n",
    "               ['green','red'])\n",
    "plt.xlabel('Leader Categories(10-15, 15-20, 20+)',fontsize=12)\n",
    "plt.ylabel('Mean 5-Year Citation Percentile',fontsize=12)\n",
    "plt.legend(frameon=False)\n",
    "ax.spines['right'].set_visible(False)\n",
    "ax.spines['top'].set_visible(False)\n",
    "plt.savefig('/home/xh3993/sharedleadership/picture/teamsize.png',dpi=300)\n",
    "plt.show()"
   ]
  },
  {
   "cell_type": "code",
   "execution_count": 96,
   "metadata": {
    "collapsed": true
   },
   "outputs": [
    {
     "name": "stderr",
     "output_type": "stream",
     "text": [
      "/home/xh3993/anaconda3/lib/python3.7/site-packages/ipykernel_launcher.py:1: SettingWithCopyWarning: \n",
      "A value is trying to be set on a copy of a slice from a DataFrame.\n",
      "Try using .loc[row_indexer,col_indexer] = value instead\n",
      "\n",
      "See the caveats in the documentation: https://pandas.pydata.org/pandas-docs/stable/user_guide/indexing.html#returning-a-view-versus-a-copy\n",
      "  \"\"\"Entry point for launching an IPython kernel.\n"
     ]
    }
   ],
   "source": [
    "choose_data['diversity']=1-choose_data['keyword_sim']"
   ]
  },
  {
   "cell_type": "code",
   "execution_count": 99,
   "metadata": {},
   "outputs": [
    {
     "name": "stderr",
     "output_type": "stream",
     "text": [
      "/home/xh3993/anaconda3/lib/python3.7/site-packages/seaborn/algorithms.py:70: RuntimeWarning: Mean of empty slice.\n",
      "  return getattr(x, func)()\n",
      "/home/xh3993/anaconda3/lib/python3.7/site-packages/numpy/core/_methods.py:189: RuntimeWarning: invalid value encountered in double_scalars\n",
      "  ret = ret.dtype.type(ret / rcount)\n",
      "/home/xh3993/anaconda3/lib/python3.7/site-packages/seaborn/algorithms.py:70: RuntimeWarning: Mean of empty slice.\n",
      "  return getattr(x, func)()\n",
      "/home/xh3993/anaconda3/lib/python3.7/site-packages/numpy/core/_methods.py:189: RuntimeWarning: invalid value encountered in double_scalars\n",
      "  ret = ret.dtype.type(ret / rcount)\n"
     ]
    },
    {
     "data": {
      "image/png": "[encoded data removed]",
      "text/plain": [
       "<Figure size 576x432 with 1 Axes>"
      ]
     },
     "metadata": {},
     "output_type": "display_data"
    }
   ],
   "source": [
    "plt.figure(figsize=(8,6))\n",
    "ax=sns.lineplot(data=choose_data, x=\"seniority1\", y=\"diversity\",hue='type',marker=\"s\",markersize=20,palette=\n",
    "               ['green','red'])\n",
    "plt.xlabel('Leader Categories(10-15, 15-20, 20+)',fontsize=12)\n",
    "plt.ylabel('Keyword Diversity',fontsize=12)\n",
    "plt.legend(frameon=False)\n",
    "ax.spines['right'].set_visible(False)\n",
    "ax.spines['top'].set_visible(False)\n",
    "plt.savefig('/home/xh3993/sharedleadership/picture/keyword.png',dpi=300)\n",
    "plt.show()"
   ]
  },
  {
   "cell_type": "code",
   "execution_count": 100,
   "metadata": {
    "collapsed": true
   },
   "outputs": [
    {
     "name": "stderr",
     "output_type": "stream",
     "text": [
      "/home/xh3993/anaconda3/lib/python3.7/site-packages/ipykernel_launcher.py:1: SettingWithCopyWarning: \n",
      "A value is trying to be set on a copy of a slice from a DataFrame.\n",
      "Try using .loc[row_indexer,col_indexer] = value instead\n",
      "\n",
      "See the caveats in the documentation: https://pandas.pydata.org/pandas-docs/stable/user_guide/indexing.html#returning-a-view-versus-a-copy\n",
      "  \"\"\"Entry point for launching an IPython kernel.\n"
     ]
    }
   ],
   "source": [
    "choose_data['diversity1']=choose_data['diversity'].apply(lambda x: np.round(x,1) if x==x else np.nan)\n",
    "a=choose_data.groupby('diversity1')['citation5_rank'].mean().reset_index()\n",
    "a=a[a['diversity1']>=0.5]"
   ]
  },
  {
   "cell_type": "code",
   "execution_count": 101,
   "metadata": {},
   "outputs": [],
   "source": [
    "colors = sns.color_palette(\"Set1\")[:10]"
   ]
  },
  {
   "cell_type": "code",
   "execution_count": 102,
   "metadata": {},
   "outputs": [],
   "source": [
    "colors = ['red', 'orange', 'green']"
   ]
  },
  {
   "cell_type": "code",
   "execution_count": 104,
   "metadata": {},
   "outputs": [
    {
     "name": "stderr",
     "output_type": "stream",
     "text": [
      "/home/xh3993/anaconda3/lib/python3.7/site-packages/IPython/core/interactiveshell.py:3326: DtypeWarning: Columns (0) have mixed types.Specify dtype option on import or set low_memory=False.\n",
      "  exec(code_obj, self.user_global_ns, self.user_ns)\n"
     ]
    }
   ],
   "source": [
    "all_data=pd.read_csv('/data/sharedleadership/all_data.csv')"
   ]
  },
  {
   "cell_type": "code",
   "execution_count": 105,
   "metadata": {
    "scrolled": true
   },
   "outputs": [
    {
     "data": {
      "text/html": [
       "<div>\n",
       "<style scoped>\n",
       "    .dataframe tbody tr th:only-of-type {\n",
       "        vertical-align: middle;\n",
       "    }\n",
       "\n",
       "    .dataframe tbody tr th {\n",
       "        vertical-align: top;\n",
       "    }\n",
       "\n",
       "    .dataframe thead th {\n",
       "        text-align: right;\n",
       "    }\n",
       "</style>\n",
       "<table border=\"1\" class=\"dataframe\">\n",
       "  <thead>\n",
       "    <tr style=\"text-align: right;\">\n",
       "      <th></th>\n",
       "      <th>tid</th>\n",
       "      <th>aid</th>\n",
       "      <th>year</th>\n",
       "      <th>references</th>\n",
       "      <th>references_year</th>\n",
       "      <th>Reference Range</th>\n",
       "      <th>Reference SD</th>\n",
       "      <th>Reference Mean</th>\n",
       "      <th>sci_age</th>\n",
       "      <th>references_year1</th>\n",
       "      <th>venue</th>\n",
       "      <th>indexed_abstract</th>\n",
       "      <th>doi</th>\n",
       "      <th>title</th>\n",
       "    </tr>\n",
       "  </thead>\n",
       "  <tbody>\n",
       "    <tr>\n",
       "      <th>0</th>\n",
       "      <td>1091</td>\n",
       "      <td>[2312688602, 2482909946, 2128134587, 210178269...</td>\n",
       "      <td>2013.0</td>\n",
       "      <td>[2005687710, 2018037215]</td>\n",
       "      <td>[2011, 2011]</td>\n",
       "      <td>0.0</td>\n",
       "      <td>0.0</td>\n",
       "      <td>2.0</td>\n",
       "      <td>[1, 1, 16, 20, 20, 6, 17, 13]</td>\n",
       "      <td>[2, 2]</td>\n",
       "      <td>{'raw': 'International Conference on Human-Com...</td>\n",
       "      <td>{'IndexLength': 58, 'InvertedIndex': {'tool.':...</td>\n",
       "      <td>10.1007/978-3-642-39476-8_19</td>\n",
       "      <td>Preliminary Design of a Network Protocol Learn...</td>\n",
       "    </tr>\n",
       "  </tbody>\n",
       "</table>\n",
       "</div>"
      ],
      "text/plain": [
       "    tid                                                aid    year  \\\n",
       "0  1091  [2312688602, 2482909946, 2128134587, 210178269...  2013.0   \n",
       "\n",
       "                 references references_year  Reference Range  Reference SD  \\\n",
       "0  [2005687710, 2018037215]    [2011, 2011]              0.0           0.0   \n",
       "\n",
       "   Reference Mean                        sci_age references_year1  \\\n",
       "0             2.0  [1, 1, 16, 20, 20, 6, 17, 13]           [2, 2]   \n",
       "\n",
       "                                               venue  \\\n",
       "0  {'raw': 'International Conference on Human-Com...   \n",
       "\n",
       "                                    indexed_abstract  \\\n",
       "0  {'IndexLength': 58, 'InvertedIndex': {'tool.':...   \n",
       "\n",
       "                            doi  \\\n",
       "0  10.1007/978-3-642-39476-8_19   \n",
       "\n",
       "                                               title  \n",
       "0  Preliminary Design of a Network Protocol Learn...  "
      ]
     },
     "execution_count": 105,
     "metadata": {},
     "output_type": "execute_result"
    }
   ],
   "source": [
    "all_data.head(1)"
   ]
  },
  {
   "cell_type": "code",
   "execution_count": 112,
   "metadata": {},
   "outputs": [],
   "source": [
    "all_data['aid']=all_data['aid'].apply(lambda x: eval(x) if x==x else x)"
   ]
  },
  {
   "cell_type": "code",
   "execution_count": 114,
   "metadata": {},
   "outputs": [],
   "source": [
    "all_data['len']=all_data['aid'].apply(lambda x: len(x) if x==x else 0)"
   ]
  },
  {
   "cell_type": "code",
   "execution_count": 123,
   "metadata": {},
   "outputs": [],
   "source": [
    "one=all_data[all_data['len']==1]"
   ]
  },
  {
   "cell_type": "code",
   "execution_count": 125,
   "metadata": {
    "collapsed": true
   },
   "outputs": [
    {
     "name": "stderr",
     "output_type": "stream",
     "text": [
      "/home/xh3993/anaconda3/lib/python3.7/site-packages/ipykernel_launcher.py:1: SettingWithCopyWarning: \n",
      "A value is trying to be set on a copy of a slice from a DataFrame.\n",
      "Try using .loc[row_indexer,col_indexer] = value instead\n",
      "\n",
      "See the caveats in the documentation: https://pandas.pydata.org/pandas-docs/stable/user_guide/indexing.html#returning-a-view-versus-a-copy\n",
      "  \"\"\"Entry point for launching an IPython kernel.\n"
     ]
    }
   ],
   "source": [
    "one['sci_age']=one['sci_age'].apply(lambda x: eval(x)[0])"
   ]
  },
  {
   "cell_type": "code",
   "execution_count": 127,
   "metadata": {},
   "outputs": [],
   "source": [
    "a=one.groupby(['sci_age'])['Reference Range'].mean().reset_index()"
   ]
  },
  {
   "cell_type": "code",
   "execution_count": 131,
   "metadata": {},
   "outputs": [
    {
     "name": "stderr",
     "output_type": "stream",
     "text": [
      "/home/xh3993/anaconda3/lib/python3.7/site-packages/seaborn/algorithms.py:70: RuntimeWarning: Mean of empty slice.\n",
      "  return getattr(x, func)()\n",
      "/home/xh3993/anaconda3/lib/python3.7/site-packages/numpy/core/_methods.py:189: RuntimeWarning: invalid value encountered in double_scalars\n",
      "  ret = ret.dtype.type(ret / rcount)\n",
      "/home/xh3993/anaconda3/lib/python3.7/site-packages/seaborn/algorithms.py:70: RuntimeWarning: Mean of empty slice.\n",
      "  return getattr(x, func)()\n",
      "/home/xh3993/anaconda3/lib/python3.7/site-packages/numpy/core/_methods.py:189: RuntimeWarning: invalid value encountered in double_scalars\n",
      "  ret = ret.dtype.type(ret / rcount)\n",
      "/home/xh3993/anaconda3/lib/python3.7/site-packages/seaborn/algorithms.py:70: RuntimeWarning: Mean of empty slice.\n",
      "  return getattr(x, func)()\n",
      "/home/xh3993/anaconda3/lib/python3.7/site-packages/numpy/core/_methods.py:189: RuntimeWarning: invalid value encountered in double_scalars\n",
      "  ret = ret.dtype.type(ret / rcount)\n",
      "/home/xh3993/anaconda3/lib/python3.7/site-packages/seaborn/algorithms.py:70: RuntimeWarning: Mean of empty slice.\n",
      "  return getattr(x, func)()\n",
      "/home/xh3993/anaconda3/lib/python3.7/site-packages/numpy/core/_methods.py:189: RuntimeWarning: invalid value encountered in double_scalars\n",
      "  ret = ret.dtype.type(ret / rcount)\n",
      "/home/xh3993/anaconda3/lib/python3.7/site-packages/seaborn/algorithms.py:70: RuntimeWarning: Mean of empty slice.\n",
      "  return getattr(x, func)()\n",
      "/home/xh3993/anaconda3/lib/python3.7/site-packages/numpy/core/_methods.py:189: RuntimeWarning: invalid value encountered in double_scalars\n",
      "  ret = ret.dtype.type(ret / rcount)\n",
      "/home/xh3993/anaconda3/lib/python3.7/site-packages/seaborn/algorithms.py:70: RuntimeWarning: Mean of empty slice.\n",
      "  return getattr(x, func)()\n",
      "/home/xh3993/anaconda3/lib/python3.7/site-packages/numpy/core/_methods.py:189: RuntimeWarning: invalid value encountered in double_scalars\n",
      "  ret = ret.dtype.type(ret / rcount)\n",
      "/home/xh3993/anaconda3/lib/python3.7/site-packages/ipykernel_launcher.py:70: SettingWithCopyWarning: \n",
      "A value is trying to be set on a copy of a slice from a DataFrame.\n",
      "Try using .loc[row_indexer,col_indexer] = value instead\n",
      "\n",
      "See the caveats in the documentation: https://pandas.pydata.org/pandas-docs/stable/user_guide/indexing.html#returning-a-view-versus-a-copy\n",
      "/home/xh3993/anaconda3/lib/python3.7/site-packages/ipykernel_launcher.py:81: SettingWithCopyWarning: \n",
      "A value is trying to be set on a copy of a slice from a DataFrame.\n",
      "Try using .loc[row_indexer,col_indexer] = value instead\n",
      "\n",
      "See the caveats in the documentation: https://pandas.pydata.org/pandas-docs/stable/user_guide/indexing.html#returning-a-view-versus-a-copy\n"
     ]
    },
    {
     "data": {
      "image/png": "[encoded data removed]",
      "text/plain": [
       "<Figure size 1080x864 with 9 Axes>"
      ]
     },
     "metadata": {},
     "output_type": "display_data"
    }
   ],
   "source": [
    "fig=plt.figure(figsize=(15,12))\n",
    "ax = plt.subplot(3, 3, 1)\n",
    "a=one.groupby(['sci_age'])['Reference Range'].mean().reset_index()\n",
    "a=a[a['sci_age']<=30]\n",
    "sns.lineplot(data=a, x=\"sci_age\", y=\"Reference Range\",marker='.',markersize=20,color=colors[0])\n",
    "plt.xlabel('Career Age',fontsize=12)\n",
    "plt.ylabel('Reference Range',fontsize=12)\n",
    "ax.spines['right'].set_visible(False)\n",
    "ax.spines['top'].set_visible(False)\n",
    "\n",
    "ax = plt.subplot(3, 3, 2)\n",
    "a=one.groupby(['sci_age'])['Reference SD'].mean().reset_index()\n",
    "a=a[a['sci_age']<=30]\n",
    "sns.lineplot(data=a, x=\"sci_age\", y=\"Reference SD\",marker='.',markersize=20,color=colors[1])\n",
    "plt.xlabel('Career Age',fontsize=12)\n",
    "plt.ylabel('Reference SD',fontsize=12)\n",
    "ax.spines['right'].set_visible(False)\n",
    "ax.spines['top'].set_visible(False)\n",
    "\n",
    "ax = plt.subplot(3, 3, 3)\n",
    "a=one.groupby(['sci_age'])['Reference Mean'].mean().reset_index()\n",
    "a=a[a['sci_age']<=30]\n",
    "sns.lineplot(data=a, x=\"sci_age\", y=\"Reference Mean\",marker='.',markersize=20,color=colors[2])\n",
    "plt.xlabel('Career Age',fontsize=12)\n",
    "plt.ylabel('Reference Mean',fontsize=12)\n",
    "ax.spines['right'].set_visible(False)\n",
    "ax.spines['top'].set_visible(False)\n",
    "\n",
    "\n",
    "\n",
    "ax = plt.subplot(3, 3, 4)\n",
    "ax=sns.lineplot(data=choose_data, x=\"seniority1\", y=\"reference_range\",hue='type',marker=\"s\",markersize=20,palette=['green','red'])\n",
    "plt.xlabel('Leader Categories(10-15, 15-20, 20+)',fontsize=12)\n",
    "plt.ylabel('Reference Range',fontsize=12)\n",
    "plt.legend(frameon=False,labels=['homogenous','heterogenous'])\n",
    "plt.xticks(rotation = 15)\n",
    "ax.spines['right'].set_visible(False)\n",
    "ax.spines['top'].set_visible(False)\n",
    "\n",
    "ax = plt.subplot(3, 3, 5)\n",
    "ax=sns.lineplot(data=choose_data, x=\"seniority1\", y=\"reference_SD\",hue='type',marker=\"s\",markersize=20,palette=['green','red'])\n",
    "plt.xlabel('Leader Categories(10-15, 15-20, 20+)',fontsize=12)\n",
    "plt.ylabel('Reference SD',fontsize=12)\n",
    "ax.get_legend().remove()\n",
    "plt.xticks(rotation = 15)\n",
    "ax.spines['right'].set_visible(False)\n",
    "ax.spines['top'].set_visible(False)\n",
    "\n",
    "ax = plt.subplot(3, 3, 6)\n",
    "ax=sns.lineplot(data=choose_data, x=\"seniority1\", y=\"reference_mean\",hue='type',marker=\"s\",markersize=20,palette=['green','red'])\n",
    "plt.xlabel('Leader Categories(10-15, 15-20, 20+)',fontsize=12)\n",
    "plt.ylabel('Reference Mean',fontsize=12)\n",
    "ax.get_legend().remove()\n",
    "plt.xticks(rotation = 15)\n",
    "ax.spines['right'].set_visible(False)\n",
    "ax.spines['top'].set_visible(False)\n",
    "\n",
    "\n",
    "ax = plt.subplot(3, 3, 7)\n",
    "a=choose_data.groupby('reference_range')['citation5_rank'].mean().reset_index()\n",
    "a=a[a['reference_range']<=50]\n",
    "ax=sns.regplot(x=\"reference_range\", y=\"citation5_rank\", data=a, ci=None,color=colors[0],\n",
    "           scatter_kws={\"s\": 50, \"alpha\": 1},order=2)\n",
    "plt.xlabel('Reference Range',fontsize=12)\n",
    "plt.ylabel('Mean 5-Year Citation Percentile',fontsize=12)\n",
    "ax.spines['right'].set_visible(False)\n",
    "ax.spines['top'].set_visible(False)\n",
    "\n",
    "ax = plt.subplot(3, 3, 8)\n",
    "choose_data['reference_SD1']=choose_data['reference_SD'].apply(lambda x: int(x) if x==x else np.nan)\n",
    "a=choose_data.groupby('reference_SD1')['citation5_rank'].mean().reset_index()\n",
    "a=a[a['reference_SD1']<=10]\n",
    "ax=sns.regplot(x=\"reference_SD1\", y=\"citation5_rank\", data=a, ci=None,color=colors[1],\n",
    "           scatter_kws={\"s\": 50, \"alpha\": 1},order=2)\n",
    "plt.xlabel('Reference SD',fontsize=12)\n",
    "plt.ylabel('Mean 5-Year Citation Percentile',fontsize=12)\n",
    "ax.spines['right'].set_visible(False)\n",
    "ax.spines['top'].set_visible(False)\n",
    "\n",
    "ax = plt.subplot(3, 3, 9)\n",
    "choose_data['reference_mean1']=choose_data['reference_mean'].apply(lambda x: int(x) if x==x else np.nan)\n",
    "a=choose_data.groupby('reference_mean1')['citation5_rank'].mean().reset_index()\n",
    "a=a[(a['reference_mean1']<=10)&(a['reference_mean1']>=0)]\n",
    "ax=sns.regplot(x=\"reference_mean1\", y=\"citation5_rank\", data=a, ci=None,color=colors[2],\n",
    "           scatter_kws={\"s\": 50, \"alpha\": 1},order=2)\n",
    "plt.xlabel('Reference Mean',fontsize=12)\n",
    "plt.ylabel('Mean 5-Year Citation Percentile',fontsize=12)\n",
    "ax.spines['right'].set_visible(False)\n",
    "ax.spines['top'].set_visible(False)\n",
    "\n",
    "plt.tight_layout()\n",
    "plt.savefig('/home/xh3993/sharedleadership/picture/reference.png',dpi=300)\n",
    "plt.show()"
   ]
  },
  {
   "cell_type": "markdown",
   "metadata": {},
   "source": [
    "#### keyword_citation"
   ]
  },
  {
   "cell_type": "code",
   "execution_count": 495,
   "metadata": {
    "scrolled": true
   },
   "outputs": [],
   "source": [
    "a=data1.groupby('seniority1').agg({'reference_mean':'mean','citation5_rank':'mean'}).reset_index()"
   ]
  },
  {
   "cell_type": "code",
   "execution_count": 496,
   "metadata": {},
   "outputs": [],
   "source": [
    "a['type']=a['seniority1'].apply(lambda x: homo(x))"
   ]
  },
  {
   "cell_type": "code",
   "execution_count": 497,
   "metadata": {},
   "outputs": [],
   "source": [
    "a['reference_mean']=a['reference_mean'].apply(lambda x: np.around(x,1))"
   ]
  },
  {
   "cell_type": "code",
   "execution_count": 482,
   "metadata": {
    "scrolled": false
   },
   "outputs": [
    {
     "name": "stderr",
     "output_type": "stream",
     "text": [
      "No handles with labels found to put in legend.\n",
      "No handles with labels found to put in legend.\n"
     ]
    },
    {
     "data": {
      "image/png": "[encoded data removed]",
      "text/plain": [
       "<Figure size 360x288 with 1 Axes>"
      ]
     },
     "metadata": {},
     "output_type": "display_data"
    }
   ],
   "source": [
    "plt.figure(figsize=(5,4))\n",
    "sns.lineplot(x = 'seniority1', y = 'citation5_rank', hue = 'type', data = a,palette=['green','red'],legend=False)\n",
    "ax=sns.scatterplot(x = 'seniority1', y = 'citation5_rank', hue = 'type', size = 'reference_range', data = a,marker='s',palette=['green','red'],sizes=(20,300),legend=False)\n",
    "plt.legend(frameon=False,loc='lower right')\n",
    "\n",
    "for i in range(a.shape[0]):\n",
    "    plt.text(x=a.seniority1[i],y=a.citation5_rank[i]+0.1,s=a.reference_range[i])\n",
    "\n",
    "plt.xticks(rotation = 15)\n",
    "plt.xlabel('Leader Categories(10-15, 15-20, 20+)',fontsize=12)\n",
    "plt.ylabel('Mean 5-Year Citation Percentile',fontsize=12)\n",
    "plt.legend(frameon=False)\n",
    "ax.spines['right'].set_visible(False)\n",
    "ax.spines['top'].set_visible(False)\n",
    "plt.show()"
   ]
  },
  {
   "cell_type": "code",
   "execution_count": 469,
   "metadata": {},
   "outputs": [],
   "source": [
    "a=data1.groupby('seniority1').agg({'diversity':'mean','citation5_rank':'mean'}).reset_index()"
   ]
  },
  {
   "cell_type": "code",
   "execution_count": 470,
   "metadata": {},
   "outputs": [],
   "source": [
    "a['type']=a['seniority1'].apply(lambda x: homo(x))"
   ]
  },
  {
   "cell_type": "code",
   "execution_count": 471,
   "metadata": {},
   "outputs": [],
   "source": [
    "a['diversity']=a['diversity'].apply(lambda x: np.round(x,2))"
   ]
  },
  {
   "cell_type": "code",
   "execution_count": 474,
   "metadata": {
    "scrolled": true
   },
   "outputs": [
    {
     "name": "stderr",
     "output_type": "stream",
     "text": [
      "No handles with labels found to put in legend.\n",
      "No handles with labels found to put in legend.\n"
     ]
    },
    {
     "data": {
      "image/png": "[encoded data removed]",
      "text/plain": [
       "<Figure size 360x288 with 1 Axes>"
      ]
     },
     "metadata": {},
     "output_type": "display_data"
    }
   ],
   "source": [
    "plt.figure(figsize=(5,4))\n",
    "sns.lineplot(x = 'seniority1', y = 'citation5_rank', hue = 'type', data = a,palette=['green','red'],legend=False)\n",
    "ax=sns.scatterplot(x = 'seniority1', y = 'citation5_rank', hue = 'type', size = 'diversity', data = a,marker='s',palette=['green','red'],sizes=(20,300),legend=False)\n",
    "plt.legend(frameon=False,loc='lower right')\n",
    "\n",
    "for i in range(a.shape[0]):\n",
    "    plt.text(x=a.seniority1[i],y=a.citation5_rank[i]+0.1,s=a.diversity[i])\n",
    "\n",
    "plt.xticks(rotation = 15)\n",
    "plt.xlabel('Leader Categories(10-15, 15-20, 20+)',fontsize=12)\n",
    "plt.ylabel('Mean 5-Year Citation Percentile',fontsize=12)\n",
    "plt.legend(frameon=False)\n",
    "ax.spines['right'].set_visible(False)\n",
    "ax.spines['top'].set_visible(False)\n",
    "plt.show()"
   ]
  },
  {
   "cell_type": "code",
   "execution_count": null,
   "metadata": {},
   "outputs": [],
   "source": []
  },
  {
   "cell_type": "code",
   "execution_count": null,
   "metadata": {},
   "outputs": [],
   "source": []
  },
  {
   "cell_type": "markdown",
   "metadata": {},
   "source": [
    "##### evaluation leadership"
   ]
  },
  {
   "cell_type": "code",
   "execution_count": 47,
   "metadata": {
    "collapsed": true
   },
   "outputs": [
    {
     "name": "stderr",
     "output_type": "stream",
     "text": [
      "/home/xh3993/anaconda3/lib/python3.7/site-packages/IPython/core/interactiveshell.py:3326: DtypeWarning: Columns (37,38) have mixed types.Specify dtype option on import or set low_memory=False.\n",
      "  exec(code_obj, self.user_global_ns, self.user_ns)\n"
     ]
    }
   ],
   "source": [
    "choose_data=pd.read_csv('/data/sharedleadership/choose_data.csv')"
   ]
  },
  {
   "cell_type": "code",
   "execution_count": 3,
   "metadata": {},
   "outputs": [
    {
     "name": "stderr",
     "output_type": "stream",
     "text": [
      "/home/xh3993/anaconda3/lib/python3.7/site-packages/IPython/core/interactiveshell.py:3326: DtypeWarning: Columns (0,12) have mixed types.Specify dtype option on import or set low_memory=False.\n",
      "  exec(code_obj, self.user_global_ns, self.user_ns)\n"
     ]
    }
   ],
   "source": [
    "all_data=pd.read_csv('/data/sharedleadership/all_data.csv')"
   ]
  },
  {
   "cell_type": "code",
   "execution_count": 6,
   "metadata": {},
   "outputs": [],
   "source": [
    "doi_dict=dict(all_data[['tid','doi']].values)"
   ]
  },
  {
   "cell_type": "code",
   "execution_count": 48,
   "metadata": {},
   "outputs": [],
   "source": [
    "choose_data['doi']=choose_data['tid'].apply(lambda x: doi_dict[str(x)] if str(x) in doi_dict else '')"
   ]
  },
  {
   "cell_type": "code",
   "execution_count": 177,
   "metadata": {},
   "outputs": [],
   "source": [
    "choose_data['position']=choose_data['position'].apply(lambda x: eval(x))"
   ]
  },
  {
   "cell_type": "code",
   "execution_count": 49,
   "metadata": {
    "scrolled": false
   },
   "outputs": [
    {
     "data": {
      "text/html": [
       "<div>\n",
       "<style scoped>\n",
       "    .dataframe tbody tr th:only-of-type {\n",
       "        vertical-align: middle;\n",
       "    }\n",
       "\n",
       "    .dataframe tbody tr th {\n",
       "        vertical-align: top;\n",
       "    }\n",
       "\n",
       "    .dataframe thead th {\n",
       "        text-align: right;\n",
       "    }\n",
       "</style>\n",
       "<table border=\"1\" class=\"dataframe\">\n",
       "  <thead>\n",
       "    <tr style=\"text-align: right;\">\n",
       "      <th></th>\n",
       "      <th>tid</th>\n",
       "      <th>aname</th>\n",
       "      <th>aid</th>\n",
       "      <th>aorg</th>\n",
       "      <th>p_year</th>\n",
       "      <th>references</th>\n",
       "      <th>fos</th>\n",
       "      <th>citation2</th>\n",
       "      <th>citation5</th>\n",
       "      <th>references_age</th>\n",
       "      <th>...</th>\n",
       "      <th>last_two</th>\n",
       "      <th>first_last</th>\n",
       "      <th>first</th>\n",
       "      <th>team size</th>\n",
       "      <th>type</th>\n",
       "      <th>diversity</th>\n",
       "      <th>diversity1</th>\n",
       "      <th>reference_SD1</th>\n",
       "      <th>reference_mean1</th>\n",
       "      <th>doi</th>\n",
       "    </tr>\n",
       "  </thead>\n",
       "  <tbody>\n",
       "    <tr>\n",
       "      <th>0</th>\n",
       "      <td>12993</td>\n",
       "      <td>['Reiko Heckel', 'Tom Mens', 'Michel Wermeling...</td>\n",
       "      <td>[1978340988, 1986880241, 2307186118]</td>\n",
       "      <td>[nan, nan, nan]</td>\n",
       "      <td>2003</td>\n",
       "      <td>NaN</td>\n",
       "      <td>['Software engineering', 'Computer science', '...</td>\n",
       "      <td>0</td>\n",
       "      <td>0</td>\n",
       "      <td>NaN</td>\n",
       "      <td>...</td>\n",
       "      <td>[1.0, 2.0]</td>\n",
       "      <td>[0, 2.0]</td>\n",
       "      <td>9</td>\n",
       "      <td>large</td>\n",
       "      <td>homogenous</td>\n",
       "      <td>0.661642</td>\n",
       "      <td>0.7</td>\n",
       "      <td>NaN</td>\n",
       "      <td>NaN</td>\n",
       "      <td>NaN</td>\n",
       "    </tr>\n",
       "  </tbody>\n",
       "</table>\n",
       "<p>1 rows × 54 columns</p>\n",
       "</div>"
      ],
      "text/plain": [
       "     tid                                              aname  \\\n",
       "0  12993  ['Reiko Heckel', 'Tom Mens', 'Michel Wermeling...   \n",
       "\n",
       "                                    aid             aorg  p_year references  \\\n",
       "0  [1978340988, 1986880241, 2307186118]  [nan, nan, nan]    2003        NaN   \n",
       "\n",
       "                                                 fos  citation2  citation5  \\\n",
       "0  ['Software engineering', 'Computer science', '...          0          0   \n",
       "\n",
       "  references_age  ...    last_two first_last  first team size        type  \\\n",
       "0            NaN  ...  [1.0, 2.0]   [0, 2.0]      9     large  homogenous   \n",
       "\n",
       "   diversity  diversity1  reference_SD1 reference_mean1  doi  \n",
       "0   0.661642         0.7            NaN             NaN  NaN  \n",
       "\n",
       "[1 rows x 54 columns]"
      ]
     },
     "execution_count": 49,
     "metadata": {},
     "output_type": "execute_result"
    }
   ],
   "source": [
    "choose_data.head(1)"
   ]
  },
  {
   "cell_type": "code",
   "execution_count": 19,
   "metadata": {},
   "outputs": [],
   "source": [
    "f = open('/home/xh3993/socialcomparison/fenglixu-Self-report-Contribution-Data-6164803/PLOSONE_Contribution_Data', 'rb')\n",
    "plos_data = pickle.load(f)\n",
    "f.close()"
   ]
  },
  {
   "cell_type": "code",
   "execution_count": 50,
   "metadata": {},
   "outputs": [
    {
     "data": {
      "text/plain": [
       "15"
      ]
     },
     "execution_count": 50,
     "metadata": {},
     "output_type": "execute_result"
    }
   ],
   "source": [
    "len(set(choose_data['doi'].values)&set([i[0] for i in plos_data]))"
   ]
  },
  {
   "cell_type": "code",
   "execution_count": 57,
   "metadata": {
    "scrolled": true
   },
   "outputs": [],
   "source": [
    "plos_overlap=set(choose_data['doi'].values)&set([i[0] for i in plos_data])"
   ]
  },
  {
   "cell_type": "code",
   "execution_count": 670,
   "metadata": {},
   "outputs": [],
   "source": [
    "leader=[\"conceive\",\"design\",\"lead\",\"supervise\",\"coordinate\",\"interpret\",\"write\",'wrote','theor']"
   ]
  },
  {
   "cell_type": "code",
   "execution_count": 671,
   "metadata": {},
   "outputs": [],
   "source": [
    "c=[]\n",
    "for i,j in zip([i[4] for i in plos_data if i[0] in plos_overlap],[i[3] for i in plos_data if i[0] in plos_overlap]): #choose leaders abrreviations\n",
    "    a=[]\n",
    "    for m,n in i.items():\n",
    "        for l in leader:\n",
    "            if l in m:\n",
    "                a.extend(n)\n",
    "    a=[i.replace('-','').replace('.','') for i in a]\n",
    "    b=[]\n",
    "    d=[]\n",
    "    for _ in [re.split(r\" |. |-\",i) for i in j]:\n",
    "        d.append(\"\".join([i[0] for i in _]))\n",
    "    for p,q in enumerate(d):\n",
    "        if q in a:\n",
    "            b.append(p)\n",
    "    if len(b)>0:\n",
    "        c.append(b)\n",
    "    else:\n",
    "        c.append(list(range(p+1)))"
   ]
  },
  {
   "cell_type": "code",
   "execution_count": 672,
   "metadata": {},
   "outputs": [],
   "source": [
    "a=[]\n",
    "for m in [i[0] for i in plos_data if i[0] in plos_overlap]:\n",
    "    a.extend(list(choose_data[choose_data['doi']==m]['position'].values))"
   ]
  },
  {
   "cell_type": "code",
   "execution_count": 673,
   "metadata": {},
   "outputs": [],
   "source": [
    "count=[]\n",
    "for m,n in zip(a,c):\n",
    "    count.append(all(item in n for item in m))"
   ]
  },
  {
   "cell_type": "code",
   "execution_count": 29,
   "metadata": {},
   "outputs": [],
   "source": [
    "f = open('/home/xh3993/socialcomparison/fenglixu-Self-report-Contribution-Data-6164803/Nature_Contribution_Data', 'rb')\n",
    "nature_data = pickle.load(f)\n",
    "f.close()"
   ]
  },
  {
   "cell_type": "code",
   "execution_count": 53,
   "metadata": {},
   "outputs": [
    {
     "data": {
      "text/plain": [
       "10"
      ]
     },
     "execution_count": 53,
     "metadata": {},
     "output_type": "execute_result"
    }
   ],
   "source": [
    "len(set(choose_data['doi'].values)&set([i[0] for i in nature_data]))"
   ]
  },
  {
   "cell_type": "code",
   "execution_count": 293,
   "metadata": {},
   "outputs": [],
   "source": [
    "nature_overlap=list(set(choose_data['doi'].values)&set([i[0] for i in nature_data]))"
   ]
  },
  {
   "cell_type": "code",
   "execution_count": 456,
   "metadata": {},
   "outputs": [],
   "source": [
    "from nltk.tokenize import word_tokenize"
   ]
  },
  {
   "cell_type": "code",
   "execution_count": 654,
   "metadata": {},
   "outputs": [],
   "source": [
    "standard_nature=[]\n",
    "for o in nature_overlap:\n",
    "    i=[j[4] for j in nature_data if j[0]==o][0]\n",
    "    i=re.sub('([A-Z]).', r'\\1',i)\n",
    "    i=i.replace(';','.')\n",
    "    p=i.split('. ')\n",
    "    a={}\n",
    "    for q in p:\n",
    "        n=[j for j in word_tokenize(q) if j[-1].isupper()==True]\n",
    "        a[q]=n\n",
    "    standard_nature.append(a)"
   ]
  },
  {
   "cell_type": "code",
   "execution_count": 655,
   "metadata": {},
   "outputs": [],
   "source": [
    "nature_name=[]\n",
    "for o in nature_overlap:\n",
    "    nature_name.append([j[3] for j in nature_data if j[0]==o][0])"
   ]
  },
  {
   "cell_type": "code",
   "execution_count": 674,
   "metadata": {},
   "outputs": [],
   "source": [
    "c=[]\n",
    "for i,j in zip(standard_nature, nature_name): #choose leaders abrreviations\n",
    "    a=[]\n",
    "    for m,n in i.items():\n",
    "        for l in leader:\n",
    "            if l in m:\n",
    "                a.extend(n)\n",
    "    a=[i.replace('-','').replace('.','') for i in a]\n",
    "    b=[]\n",
    "    d=[]\n",
    "    for _ in [re.split(r\" |. |-\",i) for i in j]:\n",
    "        d.append(\"\".join([i[0] for i in _]))\n",
    "    for p,q in enumerate(d):\n",
    "        if q in a:\n",
    "            b.append(p)\n",
    "    if len(b)>0:\n",
    "        c.append(b)\n",
    "    else:\n",
    "        c.append(list(range(p+1)))"
   ]
  },
  {
   "cell_type": "code",
   "execution_count": 675,
   "metadata": {},
   "outputs": [],
   "source": [
    "a=[]\n",
    "for m in nature_overlap:\n",
    "    a.extend(list(choose_data[choose_data['doi']==m]['position'].values))"
   ]
  },
  {
   "cell_type": "code",
   "execution_count": 676,
   "metadata": {},
   "outputs": [],
   "source": [
    "# count=[]\n",
    "for m,n in zip(a,c):\n",
    "    count.append(all(item in n for item in m))"
   ]
  },
  {
   "cell_type": "code",
   "execution_count": null,
   "metadata": {},
   "outputs": [],
   "source": []
  },
  {
   "cell_type": "code",
   "execution_count": 31,
   "metadata": {},
   "outputs": [],
   "source": [
    "f = open('/home/xh3993/socialcomparison/fenglixu-Self-report-Contribution-Data-6164803/Science_Contribution_Data', 'rb')\n",
    "science_data = pickle.load(f)\n",
    "f.close()"
   ]
  },
  {
   "cell_type": "code",
   "execution_count": 624,
   "metadata": {},
   "outputs": [
    {
     "data": {
      "text/plain": [
       "'D.K., D.J.S., and S.O. conceptualized the pure reconstitution and developed the methodology; D.J.S., S.O., R.X., R.J.T, and A.H.G. performed validation and investigation for the reconstitution. D.K., R.X., R.J.T., and A.H.G. conceptualized flow cytometry of the proteoliposomes. R.X., R.J.T., and A.H.G. developed the flow cytometry methodology and performed validation and investigations. D.K., D.J.N., R.X., R.J.T., and A.H.G. conceptualized the confocal microscopy. R.X., R.J.T., A.H.G., and P.J.F. developed the confocal microscopy methodology and performed validation and investigations. Resources were provided by D.K. and D.J.N. D.K., R.X., R.J.T. D.J.S., and A.H.G. wrote the manuscript, and all authors contributed edits. D.K. and D.J.N administered the project and acquired funding.'"
      ]
     },
     "execution_count": 624,
     "metadata": {},
     "output_type": "execute_result"
    }
   ],
   "source": [
    "science_data[3][4]"
   ]
  },
  {
   "cell_type": "code",
   "execution_count": 54,
   "metadata": {
    "scrolled": true
   },
   "outputs": [
    {
     "data": {
      "text/plain": [
       "0"
      ]
     },
     "execution_count": 54,
     "metadata": {},
     "output_type": "execute_result"
    }
   ],
   "source": [
    "len(set(choose_data['doi'].values)&set([i[0] for i in science_data]))"
   ]
  },
  {
   "cell_type": "code",
   "execution_count": 35,
   "metadata": {},
   "outputs": [],
   "source": [
    "f = open('/home/xh3993/socialcomparison/fenglixu-Self-report-Contribution-Data-6164803/PNAS_Contribution_Data', 'rb')\n",
    "pnas_data = pickle.load(f)\n",
    "f.close()"
   ]
  },
  {
   "cell_type": "code",
   "execution_count": 55,
   "metadata": {},
   "outputs": [
    {
     "data": {
      "text/plain": [
       "8"
      ]
     },
     "execution_count": 55,
     "metadata": {},
     "output_type": "execute_result"
    }
   ],
   "source": [
    "len(set(choose_data['doi'].values)&set([i[0] for i in pnas_data]))"
   ]
  },
  {
   "cell_type": "code",
   "execution_count": 659,
   "metadata": {},
   "outputs": [],
   "source": [
    "pnas_overlap=list(set(choose_data['doi'].values)&set([i[0] for i in pnas_data]))"
   ]
  },
  {
   "cell_type": "code",
   "execution_count": 660,
   "metadata": {},
   "outputs": [],
   "source": [
    "standard_pnas=[]\n",
    "for o in pnas_overlap:\n",
    "    i=[j[4] for j in pnas_data if j[0]==o][0]\n",
    "    i=re.sub('([A-Z]).', r'\\1',i)\n",
    "    i=i.replace(';','.')\n",
    "    p=i.split('. ')\n",
    "    a={}\n",
    "    for q in p:\n",
    "        n=[j for j in word_tokenize(q) if j[-1].isupper()==True]\n",
    "        a[q]=n\n",
    "    standard_pnas.append(a)"
   ]
  },
  {
   "cell_type": "code",
   "execution_count": 661,
   "metadata": {},
   "outputs": [],
   "source": [
    "pnas_name=[]\n",
    "for o in pnas_overlap:\n",
    "    pnas_name.append([j[3] for j in pnas_data if j[0]==o][0])"
   ]
  },
  {
   "cell_type": "code",
   "execution_count": 677,
   "metadata": {},
   "outputs": [],
   "source": [
    "c=[]\n",
    "for i,j in zip(standard_pnas, pnas_name): #choose leaders abrreviations\n",
    "    a=[]\n",
    "    for m,n in i.items():\n",
    "        for l in leader:\n",
    "            if l in m:\n",
    "                a.extend(n)\n",
    "    a=[i.replace('-','').replace('.','') for i in a]\n",
    "    b=[]\n",
    "    d=[]\n",
    "    for _ in [re.split(r\" |. |-\",i) for i in j]:\n",
    "        d.append(\"\".join([i[0] for i in _]))\n",
    "    for p,q in enumerate(d):\n",
    "        if q in a:\n",
    "            b.append(p)\n",
    "    if len(b)>0:\n",
    "        c.append(b)\n",
    "    else:\n",
    "        c.append(list(range(p+1)))"
   ]
  },
  {
   "cell_type": "code",
   "execution_count": 678,
   "metadata": {},
   "outputs": [],
   "source": [
    "a=[]\n",
    "for m in pnas_overlap:\n",
    "    a.extend(list(choose_data[choose_data['doi']==m]['position'].values))"
   ]
  },
  {
   "cell_type": "code",
   "execution_count": 679,
   "metadata": {},
   "outputs": [],
   "source": [
    "# count=[]\n",
    "for m,n in zip(a,c):\n",
    "    count.append(all(item in n for item in m))"
   ]
  },
  {
   "cell_type": "code",
   "execution_count": 680,
   "metadata": {},
   "outputs": [
    {
     "data": {
      "text/plain": [
       "33"
      ]
     },
     "execution_count": 680,
     "metadata": {},
     "output_type": "execute_result"
    }
   ],
   "source": [
    "len(count)"
   ]
  },
  {
   "cell_type": "code",
   "execution_count": 681,
   "metadata": {},
   "outputs": [
    {
     "data": {
      "text/plain": [
       "0.7272727272727273"
      ]
     },
     "execution_count": 681,
     "metadata": {},
     "output_type": "execute_result"
    }
   ],
   "source": [
    "len([i for i in count if i==True])/len(count)"
   ]
  },
  {
   "cell_type": "code",
   "execution_count": null,
   "metadata": {},
   "outputs": [],
   "source": []
  },
  {
   "cell_type": "markdown",
   "metadata": {},
   "source": [
    "##### robust_test"
   ]
  },
  {
   "cell_type": "code",
   "execution_count": 8,
   "metadata": {},
   "outputs": [],
   "source": [
    "new_data_dblp=pd.read_csv('/data/sharedleadership/dblp_new_version.csv')"
   ]
  },
  {
   "cell_type": "code",
   "execution_count": 9,
   "metadata": {},
   "outputs": [
    {
     "data": {
      "text/plain": [
       "Index(['tid', 'p_year', 'aid', 'aname', 'aorg', 'aorgc', 'references', 'fos',\n",
       "       'citation2', 'citation5', 'all_citation', 'team_size', 'agender',\n",
       "       'aethnicity', 'career_age', 'mean_career_age', 'gini_career_age',\n",
       "       'collaborator', 'mean_collaborator', 'gini_collaborator',\n",
       "       'productivity', 'mean_productivity', 'gini_productivity'],\n",
       "      dtype='object')"
      ]
     },
     "execution_count": 9,
     "metadata": {},
     "output_type": "execute_result"
    }
   ],
   "source": [
    "new_data_dblp.columns"
   ]
  },
  {
   "cell_type": "code",
   "execution_count": 11,
   "metadata": {},
   "outputs": [
    {
     "data": {
      "text/html": [
       "<div>\n",
       "<style scoped>\n",
       "    .dataframe tbody tr th:only-of-type {\n",
       "        vertical-align: middle;\n",
       "    }\n",
       "\n",
       "    .dataframe tbody tr th {\n",
       "        vertical-align: top;\n",
       "    }\n",
       "\n",
       "    .dataframe thead th {\n",
       "        text-align: right;\n",
       "    }\n",
       "</style>\n",
       "<table border=\"1\" class=\"dataframe\">\n",
       "  <thead>\n",
       "    <tr style=\"text-align: right;\">\n",
       "      <th></th>\n",
       "      <th>tid</th>\n",
       "      <th>p_year</th>\n",
       "      <th>aid</th>\n",
       "      <th>aname</th>\n",
       "      <th>aorg</th>\n",
       "      <th>aorgc</th>\n",
       "      <th>references</th>\n",
       "      <th>fos</th>\n",
       "      <th>citation2</th>\n",
       "      <th>citation5</th>\n",
       "      <th>...</th>\n",
       "      <th>aethnicity</th>\n",
       "      <th>career_age</th>\n",
       "      <th>mean_career_age</th>\n",
       "      <th>gini_career_age</th>\n",
       "      <th>collaborator</th>\n",
       "      <th>mean_collaborator</th>\n",
       "      <th>gini_collaborator</th>\n",
       "      <th>productivity</th>\n",
       "      <th>mean_productivity</th>\n",
       "      <th>gini_productivity</th>\n",
       "    </tr>\n",
       "  </thead>\n",
       "  <tbody>\n",
       "    <tr>\n",
       "      <th>0</th>\n",
       "      <td>1091</td>\n",
       "      <td>2013</td>\n",
       "      <td>[2312688602, 2482909946, 2128134587, 210178269...</td>\n",
       "      <td>['Makoto Satoh', 'Ryo Muramatsu', 'Mizue Kayam...</td>\n",
       "      <td>['Shinshu University', 'Shinshu University', '...</td>\n",
       "      <td>['Japan', 'Japan', 'Japan', 'Japan', 'Japan', ...</td>\n",
       "      <td>[2005687710, 2018037215]</td>\n",
       "      <td>['Telecommunications network', 'Computer scien...</td>\n",
       "      <td>0</td>\n",
       "      <td>0</td>\n",
       "      <td>...</td>\n",
       "      <td>[\"asian\", \"asian\", \"asian\", \"asian\", \"asian\", ...</td>\n",
       "      <td>[1, 1, 16, 20, 20, 6, 17, 13]</td>\n",
       "      <td>11.75</td>\n",
       "      <td>0.351064</td>\n",
       "      <td>[7, 7, 31, 26, 20, 30, 13, 11]</td>\n",
       "      <td>18.125</td>\n",
       "      <td>0.288793</td>\n",
       "      <td>[1, 1, 30, 19, 9, 14, 9, 7]</td>\n",
       "      <td>11.25</td>\n",
       "      <td>0.436111</td>\n",
       "    </tr>\n",
       "  </tbody>\n",
       "</table>\n",
       "<p>1 rows × 23 columns</p>\n",
       "</div>"
      ],
      "text/plain": [
       "    tid  p_year                                                aid  \\\n",
       "0  1091    2013  [2312688602, 2482909946, 2128134587, 210178269...   \n",
       "\n",
       "                                               aname  \\\n",
       "0  ['Makoto Satoh', 'Ryo Muramatsu', 'Mizue Kayam...   \n",
       "\n",
       "                                                aorg  \\\n",
       "0  ['Shinshu University', 'Shinshu University', '...   \n",
       "\n",
       "                                               aorgc  \\\n",
       "0  ['Japan', 'Japan', 'Japan', 'Japan', 'Japan', ...   \n",
       "\n",
       "                 references  \\\n",
       "0  [2005687710, 2018037215]   \n",
       "\n",
       "                                                 fos  citation2  citation5  \\\n",
       "0  ['Telecommunications network', 'Computer scien...          0          0   \n",
       "\n",
       "   ...                                         aethnicity  \\\n",
       "0  ...  [\"asian\", \"asian\", \"asian\", \"asian\", \"asian\", ...   \n",
       "\n",
       "                      career_age mean_career_age gini_career_age  \\\n",
       "0  [1, 1, 16, 20, 20, 6, 17, 13]           11.75        0.351064   \n",
       "\n",
       "                     collaborator  mean_collaborator  gini_collaborator  \\\n",
       "0  [7, 7, 31, 26, 20, 30, 13, 11]             18.125           0.288793   \n",
       "\n",
       "                  productivity  mean_productivity  gini_productivity  \n",
       "0  [1, 1, 30, 19, 9, 14, 9, 7]              11.25           0.436111  \n",
       "\n",
       "[1 rows x 23 columns]"
      ]
     },
     "execution_count": 11,
     "metadata": {},
     "output_type": "execute_result"
    }
   ],
   "source": [
    "new_data_dblp.head(1)"
   ]
  },
  {
   "cell_type": "code",
   "execution_count": 12,
   "metadata": {},
   "outputs": [],
   "source": [
    "new_data_dblp['career_age']=new_data_dblp['career_age'].apply(lambda x: eval(x))"
   ]
  },
  {
   "cell_type": "code",
   "execution_count": 13,
   "metadata": {},
   "outputs": [],
   "source": [
    "new_data_dblp['collaborator']=new_data_dblp['collaborator'].apply(lambda x: eval(x))"
   ]
  },
  {
   "cell_type": "code",
   "execution_count": 17,
   "metadata": {},
   "outputs": [],
   "source": [
    "collaborator=defaultdict(lambda:[])\n",
    "for i,j in zip(new_data_dblp['career_age'],new_data_dblp['collaborator']):\n",
    "    for m,n in zip(i,j):\n",
    "        collaborator[m].append(n)   "
   ]
  },
  {
   "cell_type": "code",
   "execution_count": 20,
   "metadata": {},
   "outputs": [],
   "source": [
    "collaborator_pd=pd.DataFrame(collaborator.items())"
   ]
  },
  {
   "cell_type": "code",
   "execution_count": 23,
   "metadata": {},
   "outputs": [
    {
     "data": {
      "text/html": [
       "<div>\n",
       "<style scoped>\n",
       "    .dataframe tbody tr th:only-of-type {\n",
       "        vertical-align: middle;\n",
       "    }\n",
       "\n",
       "    .dataframe tbody tr th {\n",
       "        vertical-align: top;\n",
       "    }\n",
       "\n",
       "    .dataframe thead th {\n",
       "        text-align: right;\n",
       "    }\n",
       "</style>\n",
       "<table border=\"1\" class=\"dataframe\">\n",
       "  <thead>\n",
       "    <tr style=\"text-align: right;\">\n",
       "      <th></th>\n",
       "      <th>0</th>\n",
       "      <th>1</th>\n",
       "      <th>mean</th>\n",
       "    </tr>\n",
       "  </thead>\n",
       "  <tbody>\n",
       "    <tr>\n",
       "      <th>0</th>\n",
       "      <td>1</td>\n",
       "      <td>[7, 7, 3, 4, 3, 1, 1, 3, 3, 3, 1, 1, 3, 3, 3, ...</td>\n",
       "      <td>3.99209</td>\n",
       "    </tr>\n",
       "  </tbody>\n",
       "</table>\n",
       "</div>"
      ],
      "text/plain": [
       "   0                                                  1     mean\n",
       "0  1  [7, 7, 3, 4, 3, 1, 1, 3, 3, 3, 1, 1, 3, 3, 3, ...  3.99209"
      ]
     },
     "execution_count": 23,
     "metadata": {},
     "output_type": "execute_result"
    }
   ],
   "source": [
    "collaborator_pd.head(1)"
   ]
  },
  {
   "cell_type": "code",
   "execution_count": 22,
   "metadata": {},
   "outputs": [],
   "source": [
    "collaborator_pd['mean']=collaborator_pd[1].apply(lambda x: np.mean(x))"
   ]
  },
  {
   "cell_type": "code",
   "execution_count": 24,
   "metadata": {},
   "outputs": [
    {
     "data": {
      "text/plain": [
       "73"
      ]
     },
     "execution_count": 24,
     "metadata": {},
     "output_type": "execute_result"
    }
   ],
   "source": [
    "len(collaborator_pd)"
   ]
  },
  {
   "cell_type": "code",
   "execution_count": 26,
   "metadata": {},
   "outputs": [],
   "source": [
    "collaborator_pd=collaborator_pd[collaborator_pd[0]<=30]"
   ]
  },
  {
   "cell_type": "code",
   "execution_count": 36,
   "metadata": {},
   "outputs": [
    {
     "data": {
      "text/plain": [
       "Text(0, 0.5, 'Mean Collaborator Num')"
      ]
     },
     "execution_count": 36,
     "metadata": {},
     "output_type": "execute_result"
    },
    {
     "data": {
      "image/png": "[encoded data removed]",
      "text/plain": [
       "<Figure size 432x288 with 1 Axes>"
      ]
     },
     "metadata": {
      "needs_background": "light"
     },
     "output_type": "display_data"
    }
   ],
   "source": [
    "sns.scatterplot(data=collaborator_pd, x=0, y='mean')\n",
    "plt.plot([0,5,10,15,20,25,30],[0,20,40,60,80,100,120])\n",
    "plt.xlabel('Career Age',fontsize=12)\n",
    "plt.ylabel('Mean Collaborator Num',fontsize=12)"
   ]
  },
  {
   "cell_type": "code",
   "execution_count": null,
   "metadata": {},
   "outputs": [],
   "source": []
  }
 ],
 "metadata": {
  "kernelspec": {
   "display_name": "Python 3",
   "language": "python",
   "name": "python3"
  },
  "language_info": {
   "codemirror_mode": {
    "name": "ipython",
    "version": 3
   },
   "file_extension": ".py",
   "mimetype": "text/x-python",
   "name": "python",
   "nbconvert_exporter": "python",
   "pygments_lexer": "ipython3",
   "version": "3.7.4"
  }
 },
 "nbformat": 4,
 "nbformat_minor": 2
}
