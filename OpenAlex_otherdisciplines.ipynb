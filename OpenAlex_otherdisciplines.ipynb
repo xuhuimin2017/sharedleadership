{
 "cells": [
  {
   "cell_type": "code",
   "execution_count": 1,
   "metadata": {},
   "outputs": [
    {
     "name": "stderr",
     "output_type": "stream",
     "text": [
      "/home/xh3993/anaconda3/lib/python3.7/site-packages/statsmodels/tools/_testing.py:19: FutureWarning: pandas.util.testing is deprecated. Use the functions in the public API at pandas.testing instead.\n",
      "  import pandas.util.testing as tm\n"
     ]
    }
   ],
   "source": [
    "import pandas as pd\n",
    "from collections import Counter\n",
    "import matplotlib.pyplot as plt\n",
    "import seaborn as sns\n",
    "from matplotlib.legend_handler import HandlerLine2D\n",
    "import numpy as np\n",
    "import matplotlib\n",
    "import statsmodels.formula.api as smf\n",
    "import pickle\n",
    "import re\n",
    "from tqdm.notebook import tqdm\n",
    "tqdm.pandas()"
   ]
  },
  {
   "cell_type": "code",
   "execution_count": 6,
   "metadata": {},
   "outputs": [
    {
     "name": "stdout",
     "output_type": "stream",
     "text": [
      "0\n",
      "1\n",
      "2\n",
      "3\n",
      "4\n",
      "5\n"
     ]
    },
    {
     "name": "stderr",
     "output_type": "stream",
     "text": [
      "/home/xh3993/anaconda3/lib/python3.7/site-packages/seaborn/algorithms.py:70: RuntimeWarning: Mean of empty slice.\n",
      "  return getattr(x, func)()\n",
      "/home/xh3993/anaconda3/lib/python3.7/site-packages/numpy/core/_methods.py:189: RuntimeWarning: invalid value encountered in double_scalars\n",
      "  ret = ret.dtype.type(ret / rcount)\n",
      "/home/xh3993/anaconda3/lib/python3.7/site-packages/seaborn/algorithms.py:70: RuntimeWarning: Mean of empty slice.\n",
      "  return getattr(x, func)()\n",
      "/home/xh3993/anaconda3/lib/python3.7/site-packages/numpy/core/_methods.py:189: RuntimeWarning: invalid value encountered in double_scalars\n",
      "  ret = ret.dtype.type(ret / rcount)\n"
     ]
    },
    {
     "data": {
      "image/png": "[encoded data removed]",
      "text/plain": [
       "<Figure size 432x288 with 1 Axes>"
      ]
     },
     "metadata": {
      "needs_background": "light"
     },
     "output_type": "display_data"
    }
   ],
   "source": [
    "discipline_name='Psychology'\n",
    "data=pd.read_csv('/data/openalex/processed/sharedleadership/'+discipline_name+'_teams.csv')\n",
    "print('the number of papers', len(data))\n",
    "data['sci_age']=data['sci_age'].progress_apply(lambda x: eval(x))\n",
    "def seniority(x):\n",
    "    return 1 if len([i for i in x if i>=10])==0 else 0,len([i for i in x if (i>=10)&(i<15)]),len([i for i in x if (i>=15)&(i<20)]),len([i for i in x if i>=20])\n",
    "data['seniority']=data['sci_age'].progress_apply(lambda x: seniority(x))\n",
    "data['seniority_n']=data['seniority'].progress_apply(lambda x: np.sum(x))\n",
    "data['seniority1']=data['seniority'].progress_apply(lambda x: str(x[1:]))\n",
    "data['citation2_rank']=data.groupby(['year'])['citation2'].rank(pct=True)\n",
    "data['citation5_rank']=data.groupby(['year'])['citation5'].rank(pct=True)\n",
    "data['citation10_rank']=data.groupby(['year'])['citation10'].rank(pct=True)\n",
    "data['citation2_rank']=data['citation2_rank']*100\n",
    "data['citation5_rank']=data['citation5_rank']*100\n",
    "data['citation10_rank']=data['citation10_rank']*100\n",
    "print('the number of two leaders',len(data[data['seniority_n']==2]))\n",
    "print('the propotion of two leaders among multiple leaders',len(data[data['seniority_n']==2])/len(data[data['seniority_n']>=2]))\n",
    "data=data[data['seniority_n']==2]\n",
    "def position(x):\n",
    "    a=[]\n",
    "    for e,i in enumerate(x):\n",
    "        if i>=10:\n",
    "            a.append(e)\n",
    "    return a\n",
    "data['position']=data['sci_age'].apply(lambda x: position(x))\n",
    "data['last_two']=data['len'].apply(lambda x: [x-2,x-1])\n",
    "data['first_last']=data['len'].apply(lambda x: [0,x-1])\n",
    "data['mean_leader']=data['sci_age'].apply(lambda x: np.mean([i for i in x if i>=10]))\n",
    "len(data[(data['position']==data['last_two'])|(data['position']==data['first_last'])])\n",
    "choose_data=data[(data['position']==data['last_two'])|(data['position']==data['first_last'])]\n",
    "print(Counter(choose_data['seniority1'].values))\n",
    "choose_data.to_csv('/data/openalex/processed/sharedleadership/'+discipline_name+'_sharedleadership.csv',index=False)\n",
    "e=['(2, 0, 0)', '(0, 2, 0)', '(0, 0, 2)', '(1, 1, 0)', '(0, 1, 1)', '(1, 0, 1)']\n",
    "\n",
    "data1=pd.DataFrame()\n",
    "for i,n in enumerate(e):\n",
    "    print(i)\n",
    "    _=choose_data[choose_data['seniority1']==n]\n",
    "    for q in range(10):\n",
    "        data1=data1.append(_.sample(20000,random_state=100))\n",
    "def homo(x):\n",
    "    if (x=='(2, 0, 0)') or (x=='(0, 2, 0)') or (x=='(0, 0, 2)'):\n",
    "        return 'homogenous'\n",
    "    else:\n",
    "        return 'heterogenous'       \n",
    "data1['type']=data1['seniority1'].apply(lambda x: homo(x))\n",
    "data1['seniority1']=pd.Categorical(data1['seniority1'],categories=e,ordered=True)\n",
    "plt.figure(figsize=(6,4))\n",
    "ax=sns.lineplot(data=data1, x=\"seniority1\", y=\"citation10_rank\",hue='type',marker=\"s\",markersize=15,palette=['green','red'])\n",
    "plt.xlabel('Leader Categories(10-15, 15-20, 20+)',fontsize=12)\n",
    "plt.ylabel('Mean 5-Year Citation Percentile',fontsize=12)\n",
    "plt.legend(frameon=False, labels=['homogenous','heterogenous'])\n",
    "ax.spines['right'].set_visible(False)\n",
    "ax.spines['top'].set_visible(False)\n",
    "plt.title(discipline_name, fontsize=20)\n",
    "# plt.savefig('/home/xh3993/sharedleadership/picture/homo_hete.png',dpi=300)\n",
    "plt.show()\n"
   ]
  },
  {
   "cell_type": "code",
   "execution_count": 7,
   "metadata": {},
   "outputs": [
    {
     "name": "stdout",
     "output_type": "stream",
     "text": [
      "the number of papers 18897611\n"
     ]
    },
    {
     "data": {
      "application/vnd.jupyter.widget-view+json": {
       "model_id": "b3e0428f32814f7e8da7521bf5b8643f",
       "version_major": 2,
       "version_minor": 0
      },
      "text/plain": [
       "  0%|          | 0/18897611 [00:00<?, ?it/s]"
      ]
     },
     "metadata": {},
     "output_type": "display_data"
    },
    {
     "data": {
      "application/vnd.jupyter.widget-view+json": {
       "model_id": "327d6e7c88794ca7a13d12b189be9e26",
       "version_major": 2,
       "version_minor": 0
      },
      "text/plain": [
       "  0%|          | 0/18897611 [00:00<?, ?it/s]"
      ]
     },
     "metadata": {},
     "output_type": "display_data"
    },
    {
     "data": {
      "application/vnd.jupyter.widget-view+json": {
       "model_id": "8d169f3706d44dc8a545b3bfa3a8dac6",
       "version_major": 2,
       "version_minor": 0
      },
      "text/plain": [
       "  0%|          | 0/18897611 [00:00<?, ?it/s]"
      ]
     },
     "metadata": {},
     "output_type": "display_data"
    },
    {
     "data": {
      "application/vnd.jupyter.widget-view+json": {
       "model_id": "71cc69c438134b82a421b192d9f3c354",
       "version_major": 2,
       "version_minor": 0
      },
      "text/plain": [
       "  0%|          | 0/18897611 [00:00<?, ?it/s]"
      ]
     },
     "metadata": {},
     "output_type": "display_data"
    },
    {
     "name": "stdout",
     "output_type": "stream",
     "text": [
      "the number of two leaders 3182042\n",
      "the propotion of two leaders among multiple leaders 0.5070188196783166\n",
      "Counter({'(1, 0, 1)': 526680, '(0, 0, 2)': 476021, '(0, 1, 1)': 407089, '(1, 1, 0)': 276207, '(2, 0, 0)': 226265, '(0, 2, 0)': 138896})\n",
      "0\n",
      "1\n",
      "2\n",
      "3\n",
      "4\n",
      "5\n"
     ]
    },
    {
     "name": "stderr",
     "output_type": "stream",
     "text": [
      "/home/xh3993/anaconda3/lib/python3.7/site-packages/seaborn/algorithms.py:70: RuntimeWarning: Mean of empty slice.\n",
      "  return getattr(x, func)()\n",
      "/home/xh3993/anaconda3/lib/python3.7/site-packages/numpy/core/_methods.py:189: RuntimeWarning: invalid value encountered in double_scalars\n",
      "  ret = ret.dtype.type(ret / rcount)\n",
      "/home/xh3993/anaconda3/lib/python3.7/site-packages/seaborn/algorithms.py:70: RuntimeWarning: Mean of empty slice.\n",
      "  return getattr(x, func)()\n",
      "/home/xh3993/anaconda3/lib/python3.7/site-packages/numpy/core/_methods.py:189: RuntimeWarning: invalid value encountered in double_scalars\n",
      "  ret = ret.dtype.type(ret / rcount)\n"
     ]
    },
    {
     "data": {
      "image/png": "[encoded data removed]",
      "text/plain": [
       "<Figure size 432x288 with 1 Axes>"
      ]
     },
     "metadata": {
      "needs_background": "light"
     },
     "output_type": "display_data"
    }
   ],
   "source": [
    "discipline_name='Physics'\n",
    "data=pd.read_csv('/data/openalex/processed/sharedleadership/'+discipline_name+'_teams.csv')\n",
    "print('the number of papers', len(data))\n",
    "data['sci_age']=data['sci_age'].progress_apply(lambda x: eval(x))\n",
    "def seniority(x):\n",
    "    return 1 if len([i for i in x if i>=10])==0 else 0,len([i for i in x if (i>=10)&(i<15)]),len([i for i in x if (i>=15)&(i<20)]),len([i for i in x if i>=20])\n",
    "data['seniority']=data['sci_age'].progress_apply(lambda x: seniority(x))\n",
    "data['seniority_n']=data['seniority'].progress_apply(lambda x: np.sum(x))\n",
    "data['seniority1']=data['seniority'].progress_apply(lambda x: str(x[1:]))\n",
    "data['citation2_rank']=data.groupby(['year'])['citation2'].rank(pct=True)\n",
    "data['citation5_rank']=data.groupby(['year'])['citation5'].rank(pct=True)\n",
    "data['citation10_rank']=data.groupby(['year'])['citation10'].rank(pct=True)\n",
    "data['citation2_rank']=data['citation2_rank']*100\n",
    "data['citation5_rank']=data['citation5_rank']*100\n",
    "data['citation10_rank']=data['citation10_rank']*100\n",
    "print('the number of two leaders',len(data[data['seniority_n']==2]))\n",
    "print('the propotion of two leaders among multiple leaders',len(data[data['seniority_n']==2])/len(data[data['seniority_n']>=2]))\n",
    "data=data[data['seniority_n']==2]\n",
    "def position(x):\n",
    "    a=[]\n",
    "    for e,i in enumerate(x):\n",
    "        if i>=10:\n",
    "            a.append(e)\n",
    "    return a\n",
    "data['position']=data['sci_age'].apply(lambda x: position(x))\n",
    "data['last_two']=data['len'].apply(lambda x: [x-2,x-1])\n",
    "data['first_last']=data['len'].apply(lambda x: [0,x-1])\n",
    "data['mean_leader']=data['sci_age'].apply(lambda x: np.mean([i for i in x if i>=10]))\n",
    "len(data[(data['position']==data['last_two'])|(data['position']==data['first_last'])])\n",
    "choose_data=data[(data['position']==data['last_two'])|(data['position']==data['first_last'])]\n",
    "print(Counter(choose_data['seniority1'].values))\n",
    "choose_data.to_csv('/data/openalex/processed/sharedleadership/'+discipline_name+'_sharedleadership.csv',index=False)\n",
    "e=['(2, 0, 0)', '(0, 2, 0)', '(0, 0, 2)', '(1, 1, 0)', '(0, 1, 1)', '(1, 0, 1)']\n",
    "\n",
    "data1=pd.DataFrame()\n",
    "for i,n in enumerate(e):\n",
    "    print(i)\n",
    "    _=choose_data[choose_data['seniority1']==n]\n",
    "    for q in range(10):\n",
    "        data1=data1.append(_.sample(50000,random_state=100))\n",
    "def homo(x):\n",
    "    if (x=='(2, 0, 0)') or (x=='(0, 2, 0)') or (x=='(0, 0, 2)'):\n",
    "        return 'homogenous'\n",
    "    else:\n",
    "        return 'heterogenous'       \n",
    "data1['type']=data1['seniority1'].apply(lambda x: homo(x))\n",
    "data1['seniority1']=pd.Categorical(data1['seniority1'],categories=e,ordered=True)\n",
    "plt.figure(figsize=(6,4))\n",
    "ax=sns.lineplot(data=data1, x=\"seniority1\", y=\"citation10_rank\",hue='type',marker=\"s\",markersize=15,palette=['green','red'])\n",
    "plt.xlabel('Leader Categories(10-15, 15-20, 20+)',fontsize=12)\n",
    "plt.ylabel('Mean 5-Year Citation Percentile',fontsize=12)\n",
    "plt.legend(frameon=False, labels=['homogenous','heterogenous'])\n",
    "ax.spines['right'].set_visible(False)\n",
    "ax.spines['top'].set_visible(False)\n",
    "plt.title(discipline_name, fontsize=20)\n",
    "# plt.savefig('/home/xh3993/sharedleadership/picture/homo_hete.png',dpi=300)\n",
    "plt.show()\n"
   ]
  },
  {
   "cell_type": "code",
   "execution_count": 14,
   "metadata": {},
   "outputs": [
    {
     "name": "stdout",
     "output_type": "stream",
     "text": [
      "0\n",
      "1\n",
      "2\n",
      "3\n",
      "4\n",
      "5\n"
     ]
    },
    {
     "name": "stderr",
     "output_type": "stream",
     "text": [
      "/home/xh3993/anaconda3/lib/python3.7/site-packages/seaborn/algorithms.py:70: RuntimeWarning: Mean of empty slice.\n",
      "  return getattr(x, func)()\n",
      "/home/xh3993/anaconda3/lib/python3.7/site-packages/numpy/core/_methods.py:189: RuntimeWarning: invalid value encountered in double_scalars\n",
      "  ret = ret.dtype.type(ret / rcount)\n",
      "/home/xh3993/anaconda3/lib/python3.7/site-packages/seaborn/algorithms.py:70: RuntimeWarning: Mean of empty slice.\n",
      "  return getattr(x, func)()\n",
      "/home/xh3993/anaconda3/lib/python3.7/site-packages/numpy/core/_methods.py:189: RuntimeWarning: invalid value encountered in double_scalars\n",
      "  ret = ret.dtype.type(ret / rcount)\n"
     ]
    },
    {
     "data": {
      "image/png": "[encoded data removed]",
      "text/plain": [
       "<Figure size 432x288 with 1 Axes>"
      ]
     },
     "metadata": {
      "needs_background": "light"
     },
     "output_type": "display_data"
    }
   ],
   "source": [
    "discipline_name='Engineering'\n",
    "data=pd.read_csv('/data/openalex/processed/sharedleadership/'+discipline_name+'_teams.csv')\n",
    "print('the number of papers', len(data))\n",
    "data['sci_age']=data['sci_age'].progress_apply(lambda x: eval(x))\n",
    "def seniority(x):\n",
    "    return 1 if len([i for i in x if i>=10])==0 else 0,len([i for i in x if (i>=10)&(i<15)]),len([i for i in x if (i>=15)&(i<20)]),len([i for i in x if i>=20])\n",
    "data['seniority']=data['sci_age'].progress_apply(lambda x: seniority(x))\n",
    "data['seniority_n']=data['seniority'].progress_apply(lambda x: np.sum(x))\n",
    "data['seniority1']=data['seniority'].progress_apply(lambda x: str(x[1:]))\n",
    "data['citation2_rank']=data.groupby(['year'])['citation2'].rank(pct=True)\n",
    "data['citation5_rank']=data.groupby(['year'])['citation5'].rank(pct=True)\n",
    "data['citation10_rank']=data.groupby(['year'])['citation10'].rank(pct=True)\n",
    "data['citation2_rank']=data['citation2_rank']*100\n",
    "data['citation5_rank']=data['citation5_rank']*100\n",
    "data['citation10_rank']=data['citation10_rank']*100\n",
    "print('the number of two leaders',len(data[data['seniority_n']==2]))\n",
    "print('the propotion of two leaders among multiple leaders',len(data[data['seniority_n']==2])/len(data[data['seniority_n']>=2]))\n",
    "data=data[data['seniority_n']==2]\n",
    "def position(x):\n",
    "    a=[]\n",
    "    for e,i in enumerate(x):\n",
    "        if i>=10:\n",
    "            a.append(e)\n",
    "    return a\n",
    "data['position']=data['sci_age'].apply(lambda x: position(x))\n",
    "data['last_two']=data['len'].apply(lambda x: [x-2,x-1])\n",
    "data['first_last']=data['len'].apply(lambda x: [0,x-1])\n",
    "data['mean_leader']=data['sci_age'].apply(lambda x: np.mean([i for i in x if i>=10]))\n",
    "len(data[(data['position']==data['last_two'])|(data['position']==data['first_last'])])\n",
    "choose_data=data[(data['position']==data['last_two'])|(data['position']==data['first_last'])]\n",
    "print(Counter(choose_data['seniority1'].values))\n",
    "choose_data.to_csv('/data/openalex/processed/sharedleadership/'+discipline_name+'_sharedleadership.csv',index=False)\n",
    "e=['(2, 0, 0)', '(0, 2, 0)', '(0, 0, 2)', '(1, 1, 0)', '(0, 1, 1)', '(1, 0, 1)']\n",
    "\n",
    "data1=pd.DataFrame()\n",
    "for i,n in enumerate(e):\n",
    "    print(i)\n",
    "    _=choose_data[choose_data['seniority1']==n]\n",
    "    for q in range(10):\n",
    "        data1=data1.append(_.sample(50000,random_state=100))\n",
    "def homo(x):\n",
    "    if (x=='(2, 0, 0)') or (x=='(0, 2, 0)') or (x=='(0, 0, 2)'):\n",
    "        return 'homogenous'\n",
    "    else:\n",
    "        return 'heterogenous'       \n",
    "data1['type']=data1['seniority1'].apply(lambda x: homo(x))\n",
    "data1['seniority1']=pd.Categorical(data1['seniority1'],categories=e,ordered=True)\n",
    "plt.figure(figsize=(6,4))\n",
    "ax=sns.lineplot(data=data1, x=\"seniority1\", y=\"citation10_rank\",hue='type',marker=\"s\",markersize=15,palette=['green','red'])\n",
    "plt.xlabel('Leader Categories(10-15, 15-20, 20+)',fontsize=12)\n",
    "plt.ylabel('Mean 5-Year Citation Percentile',fontsize=12)\n",
    "plt.legend(frameon=False, labels=['homogenous','heterogenous'])\n",
    "ax.spines['right'].set_visible(False)\n",
    "ax.spines['top'].set_visible(False)\n",
    "plt.title(discipline_name, fontsize=20)\n",
    "# plt.savefig('/home/xh3993/sharedleadership/picture/homo_hete.png',dpi=300)\n",
    "plt.show()\n"
   ]
  },
  {
   "cell_type": "code",
   "execution_count": 84,
   "metadata": {},
   "outputs": [
    {
     "name": "stdout",
     "output_type": "stream",
     "text": [
      "the number of papers 4153613\n"
     ]
    },
    {
     "data": {
      "application/vnd.jupyter.widget-view+json": {
       "model_id": "6e5cc27a6f314066aacee436bcc516ba",
       "version_major": 2,
       "version_minor": 0
      },
      "text/plain": [
       "  0%|          | 0/4153613 [00:00<?, ?it/s]"
      ]
     },
     "metadata": {},
     "output_type": "display_data"
    },
    {
     "data": {
      "application/vnd.jupyter.widget-view+json": {
       "model_id": "8a22723b6b8c461e9c6ee43f2c8c0e91",
       "version_major": 2,
       "version_minor": 0
      },
      "text/plain": [
       "  0%|          | 0/4153613 [00:00<?, ?it/s]"
      ]
     },
     "metadata": {},
     "output_type": "display_data"
    },
    {
     "data": {
      "application/vnd.jupyter.widget-view+json": {
       "model_id": "2fd8129c2a504c9ba4e9e2eaf06c6c29",
       "version_major": 2,
       "version_minor": 0
      },
      "text/plain": [
       "  0%|          | 0/4153613 [00:00<?, ?it/s]"
      ]
     },
     "metadata": {},
     "output_type": "display_data"
    },
    {
     "data": {
      "application/vnd.jupyter.widget-view+json": {
       "model_id": "55e676a17c694fbc8c5653fb5b67a23b",
       "version_major": 2,
       "version_minor": 0
      },
      "text/plain": [
       "  0%|          | 0/4153613 [00:00<?, ?it/s]"
      ]
     },
     "metadata": {},
     "output_type": "display_data"
    },
    {
     "data": {
      "application/vnd.jupyter.widget-view+json": {
       "model_id": "c25cd15b97f4403d810725d0e9676ff1",
       "version_major": 2,
       "version_minor": 0
      },
      "text/plain": [
       "  0%|          | 0/4153613 [00:00<?, ?it/s]"
      ]
     },
     "metadata": {},
     "output_type": "display_data"
    },
    {
     "data": {
      "application/vnd.jupyter.widget-view+json": {
       "model_id": "4e2af9cbb72b4ca5907bce14902eeb0f",
       "version_major": 2,
       "version_minor": 0
      },
      "text/plain": [
       "  0%|          | 0/4153613 [00:00<?, ?it/s]"
      ]
     },
     "metadata": {},
     "output_type": "display_data"
    },
    {
     "data": {
      "application/vnd.jupyter.widget-view+json": {
       "model_id": "2d54713bf369487b9e46b2141dcb5ecc",
       "version_major": 2,
       "version_minor": 0
      },
      "text/plain": [
       "  0%|          | 0/4153613 [00:00<?, ?it/s]"
      ]
     },
     "metadata": {},
     "output_type": "display_data"
    },
    {
     "data": {
      "application/vnd.jupyter.widget-view+json": {
       "model_id": "ddf40dffdfde40b29125d7d708ace41a",
       "version_major": 2,
       "version_minor": 0
      },
      "text/plain": [
       "  0%|          | 0/4153613 [00:00<?, ?it/s]"
      ]
     },
     "metadata": {},
     "output_type": "display_data"
    },
    {
     "name": "stdout",
     "output_type": "stream",
     "text": [
      "the number of two leaders 466525\n",
      "the propotion of two leaders among multiple leaders 0.5765589739406837\n",
      "254039\n",
      "Counter({'(1, 0, 1)': 61220, '(1, 1, 0)': 46787, '(2, 0, 0)': 44258, '(0, 1, 1)': 43310, '(0, 0, 2)': 39646, '(0, 2, 0)': 18818})\n",
      "0\n",
      "1\n",
      "2\n",
      "3\n",
      "4\n",
      "5\n"
     ]
    }
   ],
   "source": [
    "discipline_name='Sociology'\n",
    "data=pd.read_csv('/data/openalex/processed/sharedleadership/'+discipline_name+'_teams.csv')\n",
    "print('the number of papers', len(data))\n",
    "data['sci_age']=data['sci_age'].progress_apply(lambda x: eval(x))\n",
    "data['author']=data['author'].progress_apply(lambda x: eval(x))\n",
    "\n",
    "# delete repeat values\n",
    "def delete(x,y):\n",
    "    W={}\n",
    "    for i,j in zip(x,y):\n",
    "        W[i]=j\n",
    "    return W\n",
    "\n",
    "data['delete']=data.progress_apply(lambda x: delete (x['author'], x['sci_age']), axis=1)\n",
    "data['author']=data['delete'].progress_apply(lambda x: list(x.keys()))\n",
    "data['sci_age']=data['delete'].progress_apply(lambda x: list(x.values()))\n",
    "\n",
    "def seniority(x):\n",
    "    return 1 if len([i for i in x if i>=10])==0 else 0,len([i for i in x if (i>=10)&(i<15)]),len([i for i in x if (i>=15)&(i<20)]),len([i for i in x if i>=20])\n",
    "data['seniority']=data['sci_age'].progress_apply(lambda x: seniority(x))\n",
    "data['seniority_n']=data['seniority'].progress_apply(lambda x: np.sum(x))\n",
    "data['seniority1']=data['seniority'].progress_apply(lambda x: str(x[1:]))\n",
    "data['citation2_rank']=data.groupby(['year'])['citation2'].rank(pct=True)\n",
    "data['citation5_rank']=data.groupby(['year'])['citation5'].rank(pct=True)\n",
    "data['citation10_rank']=data.groupby(['year'])['citation10'].rank(pct=True)\n",
    "data['citation2_rank']=data['citation2_rank']*100\n",
    "data['citation5_rank']=data['citation5_rank']*100\n",
    "data['citation10_rank']=data['citation10_rank']*100\n",
    "print('the number of two leaders',len(data[data['seniority_n']==2]))\n",
    "print('the propotion of two leaders among multiple leaders',len(data[data['seniority_n']==2])/len(data[data['seniority_n']>=2]))\n",
    "data=data[data['seniority_n']==2]\n",
    "def position(x):\n",
    "    a=[]\n",
    "    for e,i in enumerate(x):\n",
    "        if i>=10:\n",
    "            a.append(e)\n",
    "    return a\n",
    "data['position']=data['sci_age'].apply(lambda x: position(x))\n",
    "data['last_two']=data['len'].apply(lambda x: [x-2,x-1])\n",
    "data['first_last']=data['len'].apply(lambda x: [0,x-1])\n",
    "data['mean_leader']=data['sci_age'].apply(lambda x: np.mean([i for i in x if i>=10]))\n",
    "print(len(data[(data['position']==data['last_two'])|(data['position']==data['first_last'])]))\n",
    "choose_data=data[(data['position']==data['last_two'])|(data['position']==data['first_last'])]\n",
    "print(Counter(choose_data['seniority1'].values))\n",
    "choose_data.to_csv('/data/openalex/processed/sharedleadership/'+discipline_name+'_sharedleadership.csv',index=False)\n",
    "\n",
    "e=['(2, 0, 0)', '(0, 2, 0)', '(0, 0, 2)', '(1, 1, 0)', '(0, 1, 1)', '(1, 0, 1)']\n",
    "data1=pd.DataFrame()\n",
    "for i,n in enumerate(e):\n",
    "    print(i)\n",
    "    _=choose_data[choose_data['seniority1']==n]\n",
    "    for q in range(10):\n",
    "        data1=data1.append(_.sample(18818,random_state=100))\n",
    "def homo(x):\n",
    "    if (x=='(2, 0, 0)') or (x=='(0, 2, 0)') or (x=='(0, 0, 2)'):\n",
    "        return 'homogenous'\n",
    "    else:\n",
    "        return 'heterogenous'       \n",
    "data1['type']=data1['seniority1'].apply(lambda x: homo(x))\n",
    "data1['seniority1']=pd.Categorical(data1['seniority1'],categories=e,ordered=True)"
   ]
  },
  {
   "cell_type": "code",
   "execution_count": 85,
   "metadata": {},
   "outputs": [],
   "source": [
    "data1_sociology=data1\n",
    "sociology_choose_data=choose_data"
   ]
  },
  {
   "cell_type": "code",
   "execution_count": null,
   "metadata": {},
   "outputs": [],
   "source": []
  },
  {
   "cell_type": "code",
   "execution_count": 22,
   "metadata": {},
   "outputs": [
    {
     "name": "stdout",
     "output_type": "stream",
     "text": [
      "the number of papers 3898943\n"
     ]
    },
    {
     "data": {
      "application/vnd.jupyter.widget-view+json": {
       "model_id": "e7072c19bbc14824a701e709f7eaee29",
       "version_major": 2,
       "version_minor": 0
      },
      "text/plain": [
       "  0%|          | 0/3898943 [00:00<?, ?it/s]"
      ]
     },
     "metadata": {},
     "output_type": "display_data"
    },
    {
     "data": {
      "application/vnd.jupyter.widget-view+json": {
       "model_id": "5ee631022a30434ca1c4eab1f77263f5",
       "version_major": 2,
       "version_minor": 0
      },
      "text/plain": [
       "  0%|          | 0/3898943 [00:00<?, ?it/s]"
      ]
     },
     "metadata": {},
     "output_type": "display_data"
    },
    {
     "data": {
      "application/vnd.jupyter.widget-view+json": {
       "model_id": "f8058ad2f1ea471abff142d60e36a7e8",
       "version_major": 2,
       "version_minor": 0
      },
      "text/plain": [
       "  0%|          | 0/3898943 [00:00<?, ?it/s]"
      ]
     },
     "metadata": {},
     "output_type": "display_data"
    },
    {
     "data": {
      "application/vnd.jupyter.widget-view+json": {
       "model_id": "f90b7211a2c5420796845ba4e98388aa",
       "version_major": 2,
       "version_minor": 0
      },
      "text/plain": [
       "  0%|          | 0/3898943 [00:00<?, ?it/s]"
      ]
     },
     "metadata": {},
     "output_type": "display_data"
    },
    {
     "data": {
      "application/vnd.jupyter.widget-view+json": {
       "model_id": "ef97ec00e809494d8dd4ec3dfd85d05a",
       "version_major": 2,
       "version_minor": 0
      },
      "text/plain": [
       "  0%|          | 0/3898943 [00:00<?, ?it/s]"
      ]
     },
     "metadata": {},
     "output_type": "display_data"
    },
    {
     "data": {
      "application/vnd.jupyter.widget-view+json": {
       "model_id": "e8c85b55f9524e90af52380ebe6d4b6e",
       "version_major": 2,
       "version_minor": 0
      },
      "text/plain": [
       "  0%|          | 0/3898943 [00:00<?, ?it/s]"
      ]
     },
     "metadata": {},
     "output_type": "display_data"
    },
    {
     "data": {
      "application/vnd.jupyter.widget-view+json": {
       "model_id": "1cd1247c848e4344b587937f43dbca1c",
       "version_major": 2,
       "version_minor": 0
      },
      "text/plain": [
       "  0%|          | 0/3898943 [00:00<?, ?it/s]"
      ]
     },
     "metadata": {},
     "output_type": "display_data"
    },
    {
     "data": {
      "application/vnd.jupyter.widget-view+json": {
       "model_id": "83e82ccac5c6489d93f3acbd24f05b90",
       "version_major": 2,
       "version_minor": 0
      },
      "text/plain": [
       "  0%|          | 0/3898943 [00:00<?, ?it/s]"
      ]
     },
     "metadata": {},
     "output_type": "display_data"
    },
    {
     "name": "stdout",
     "output_type": "stream",
     "text": [
      "the number of two leaders 328891\n",
      "the propotion of two leaders among multiple leaders 0.7201057088932971\n",
      "193338\n",
      "Counter({'(1, 0, 1)': 44338, '(2, 0, 0)': 40505, '(1, 1, 0)': 39217, '(0, 1, 1)': 29717, '(0, 0, 2)': 24715, '(0, 2, 0)': 14846})\n",
      "0\n",
      "1\n",
      "2\n",
      "3\n",
      "4\n",
      "5\n"
     ]
    }
   ],
   "source": [
    "discipline_name='Business'\n",
    "data=pd.read_csv('/data/openalex/processed/sharedleadership/'+discipline_name+'_teams.csv')\n",
    "print('the number of papers', len(data))\n",
    "data['sci_age']=data['sci_age'].progress_apply(lambda x: eval(x))\n",
    "data['author']=data['author'].progress_apply(lambda x: eval(x))\n",
    "\n",
    "# delete repeat values\n",
    "def delete(x,y):\n",
    "    W={}\n",
    "    for i,j in zip(x,y):\n",
    "        W[i]=j\n",
    "    return W\n",
    "\n",
    "data['delete']=data.progress_apply(lambda x: delete (x['author'], x['sci_age']), axis=1)\n",
    "data['author']=data['delete'].progress_apply(lambda x: list(x.keys()))\n",
    "data['sci_age']=data['delete'].progress_apply(lambda x: list(x.values()))\n",
    "\n",
    "def seniority(x):\n",
    "    return 1 if len([i for i in x if i>=10])==0 else 0,len([i for i in x if (i>=10)&(i<15)]),len([i for i in x if (i>=15)&(i<20)]),len([i for i in x if i>=20])\n",
    "data['seniority']=data['sci_age'].progress_apply(lambda x: seniority(x))\n",
    "data['seniority_n']=data['seniority'].progress_apply(lambda x: np.sum(x))\n",
    "data['seniority1']=data['seniority'].progress_apply(lambda x: str(x[1:]))\n",
    "data['citation2_rank']=data.groupby(['year'])['citation2'].rank(pct=True)\n",
    "data['citation5_rank']=data.groupby(['year'])['citation5'].rank(pct=True)\n",
    "data['citation10_rank']=data.groupby(['year'])['citation10'].rank(pct=True)\n",
    "data['citation2_rank']=data['citation2_rank']*100\n",
    "data['citation5_rank']=data['citation5_rank']*100\n",
    "data['citation10_rank']=data['citation10_rank']*100\n",
    "print('the number of two leaders',len(data[data['seniority_n']==2]))\n",
    "print('the propotion of two leaders among multiple leaders',len(data[data['seniority_n']==2])/len(data[data['seniority_n']>=2]))\n",
    "data=data[data['seniority_n']==2]\n",
    "def position(x):\n",
    "    a=[]\n",
    "    for e,i in enumerate(x):\n",
    "        if i>=10:\n",
    "            a.append(e)\n",
    "    return a\n",
    "data['position']=data['sci_age'].apply(lambda x: position(x))\n",
    "data['last_two']=data['len'].apply(lambda x: [x-2,x-1])\n",
    "data['first_last']=data['len'].apply(lambda x: [0,x-1])\n",
    "data['mean_leader']=data['sci_age'].apply(lambda x: np.mean([i for i in x if i>=10]))\n",
    "print(len(data[(data['position']==data['last_two'])|(data['position']==data['first_last'])]))\n",
    "choose_data=data[(data['position']==data['last_two'])|(data['position']==data['first_last'])]\n",
    "print(Counter(choose_data['seniority1'].values))\n",
    "choose_data.to_csv('/data/openalex/processed/sharedleadership/'+discipline_name+'_sharedleadership.csv',index=False)\n",
    "e=['(2, 0, 0)', '(0, 2, 0)', '(0, 0, 2)', '(1, 1, 0)', '(0, 1, 1)', '(1, 0, 1)']\n",
    "\n",
    "data1=pd.DataFrame()\n",
    "for i,n in enumerate(e):\n",
    "    print(i)\n",
    "    _=choose_data[choose_data['seniority1']==n]\n",
    "    for q in range(10):\n",
    "        data1=data1.append(_.sample(10000,random_state=100))\n",
    "def homo(x):\n",
    "    if (x=='(2, 0, 0)') or (x=='(0, 2, 0)') or (x=='(0, 0, 2)'):\n",
    "        return 'homogenous'\n",
    "    else:\n",
    "        return 'heterogenous'       \n",
    "data1['type']=data1['seniority1'].apply(lambda x: homo(x))\n",
    "data1['seniority1']=pd.Categorical(data1['seniority1'],categories=e,ordered=True)\n",
    "\n"
   ]
  },
  {
   "cell_type": "code",
   "execution_count": 23,
   "metadata": {},
   "outputs": [],
   "source": [
    "data1_business=data1\n",
    "business_choose_data=choose_data"
   ]
  },
  {
   "cell_type": "code",
   "execution_count": 28,
   "metadata": {},
   "outputs": [
    {
     "name": "stderr",
     "output_type": "stream",
     "text": [
      "/home/xh3993/anaconda3/lib/python3.7/site-packages/seaborn/algorithms.py:70: RuntimeWarning: Mean of empty slice.\n",
      "  return getattr(x, func)()\n",
      "/home/xh3993/anaconda3/lib/python3.7/site-packages/numpy/core/_methods.py:189: RuntimeWarning: invalid value encountered in double_scalars\n",
      "  ret = ret.dtype.type(ret / rcount)\n",
      "/home/xh3993/anaconda3/lib/python3.7/site-packages/seaborn/algorithms.py:70: RuntimeWarning: Mean of empty slice.\n",
      "  return getattr(x, func)()\n",
      "/home/xh3993/anaconda3/lib/python3.7/site-packages/numpy/core/_methods.py:189: RuntimeWarning: invalid value encountered in double_scalars\n",
      "  ret = ret.dtype.type(ret / rcount)\n",
      "/home/xh3993/anaconda3/lib/python3.7/site-packages/seaborn/algorithms.py:70: RuntimeWarning: Mean of empty slice.\n",
      "  return getattr(x, func)()\n",
      "/home/xh3993/anaconda3/lib/python3.7/site-packages/numpy/core/_methods.py:189: RuntimeWarning: invalid value encountered in double_scalars\n",
      "  ret = ret.dtype.type(ret / rcount)\n",
      "/home/xh3993/anaconda3/lib/python3.7/site-packages/seaborn/algorithms.py:70: RuntimeWarning: Mean of empty slice.\n",
      "  return getattr(x, func)()\n",
      "/home/xh3993/anaconda3/lib/python3.7/site-packages/numpy/core/_methods.py:189: RuntimeWarning: invalid value encountered in double_scalars\n",
      "  ret = ret.dtype.type(ret / rcount)\n"
     ]
    },
    {
     "data": {
      "image/png": "[encoded data removed]",
      "text/plain": [
       "<Figure size 720x288 with 2 Axes>"
      ]
     },
     "metadata": {
      "needs_background": "light"
     },
     "output_type": "display_data"
    }
   ],
   "source": [
    "fig=plt.figure(figsize=(10,4))\n",
    "\n",
    "ax = plt.subplot(1, 2, 1)\n",
    "ax=sns.lineplot(data=data1_sociology, x=\"seniority1\", y=\"citation10_rank\",hue='type',marker=\"s\",markersize=15,palette=['green','red'])\n",
    "plt.xlabel('Leader Categories(10-15, 15-20, 20+)',fontsize=12)\n",
    "plt.ylabel('Mean 5-Year Citation Percentile',fontsize=12)\n",
    "plt.legend(frameon=False, labels=['homogenous','heterogenous'])\n",
    "ax.spines['right'].set_visible(False)\n",
    "ax.spines['top'].set_visible(False)\n",
    "plt.title(\"Sociology\", fontsize=20)\n",
    "\n",
    "b=ax.get_ylim()[0]+(ax.get_ylim()[1]-ax.get_ylim()[0])*0.9\n",
    "plt.text(0,b,'a',fontsize=20)\n",
    "ax.spines['right'].set_visible(False)\n",
    "ax.spines['top'].set_visible(False)\n",
    "\n",
    "ax = plt.subplot(1, 2, 2)\n",
    "ax=sns.lineplot(data=data1_business, x=\"seniority1\", y=\"citation10_rank\",hue='type',marker=\"s\",markersize=15,palette=['green','red'])\n",
    "plt.xlabel('Leader Categories(10-15, 15-20, 20+)',fontsize=12)\n",
    "plt.ylabel('Mean 5-Year Citation Percentile',fontsize=12)\n",
    "plt.legend(frameon=False, labels=['homogenous','heterogenous'])\n",
    "ax.spines['right'].set_visible(False)\n",
    "ax.spines['top'].set_visible(False)\n",
    "plt.title(\"Business\", fontsize=20)\n",
    "b=ax.get_ylim()[0]+(ax.get_ylim()[1]-ax.get_ylim()[0])*0.9\n",
    "plt.text(0,b,'b',fontsize=20)\n",
    "ax.spines['right'].set_visible(False)\n",
    "ax.spines['top'].set_visible(False)\n",
    "plt.tight_layout()\n",
    "plt.savefig('/home/xh3993/sharedleadership/picture/sociology_business.png',dpi=300)\n",
    "\n",
    "plt.show()"
   ]
  },
  {
   "cell_type": "code",
   "execution_count": 86,
   "metadata": {},
   "outputs": [],
   "source": [
    "work_doi=pd.read_csv(\"/data/openalex/processed/work_doi.csv\")"
   ]
  },
  {
   "cell_type": "code",
   "execution_count": 87,
   "metadata": {},
   "outputs": [],
   "source": [
    "work_doi_dict=dict(work_doi[['id','doi']].values)"
   ]
  },
  {
   "cell_type": "code",
   "execution_count": 88,
   "metadata": {},
   "outputs": [
    {
     "name": "stderr",
     "output_type": "stream",
     "text": [
      "/home/xh3993/anaconda3/lib/python3.7/site-packages/ipykernel_launcher.py:1: SettingWithCopyWarning: \n",
      "A value is trying to be set on a copy of a slice from a DataFrame.\n",
      "Try using .loc[row_indexer,col_indexer] = value instead\n",
      "\n",
      "See the caveats in the documentation: https://pandas.pydata.org/pandas-docs/stable/user_guide/indexing.html#returning-a-view-versus-a-copy\n",
      "  \"\"\"Entry point for launching an IPython kernel.\n"
     ]
    }
   ],
   "source": [
    "sociology_choose_data['doi']=sociology_choose_data['work_id'].apply(lambda x: work_doi_dict[x] if x in work_doi_dict else np.nan)"
   ]
  },
  {
   "cell_type": "code",
   "execution_count": 89,
   "metadata": {},
   "outputs": [
    {
     "name": "stderr",
     "output_type": "stream",
     "text": [
      "/home/xh3993/anaconda3/lib/python3.7/site-packages/ipykernel_launcher.py:1: SettingWithCopyWarning: \n",
      "A value is trying to be set on a copy of a slice from a DataFrame.\n",
      "Try using .loc[row_indexer,col_indexer] = value instead\n",
      "\n",
      "See the caveats in the documentation: https://pandas.pydata.org/pandas-docs/stable/user_guide/indexing.html#returning-a-view-versus-a-copy\n",
      "  \"\"\"Entry point for launching an IPython kernel.\n"
     ]
    }
   ],
   "source": [
    "sociology_choose_data['doi']=sociology_choose_data['doi'].apply(lambda x: x.split('https://doi.org/')[1] if x==x else x)"
   ]
  },
  {
   "cell_type": "code",
   "execution_count": 90,
   "metadata": {},
   "outputs": [],
   "source": [
    "sociology_choose_data.to_csv('/data/openalex/processed/sharedleadership/Sociology_sharedleadership.csv',index=False)"
   ]
  },
  {
   "cell_type": "code",
   "execution_count": null,
   "metadata": {},
   "outputs": [],
   "source": []
  },
  {
   "cell_type": "code",
   "execution_count": 180,
   "metadata": {},
   "outputs": [],
   "source": [
    "sociology_choose_data=pd.read_csv('/data/openalex/processed/sharedleadership/Sociology_sharedleadership.csv')"
   ]
  },
  {
   "cell_type": "code",
   "execution_count": 181,
   "metadata": {},
   "outputs": [
    {
     "data": {
      "text/plain": [
       "254039"
      ]
     },
     "execution_count": 181,
     "metadata": {},
     "output_type": "execute_result"
    }
   ],
   "source": [
    "len(sociology_choose_data)"
   ]
  },
  {
   "cell_type": "code",
   "execution_count": 182,
   "metadata": {},
   "outputs": [],
   "source": [
    "sociology_choose_data['position']=sociology_choose_data['position'].apply(lambda x: eval(x))"
   ]
  },
  {
   "cell_type": "code",
   "execution_count": 183,
   "metadata": {},
   "outputs": [],
   "source": [
    "f = open('/home/xh3993/redundancy/fenglixu-Self-report-Contribution-Data-6164803/PLOSONE_Contribution_Data', 'rb')\n",
    "plos_data = pickle.load(f)\n",
    "f.close()"
   ]
  },
  {
   "cell_type": "code",
   "execution_count": 184,
   "metadata": {},
   "outputs": [
    {
     "data": {
      "text/plain": [
       "536"
      ]
     },
     "execution_count": 184,
     "metadata": {},
     "output_type": "execute_result"
    }
   ],
   "source": [
    "len(set(sociology_choose_data['doi'].values)&set([i[0] for i in plos_data]))"
   ]
  },
  {
   "cell_type": "code",
   "execution_count": 185,
   "metadata": {},
   "outputs": [],
   "source": [
    "plos_overlap=list(set(sociology_choose_data['doi'].values)&set([i[0] for i in plos_data]))"
   ]
  },
  {
   "cell_type": "code",
   "execution_count": 186,
   "metadata": {},
   "outputs": [],
   "source": [
    "leader=[\"conceive\",\"design\",\"lead\",\"supervise\",\"coordinate\",\"interpret\",\"write\",'wrote','theor','led']"
   ]
  },
  {
   "cell_type": "code",
   "execution_count": 187,
   "metadata": {},
   "outputs": [],
   "source": [
    "c=[]\n",
    "for i,j in zip([i[4] for i in plos_data if i[0] in plos_overlap],[i[3] for i in plos_data if i[0] in plos_overlap]): #choose leaders abrreviations\n",
    "    c1=[]\n",
    "    all_abb=[j for m in i.values() for j in m]\n",
    "    for m,n in i.items():\n",
    "        for l in leader:\n",
    "            if l in m:\n",
    "                c1.extend(n)\n",
    "    c1=[i.replace('-','').replace('.','') for i in c1]\n",
    "    b=[]\n",
    "    d=[]\n",
    "    for _ in [re.split(r\" |. |-\",i) for i in j]: #abbreviations from full names\n",
    "        abb=\"\".join([i[0] for i in _ if len(i)>0]) #sometimes with middle name abbreviation\n",
    "        if abb in all_abb:\n",
    "            d.append(abb)\n",
    "        else:\n",
    "            abb=\"\".join([i[0] for i in _ if len(i)>1]) #sometimes without middle name abbreviation\n",
    "            if abb in all_abb:\n",
    "                d.append(abb)\n",
    "    for p,q in enumerate(d):\n",
    "        if q in c1:\n",
    "            b.append(p)\n",
    "#     break\n",
    "    if len(b)>0:\n",
    "        c.append(b)\n",
    "    else:\n",
    "        c.append(list(range(p+1)))"
   ]
  },
  {
   "cell_type": "code",
   "execution_count": 188,
   "metadata": {},
   "outputs": [],
   "source": [
    "a=[] # identified by ourselves based on career age and authorship\n",
    "for m in [i[0] for i in plos_data if i[0] in plos_overlap]:\n",
    "    a.extend(list(sociology_choose_data[sociology_choose_data['doi']==m]['position'].values))"
   ]
  },
  {
   "cell_type": "code",
   "execution_count": 189,
   "metadata": {},
   "outputs": [],
   "source": [
    "count=[]\n",
    "for m,n in zip(a,c):\n",
    "    count.append(all(item in n for item in m))"
   ]
  },
  {
   "cell_type": "code",
   "execution_count": 190,
   "metadata": {},
   "outputs": [],
   "source": [
    "f = open('/home/xh3993/redundancy/fenglixu-Self-report-Contribution-Data-6164803/Nature_Contribution_Data', 'rb')\n",
    "nature_data = pickle.load(f)\n",
    "f.close()"
   ]
  },
  {
   "cell_type": "code",
   "execution_count": 191,
   "metadata": {},
   "outputs": [
    {
     "data": {
      "text/plain": [
       "36"
      ]
     },
     "execution_count": 191,
     "metadata": {},
     "output_type": "execute_result"
    }
   ],
   "source": [
    "len(set(sociology_choose_data['doi'].values)&set([i[0] for i in nature_data]))"
   ]
  },
  {
   "cell_type": "code",
   "execution_count": 192,
   "metadata": {},
   "outputs": [],
   "source": [
    "nature_overlap=list(set(sociology_choose_data['doi'].values)&set([i[0] for i in nature_data]))"
   ]
  },
  {
   "cell_type": "code",
   "execution_count": 193,
   "metadata": {},
   "outputs": [],
   "source": [
    "from nltk.tokenize import word_tokenize"
   ]
  },
  {
   "cell_type": "code",
   "execution_count": 194,
   "metadata": {},
   "outputs": [],
   "source": [
    "standard_nature=[]\n",
    "for o in nature_overlap:\n",
    "    i=[j[4] for j in nature_data if j[0]==o][0]\n",
    "    i=re.sub('([A-Z]).', r'\\1',i)\n",
    "    i=i.replace(';','.')\n",
    "    p=i.split('. ')\n",
    "    a={}\n",
    "    for q in p:\n",
    "        n=[j for j in word_tokenize(q) if j[-1].isupper()==True]\n",
    "        a[q]=n\n",
    "    standard_nature.append(a)"
   ]
  },
  {
   "cell_type": "code",
   "execution_count": 195,
   "metadata": {},
   "outputs": [],
   "source": [
    "nature_name=[]\n",
    "for o in nature_overlap:\n",
    "    nature_name.append([j[3] for j in nature_data if j[0]==o][0])"
   ]
  },
  {
   "cell_type": "code",
   "execution_count": 196,
   "metadata": {},
   "outputs": [],
   "source": [
    "c=[]\n",
    "for i,j in zip(standard_nature, nature_name): #choose leaders abrreviations\n",
    "    a=[]\n",
    "    for m,n in i.items():\n",
    "        for l in leader:\n",
    "            if l in m:\n",
    "                a.extend(n)\n",
    "    a=[i.replace('-','').replace('.','') for i in a]\n",
    "    b=[]\n",
    "    d=[]\n",
    "    for _ in [re.split(r\" |. |-\",i) for i in j]:\n",
    "        d.append(\"\".join([i[0] for i in _]))\n",
    "    for p,q in enumerate(d):\n",
    "        if q in a:\n",
    "            b.append(p)\n",
    "    if len(b)>0:\n",
    "        c.append(b)\n",
    "    else:\n",
    "        c.append(list(range(p+1)))"
   ]
  },
  {
   "cell_type": "code",
   "execution_count": 197,
   "metadata": {},
   "outputs": [],
   "source": [
    "a=[]\n",
    "for m in nature_overlap:\n",
    "    a.extend(list(sociology_choose_data[sociology_choose_data['doi']==m]['position'].values))"
   ]
  },
  {
   "cell_type": "code",
   "execution_count": 198,
   "metadata": {},
   "outputs": [],
   "source": [
    "# count=[]\n",
    "for m,n in zip(a,c):\n",
    "    count.append(all(item in n for item in m))"
   ]
  },
  {
   "cell_type": "code",
   "execution_count": 199,
   "metadata": {},
   "outputs": [],
   "source": [
    "f = open('/home/xh3993/redundancy/fenglixu-Self-report-Contribution-Data-6164803/Science_Contribution_Data', 'rb')\n",
    "science_data = pickle.load(f)\n",
    "f.close()"
   ]
  },
  {
   "cell_type": "code",
   "execution_count": 200,
   "metadata": {},
   "outputs": [
    {
     "data": {
      "text/plain": [
       "4"
      ]
     },
     "execution_count": 200,
     "metadata": {},
     "output_type": "execute_result"
    }
   ],
   "source": [
    "len(set(sociology_choose_data['doi'].values)&set([i[0] for i in science_data]))"
   ]
  },
  {
   "cell_type": "code",
   "execution_count": 201,
   "metadata": {},
   "outputs": [],
   "source": [
    "science_overlap=list(set(sociology_choose_data['doi'].values)&set([i[0] for i in science_data]))"
   ]
  },
  {
   "cell_type": "code",
   "execution_count": 202,
   "metadata": {},
   "outputs": [],
   "source": [
    "standard_science=[]\n",
    "for o in science_overlap:\n",
    "    i=[j[4] for j in science_data if j[0]==o][0]\n",
    "    i=re.sub('([A-Z]).', r'\\1',i)\n",
    "    i=i.replace(';','.')\n",
    "    p=i.split('. ')\n",
    "    a={}\n",
    "    for q in p:\n",
    "        n=[j for j in word_tokenize(q) if j[-1].isupper()==True]\n",
    "        a[q]=n\n",
    "    standard_science.append(a)"
   ]
  },
  {
   "cell_type": "code",
   "execution_count": 203,
   "metadata": {},
   "outputs": [],
   "source": [
    "science_name=[]\n",
    "for o in nature_overlap:\n",
    "    science_name.append([j[3] for j in nature_data if j[0]==o][0])"
   ]
  },
  {
   "cell_type": "code",
   "execution_count": 204,
   "metadata": {},
   "outputs": [],
   "source": [
    "c=[]\n",
    "for i,j in zip(standard_nature, science_name): #choose leaders abrreviations\n",
    "    a=[]\n",
    "    for m,n in i.items():\n",
    "        for l in leader:\n",
    "            if l in m:\n",
    "                a.extend(n)\n",
    "    a=[i.replace('-','').replace('.','') for i in a]\n",
    "    b=[]\n",
    "    d=[]\n",
    "    for _ in [re.split(r\" |. |-\",i) for i in j]:\n",
    "        d.append(\"\".join([i[0] for i in _]))\n",
    "    for p,q in enumerate(d):\n",
    "        if q in a:\n",
    "            b.append(p)\n",
    "    if len(b)>0:\n",
    "        c.append(b)\n",
    "    else:\n",
    "        c.append(list(range(p+1)))"
   ]
  },
  {
   "cell_type": "code",
   "execution_count": 205,
   "metadata": {},
   "outputs": [],
   "source": [
    "a=[]\n",
    "for m in science_overlap:\n",
    "    a.extend(list(sociology_choose_data[sociology_choose_data['doi']==m]['position'].values))"
   ]
  },
  {
   "cell_type": "code",
   "execution_count": 206,
   "metadata": {},
   "outputs": [],
   "source": [
    "# count=[]\n",
    "for m,n in zip(a,c):\n",
    "    count.append(all(item in n for item in m))"
   ]
  },
  {
   "cell_type": "code",
   "execution_count": 207,
   "metadata": {},
   "outputs": [],
   "source": [
    "f = open('/home/xh3993/redundancy/fenglixu-Self-report-Contribution-Data-6164803/PNAS_Contribution_Data', 'rb')\n",
    "pnas_data = pickle.load(f)\n",
    "f.close()"
   ]
  },
  {
   "cell_type": "code",
   "execution_count": 208,
   "metadata": {},
   "outputs": [
    {
     "data": {
      "text/plain": [
       "134"
      ]
     },
     "execution_count": 208,
     "metadata": {},
     "output_type": "execute_result"
    }
   ],
   "source": [
    "len(set(sociology_choose_data['doi'].values)&set([i[0] for i in pnas_data]))"
   ]
  },
  {
   "cell_type": "code",
   "execution_count": 209,
   "metadata": {},
   "outputs": [],
   "source": [
    "pnas_overlap=list(set(sociology_choose_data['doi'].values)&set([i[0] for i in pnas_data]))"
   ]
  },
  {
   "cell_type": "code",
   "execution_count": 210,
   "metadata": {},
   "outputs": [],
   "source": [
    "standard_pnas=[]\n",
    "for o in pnas_overlap:\n",
    "    i=[j[4] for j in pnas_data if j[0]==o][0]\n",
    "    i=re.sub('([A-Z]).', r'\\1',i)\n",
    "    i=i.replace(';','.')\n",
    "    p=i.split('. ')\n",
    "    a={}\n",
    "    for q in p:\n",
    "        n=[j for j in word_tokenize(q) if j[-1].isupper()==True]\n",
    "        a[q]=n\n",
    "    standard_pnas.append(a)"
   ]
  },
  {
   "cell_type": "code",
   "execution_count": 211,
   "metadata": {},
   "outputs": [],
   "source": [
    "pnas_name=[]\n",
    "for o in pnas_overlap:\n",
    "    pnas_name.append([j[3] for j in pnas_data if j[0]==o][0])"
   ]
  },
  {
   "cell_type": "code",
   "execution_count": 212,
   "metadata": {},
   "outputs": [],
   "source": [
    "c=[]\n",
    "for i,j in zip(standard_pnas, pnas_name): #choose leaders abrreviations\n",
    "    a=[]\n",
    "    for m,n in i.items():\n",
    "        for l in leader:\n",
    "            if l in m:\n",
    "                a.extend(n)\n",
    "    a=[i.replace('-','').replace('.','') for i in a]\n",
    "    b=[]\n",
    "    d=[]\n",
    "    for _ in [re.split(r\" |. |-\",i) for i in j]:\n",
    "        d.append(\"\".join([i[0] for i in _]))\n",
    "    for p,q in enumerate(d):\n",
    "        if q in a:\n",
    "            b.append(p)\n",
    "    if len(b)>0:\n",
    "        c.append(b)\n",
    "    else:\n",
    "        c.append(list(range(p+1)))"
   ]
  },
  {
   "cell_type": "code",
   "execution_count": 213,
   "metadata": {},
   "outputs": [],
   "source": [
    "a=[]\n",
    "for m in pnas_overlap:\n",
    "    a.extend(list(sociology_choose_data[sociology_choose_data['doi']==m]['position'].values))"
   ]
  },
  {
   "cell_type": "code",
   "execution_count": 214,
   "metadata": {},
   "outputs": [],
   "source": [
    "# count=[]\n",
    "for m,n in zip(a,c):\n",
    "    count.append(all(item in n for item in m))"
   ]
  },
  {
   "cell_type": "code",
   "execution_count": 215,
   "metadata": {},
   "outputs": [
    {
     "data": {
      "text/plain": [
       "710"
      ]
     },
     "execution_count": 215,
     "metadata": {},
     "output_type": "execute_result"
    }
   ],
   "source": [
    "len(count)"
   ]
  },
  {
   "cell_type": "code",
   "execution_count": 216,
   "metadata": {},
   "outputs": [
    {
     "data": {
      "text/plain": [
       "561"
      ]
     },
     "execution_count": 216,
     "metadata": {},
     "output_type": "execute_result"
    }
   ],
   "source": [
    "len([i for i in count if i==True])"
   ]
  },
  {
   "cell_type": "code",
   "execution_count": 217,
   "metadata": {},
   "outputs": [
    {
     "data": {
      "text/plain": [
       "0.7901408450704225"
      ]
     },
     "execution_count": 217,
     "metadata": {},
     "output_type": "execute_result"
    }
   ],
   "source": [
    "len([i for i in count if i==True])/len(count)"
   ]
  },
  {
   "cell_type": "code",
   "execution_count": 218,
   "metadata": {},
   "outputs": [
    {
     "name": "stdout",
     "output_type": "stream",
     "text": [
      "conceive 1515\n",
      "design 1878\n",
      "lead 2\n",
      "supervise 13\n",
      "coordinate 4\n",
      "interpret 10\n",
      "write 0.0\n",
      "wrote 1995\n",
      "led 4\n"
     ]
    }
   ],
   "source": [
    "leader=[\"conceive\",\"design\",\"lead\",\"supervise\",\"coordinate\",\"interpret\",\"write\",'wrote','led']\n",
    "all_leading=[i[4] for i in plos_data if i[0] in plos_overlap]+standard_nature+standard_science+standard_pnas\n",
    "for l in leader:\n",
    "    a=[]\n",
    "    for i in all_leading:\n",
    "        for m,n in i.items():\n",
    "            if l in m:\n",
    "                a.append(len(n))\n",
    "    print(l, np.sum(a))"
   ]
  },
  {
   "cell_type": "code",
   "execution_count": null,
   "metadata": {},
   "outputs": [],
   "source": []
  },
  {
   "cell_type": "code",
   "execution_count": 129,
   "metadata": {},
   "outputs": [],
   "source": [
    "sociology_all_overlap=plos_overlap+nature_overlap+science_overlap+pnas_overlap"
   ]
  },
  {
   "cell_type": "code",
   "execution_count": 131,
   "metadata": {},
   "outputs": [],
   "source": [
    "category_number=[]\n",
    "correct=[]\n",
    "for e,i in enumerate(sociology_all_overlap):\n",
    "    m=sociology_choose_data[sociology_choose_data['doi']==i]['seniority1'].values[0]\n",
    "    category_number.append(m)\n",
    "    if count[e]==True:\n",
    "        correct.append(m)"
   ]
  },
  {
   "cell_type": "code",
   "execution_count": 132,
   "metadata": {},
   "outputs": [
    {
     "data": {
      "text/plain": [
       "Counter({'(1, 1, 0)': 130,\n",
       "         '(0, 0, 2)': 113,\n",
       "         '(1, 0, 1)': 197,\n",
       "         '(0, 2, 0)': 42,\n",
       "         '(2, 0, 0)': 106,\n",
       "         '(0, 1, 1)': 122})"
      ]
     },
     "execution_count": 132,
     "metadata": {},
     "output_type": "execute_result"
    }
   ],
   "source": [
    "Counter(category_number)"
   ]
  },
  {
   "cell_type": "code",
   "execution_count": 133,
   "metadata": {},
   "outputs": [
    {
     "data": {
      "text/plain": [
       "Counter({'(1, 1, 0)': 99,\n",
       "         '(1, 0, 1)': 166,\n",
       "         '(0, 2, 0)': 33,\n",
       "         '(2, 0, 0)': 76,\n",
       "         '(0, 1, 1)': 94,\n",
       "         '(0, 0, 2)': 93})"
      ]
     },
     "execution_count": 133,
     "metadata": {},
     "output_type": "execute_result"
    }
   ],
   "source": [
    "Counter(correct)"
   ]
  },
  {
   "cell_type": "code",
   "execution_count": null,
   "metadata": {},
   "outputs": [],
   "source": []
  },
  {
   "cell_type": "code",
   "execution_count": 73,
   "metadata": {
    "collapsed": true
   },
   "outputs": [
    {
     "name": "stderr",
     "output_type": "stream",
     "text": [
      "/home/xh3993/anaconda3/lib/python3.7/site-packages/ipykernel_launcher.py:1: SettingWithCopyWarning: \n",
      "A value is trying to be set on a copy of a slice from a DataFrame.\n",
      "Try using .loc[row_indexer,col_indexer] = value instead\n",
      "\n",
      "See the caveats in the documentation: https://pandas.pydata.org/pandas-docs/stable/user_guide/indexing.html#returning-a-view-versus-a-copy\n",
      "  \"\"\"Entry point for launching an IPython kernel.\n"
     ]
    }
   ],
   "source": [
    "business_choose_data['doi']=business_choose_data['work_id'].apply(lambda x: work_doi_dict[x] if x in work_doi_dict else np.nan)"
   ]
  },
  {
   "cell_type": "code",
   "execution_count": 75,
   "metadata": {
    "collapsed": true
   },
   "outputs": [
    {
     "name": "stderr",
     "output_type": "stream",
     "text": [
      "/home/xh3993/anaconda3/lib/python3.7/site-packages/ipykernel_launcher.py:1: SettingWithCopyWarning: \n",
      "A value is trying to be set on a copy of a slice from a DataFrame.\n",
      "Try using .loc[row_indexer,col_indexer] = value instead\n",
      "\n",
      "See the caveats in the documentation: https://pandas.pydata.org/pandas-docs/stable/user_guide/indexing.html#returning-a-view-versus-a-copy\n",
      "  \"\"\"Entry point for launching an IPython kernel.\n"
     ]
    }
   ],
   "source": [
    "business_choose_data['doi']=business_choose_data['doi'].apply(lambda x: x.split('https://doi.org/')[1] if x==x else x)"
   ]
  },
  {
   "cell_type": "code",
   "execution_count": 76,
   "metadata": {},
   "outputs": [],
   "source": [
    "business_choose_data.to_csv('/data/openalex/processed/sharedleadership/Business_sharedleadership.csv',index=False)"
   ]
  },
  {
   "cell_type": "code",
   "execution_count": null,
   "metadata": {},
   "outputs": [],
   "source": []
  },
  {
   "cell_type": "code",
   "execution_count": null,
   "metadata": {},
   "outputs": [],
   "source": []
  },
  {
   "cell_type": "code",
   "execution_count": 134,
   "metadata": {},
   "outputs": [],
   "source": [
    "business_choose_data=pd.read_csv('/data/openalex/processed/sharedleadership/Business_sharedleadership.csv')"
   ]
  },
  {
   "cell_type": "code",
   "execution_count": 135,
   "metadata": {},
   "outputs": [],
   "source": [
    "business_choose_data['position']=business_choose_data['position'].apply(lambda x: eval(x))"
   ]
  },
  {
   "cell_type": "code",
   "execution_count": 136,
   "metadata": {},
   "outputs": [],
   "source": [
    "f = open('/home/xh3993/redundancy/fenglixu-Self-report-Contribution-Data-6164803/PLOSONE_Contribution_Data', 'rb')\n",
    "plos_data = pickle.load(f)\n",
    "f.close()"
   ]
  },
  {
   "cell_type": "code",
   "execution_count": 137,
   "metadata": {},
   "outputs": [
    {
     "data": {
      "text/plain": [
       "25"
      ]
     },
     "execution_count": 137,
     "metadata": {},
     "output_type": "execute_result"
    }
   ],
   "source": [
    "len(set(business_choose_data['doi'].values)&set([i[0] for i in plos_data]))"
   ]
  },
  {
   "cell_type": "code",
   "execution_count": 138,
   "metadata": {},
   "outputs": [],
   "source": [
    "plos_overlap=list(set(business_choose_data['doi'].values)&set([i[0] for i in plos_data]))"
   ]
  },
  {
   "cell_type": "code",
   "execution_count": 139,
   "metadata": {},
   "outputs": [],
   "source": [
    "leader=[\"conceive\",\"design\",\"lead\",\"supervise\",\"coordinate\",\"interpret\",\"write\",'wrote','theor','led']"
   ]
  },
  {
   "cell_type": "code",
   "execution_count": 140,
   "metadata": {},
   "outputs": [],
   "source": [
    "c=[]\n",
    "for i,j in zip([i[4] for i in plos_data if i[0] in plos_overlap],[i[3] for i in plos_data if i[0] in plos_overlap]): #choose leaders abrreviations\n",
    "    c1=[]\n",
    "    all_abb=[j for m in i.values() for j in m]\n",
    "    for m,n in i.items():\n",
    "        for l in leader:\n",
    "            if l in m:\n",
    "                c1.extend(n)\n",
    "    c1=[i.replace('-','').replace('.','') for i in c1]\n",
    "    b=[]\n",
    "    d=[]\n",
    "    for _ in [re.split(r\" |. |-\",i) for i in j]: #abbreviations from full names\n",
    "        abb=\"\".join([i[0] for i in _ if len(i)>0]) #sometimes with middle name abbreviation\n",
    "        if abb in all_abb:\n",
    "            d.append(abb)\n",
    "        else:\n",
    "            abb=\"\".join([i[0] for i in _ if len(i)>1]) #sometimes without middle name abbreviation\n",
    "            if abb in all_abb:\n",
    "                d.append(abb)\n",
    "    for p,q in enumerate(d):\n",
    "        if q in c1:\n",
    "            b.append(p)\n",
    "#     break\n",
    "    if len(b)>0:\n",
    "        c.append(b)\n",
    "    else:\n",
    "        c.append(list(range(p+1)))"
   ]
  },
  {
   "cell_type": "code",
   "execution_count": 141,
   "metadata": {},
   "outputs": [],
   "source": [
    "a=[] # identified by ourselves based on career age and authorship\n",
    "for m in [i[0] for i in plos_data if i[0] in plos_overlap]:\n",
    "    a.extend(list(business_choose_data[business_choose_data['doi']==m]['position'].values))"
   ]
  },
  {
   "cell_type": "code",
   "execution_count": 142,
   "metadata": {},
   "outputs": [],
   "source": [
    "count=[]\n",
    "for m,n in zip(a,c):\n",
    "    count.append(all(item in n for item in m))"
   ]
  },
  {
   "cell_type": "code",
   "execution_count": 143,
   "metadata": {},
   "outputs": [],
   "source": [
    "f = open('/home/xh3993/redundancy/fenglixu-Self-report-Contribution-Data-6164803/Nature_Contribution_Data', 'rb')\n",
    "nature_data = pickle.load(f)\n",
    "f.close()"
   ]
  },
  {
   "cell_type": "code",
   "execution_count": 144,
   "metadata": {},
   "outputs": [
    {
     "data": {
      "text/plain": [
       "2"
      ]
     },
     "execution_count": 144,
     "metadata": {},
     "output_type": "execute_result"
    }
   ],
   "source": [
    "len(set(business_choose_data['doi'].values)&set([i[0] for i in nature_data]))"
   ]
  },
  {
   "cell_type": "code",
   "execution_count": 145,
   "metadata": {},
   "outputs": [],
   "source": [
    "nature_overlap=list(set(business_choose_data['doi'].values)&set([i[0] for i in nature_data]))"
   ]
  },
  {
   "cell_type": "code",
   "execution_count": 146,
   "metadata": {},
   "outputs": [],
   "source": [
    "standard_nature=[]\n",
    "for o in nature_overlap:\n",
    "    i=[j[4] for j in nature_data if j[0]==o][0]\n",
    "    i=re.sub('([A-Z]).', r'\\1',i)\n",
    "    i=i.replace(';','.')\n",
    "    p=i.split('. ')\n",
    "    a={}\n",
    "    for q in p:\n",
    "        n=[j for j in word_tokenize(q) if j[-1].isupper()==True]\n",
    "        a[q]=n\n",
    "    standard_nature.append(a)"
   ]
  },
  {
   "cell_type": "code",
   "execution_count": 147,
   "metadata": {},
   "outputs": [],
   "source": [
    "nature_name=[]\n",
    "for o in nature_overlap:\n",
    "    nature_name.append([j[3] for j in nature_data if j[0]==o][0])"
   ]
  },
  {
   "cell_type": "code",
   "execution_count": 148,
   "metadata": {},
   "outputs": [],
   "source": [
    "c=[]\n",
    "for i,j in zip(standard_nature, nature_name): #choose leaders abrreviations\n",
    "    a=[]\n",
    "    for m,n in i.items():\n",
    "        for l in leader:\n",
    "            if l in m:\n",
    "                a.extend(n)\n",
    "    a=[i.replace('-','').replace('.','') for i in a]\n",
    "    b=[]\n",
    "    d=[]\n",
    "    for _ in [re.split(r\" |. |-\",i) for i in j]:\n",
    "        d.append(\"\".join([i[0] for i in _]))\n",
    "    for p,q in enumerate(d):\n",
    "        if q in a:\n",
    "            b.append(p)\n",
    "    if len(b)>0:\n",
    "        c.append(b)\n",
    "    else:\n",
    "        c.append(list(range(p+1)))"
   ]
  },
  {
   "cell_type": "code",
   "execution_count": 149,
   "metadata": {},
   "outputs": [],
   "source": [
    "a=[]\n",
    "for m in nature_overlap:\n",
    "    a.extend(list(business_choose_data[business_choose_data['doi']==m]['position'].values))"
   ]
  },
  {
   "cell_type": "code",
   "execution_count": 150,
   "metadata": {},
   "outputs": [],
   "source": [
    "# count=[]\n",
    "for m,n in zip(a,c):\n",
    "    count.append(all(item in n for item in m))"
   ]
  },
  {
   "cell_type": "code",
   "execution_count": 151,
   "metadata": {},
   "outputs": [],
   "source": [
    "f = open('/home/xh3993/redundancy/fenglixu-Self-report-Contribution-Data-6164803/Science_Contribution_Data', 'rb')\n",
    "science_data = pickle.load(f)\n",
    "f.close()"
   ]
  },
  {
   "cell_type": "code",
   "execution_count": 152,
   "metadata": {},
   "outputs": [
    {
     "data": {
      "text/plain": [
       "0"
      ]
     },
     "execution_count": 152,
     "metadata": {},
     "output_type": "execute_result"
    }
   ],
   "source": [
    "len(set(business_choose_data['doi'].values)&set([i[0] for i in science_data]))"
   ]
  },
  {
   "cell_type": "code",
   "execution_count": 153,
   "metadata": {},
   "outputs": [],
   "source": [
    "f = open('/home/xh3993/redundancy/fenglixu-Self-report-Contribution-Data-6164803/PNAS_Contribution_Data', 'rb')\n",
    "pnas_data = pickle.load(f)\n",
    "f.close()"
   ]
  },
  {
   "cell_type": "code",
   "execution_count": 154,
   "metadata": {},
   "outputs": [
    {
     "data": {
      "text/plain": [
       "16"
      ]
     },
     "execution_count": 154,
     "metadata": {},
     "output_type": "execute_result"
    }
   ],
   "source": [
    "len(set(business_choose_data['doi'].values)&set([i[0] for i in pnas_data]))"
   ]
  },
  {
   "cell_type": "code",
   "execution_count": 155,
   "metadata": {},
   "outputs": [],
   "source": [
    "pnas_overlap=list(set(business_choose_data['doi'].values)&set([i[0] for i in pnas_data]))"
   ]
  },
  {
   "cell_type": "code",
   "execution_count": 156,
   "metadata": {},
   "outputs": [],
   "source": [
    "standard_pnas=[]\n",
    "for o in pnas_overlap:\n",
    "    i=[j[4] for j in pnas_data if j[0]==o][0]\n",
    "    i=re.sub('([A-Z]).', r'\\1',i)\n",
    "    i=i.replace(';','.')\n",
    "    p=i.split('. ')\n",
    "    a={}\n",
    "    for q in p:\n",
    "        n=[j for j in word_tokenize(q) if j[-1].isupper()==True]\n",
    "        a[q]=n\n",
    "    standard_pnas.append(a)"
   ]
  },
  {
   "cell_type": "code",
   "execution_count": 157,
   "metadata": {},
   "outputs": [],
   "source": [
    "pnas_name=[]\n",
    "for o in pnas_overlap:\n",
    "    pnas_name.append([j[3] for j in pnas_data if j[0]==o][0])"
   ]
  },
  {
   "cell_type": "code",
   "execution_count": 158,
   "metadata": {},
   "outputs": [],
   "source": [
    "c=[]\n",
    "for i,j in zip(standard_pnas, pnas_name): #choose leaders abrreviations\n",
    "    a=[]\n",
    "    for m,n in i.items():\n",
    "        for l in leader:\n",
    "            if l in m:\n",
    "                a.extend(n)\n",
    "    a=[i.replace('-','').replace('.','') for i in a]\n",
    "    b=[]\n",
    "    d=[]\n",
    "    for _ in [re.split(r\" |. |-\",i) for i in j]:\n",
    "        d.append(\"\".join([i[0] for i in _]))\n",
    "    for p,q in enumerate(d):\n",
    "        if q in a:\n",
    "            b.append(p)\n",
    "    if len(b)>0:\n",
    "        c.append(b)\n",
    "    else:\n",
    "        c.append(list(range(p+1)))"
   ]
  },
  {
   "cell_type": "code",
   "execution_count": 163,
   "metadata": {},
   "outputs": [
    {
     "data": {
      "text/plain": [
       "43"
      ]
     },
     "execution_count": 163,
     "metadata": {},
     "output_type": "execute_result"
    }
   ],
   "source": [
    "len(count)"
   ]
  },
  {
   "cell_type": "code",
   "execution_count": 161,
   "metadata": {},
   "outputs": [],
   "source": [
    "a=[]\n",
    "for m in pnas_overlap:\n",
    "    a.extend(list(business_choose_data[business_choose_data['doi']==m]['position'].values))"
   ]
  },
  {
   "cell_type": "code",
   "execution_count": 162,
   "metadata": {},
   "outputs": [],
   "source": [
    "# count=[]\n",
    "for m,n in zip(a,c):\n",
    "    count.append(all(item in n for item in m))"
   ]
  },
  {
   "cell_type": "code",
   "execution_count": null,
   "metadata": {},
   "outputs": [],
   "source": []
  },
  {
   "cell_type": "code",
   "execution_count": 164,
   "metadata": {},
   "outputs": [
    {
     "data": {
      "text/plain": [
       "37"
      ]
     },
     "execution_count": 164,
     "metadata": {},
     "output_type": "execute_result"
    }
   ],
   "source": [
    "len([i for i in count if i==True])"
   ]
  },
  {
   "cell_type": "code",
   "execution_count": 165,
   "metadata": {
    "scrolled": true
   },
   "outputs": [
    {
     "data": {
      "text/plain": [
       "0.8604651162790697"
      ]
     },
     "execution_count": 165,
     "metadata": {},
     "output_type": "execute_result"
    }
   ],
   "source": [
    "len([i for i in count if i==True])/len(count)"
   ]
  },
  {
   "cell_type": "code",
   "execution_count": 166,
   "metadata": {},
   "outputs": [
    {
     "data": {
      "text/plain": [
       "43"
      ]
     },
     "execution_count": 166,
     "metadata": {},
     "output_type": "execute_result"
    }
   ],
   "source": [
    "len(count)"
   ]
  },
  {
   "cell_type": "code",
   "execution_count": 174,
   "metadata": {},
   "outputs": [],
   "source": [
    "business_all_overlap=plos_overlap+nature_overlap+pnas_overlap"
   ]
  },
  {
   "cell_type": "code",
   "execution_count": 175,
   "metadata": {},
   "outputs": [],
   "source": [
    "category_number=[]\n",
    "correct=[]\n",
    "for e,i in enumerate(business_all_overlap):\n",
    "    m=business_choose_data[business_choose_data['doi']==i]['seniority1'].values[0]\n",
    "    category_number.append(m)\n",
    "    if count[e]==True:\n",
    "        correct.append(m)"
   ]
  },
  {
   "cell_type": "code",
   "execution_count": 176,
   "metadata": {},
   "outputs": [
    {
     "data": {
      "text/plain": [
       "Counter({'(1, 0, 1)': 11,\n",
       "         '(2, 0, 0)': 9,\n",
       "         '(1, 1, 0)': 6,\n",
       "         '(0, 1, 1)': 11,\n",
       "         '(0, 2, 0)': 4,\n",
       "         '(0, 0, 2)': 2})"
      ]
     },
     "execution_count": 176,
     "metadata": {},
     "output_type": "execute_result"
    }
   ],
   "source": [
    "Counter(category_number)"
   ]
  },
  {
   "cell_type": "code",
   "execution_count": 178,
   "metadata": {},
   "outputs": [
    {
     "data": {
      "text/plain": [
       "Counter({'(1, 0, 1)': 10,\n",
       "         '(2, 0, 0)': 7,\n",
       "         '(1, 1, 0)': 6,\n",
       "         '(0, 2, 0)': 3,\n",
       "         '(0, 1, 1)': 9,\n",
       "         '(0, 0, 2)': 2})"
      ]
     },
     "execution_count": 178,
     "metadata": {},
     "output_type": "execute_result"
    }
   ],
   "source": [
    "Counter(correct)"
   ]
  },
  {
   "cell_type": "code",
   "execution_count": 179,
   "metadata": {},
   "outputs": [
    {
     "name": "stdout",
     "output_type": "stream",
     "text": [
      "conceive 83\n",
      "design 130\n",
      "lead 0.0\n",
      "supervise 0.0\n",
      "coordinate 0.0\n",
      "interpret 0.0\n",
      "write 0.0\n",
      "wrote 145\n",
      "led 0.0\n"
     ]
    }
   ],
   "source": [
    "leader=[\"conceive\",\"design\",\"lead\",\"supervise\",\"coordinate\",\"interpret\",\"write\",'wrote','led']\n",
    "all_leading=[i[4] for i in plos_data if i[0] in plos_overlap]+standard_nature+standard_pnas\n",
    "for l in leader:\n",
    "    a=[]\n",
    "    for i in all_leading:\n",
    "        for m,n in i.items():\n",
    "            if l in m:\n",
    "                a.append(len(n))\n",
    "    print(l, np.sum(a))"
   ]
  },
  {
   "cell_type": "code",
   "execution_count": null,
   "metadata": {},
   "outputs": [],
   "source": []
  }
 ],
 "metadata": {
  "kernelspec": {
   "display_name": "Python 3",
   "language": "python",
   "name": "python3"
  },
  "language_info": {
   "codemirror_mode": {
    "name": "ipython",
    "version": 3
   },
   "file_extension": ".py",
   "mimetype": "text/x-python",
   "name": "python",
   "nbconvert_exporter": "python",
   "pygments_lexer": "ipython3",
   "version": "3.7.4"
  }
 },
 "nbformat": 4,
 "nbformat_minor": 2
}
