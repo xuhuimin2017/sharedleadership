{
 "cells": [
  {
   "cell_type": "code",
   "execution_count": 3,
   "metadata": {},
   "outputs": [
    {
     "name": "stderr",
     "output_type": "stream",
     "text": [
      "/home/xh3993/anaconda3/lib/python3.7/site-packages/dask/dataframe/utils.py:14: FutureWarning: pandas.util.testing is deprecated. Use the functions in the public API at pandas.testing instead.\n",
      "  import pandas.util.testing as tm\n"
     ]
    },
    {
     "name": "stdout",
     "output_type": "stream",
     "text": [
      "INFO: Pandarallel will run on 32 workers.\n",
      "INFO: Pandarallel will use Memory file system to transfer data between the main process and workers.\n"
     ]
    }
   ],
   "source": [
    "import pandas as pd\n",
    "import json\n",
    "import numpy as np\n",
    "from tqdm.notebook import tqdm\n",
    "import swifter\n",
    "import dask.dataframe as dd\n",
    "from dask.multiprocessing import get\n",
    "from pandarallel import pandarallel\n",
    "import time\n",
    "from collections import Counter,defaultdict\n",
    "import csv\n",
    "import glob\n",
    "import gzip\n",
    "import json\n",
    "import numpy as np\n",
    "import os\n",
    "import pandas as pd\n",
    "from collections import Counter\n",
    "from collections import defaultdict\n",
    "import gzip\n",
    "from tqdm.notebook import tqdm\n",
    "tqdm.pandas()\n",
    "pandarallel.initialize()"
   ]
  },
  {
   "cell_type": "code",
   "execution_count": null,
   "metadata": {},
   "outputs": [],
   "source": []
  },
  {
   "cell_type": "markdown",
   "metadata": {},
   "source": [
    "##### Biology processed"
   ]
  },
  {
   "cell_type": "code",
   "execution_count": 12,
   "metadata": {},
   "outputs": [],
   "source": [
    "Biology=pd.read_csv(\"/data/openalex/processed/disciplines/Biology.csv.gz\", compression='gzip', quotechar='\"')"
   ]
  },
  {
   "cell_type": "code",
   "execution_count": 13,
   "metadata": {},
   "outputs": [
    {
     "data": {
      "text/plain": [
       "30046001"
      ]
     },
     "execution_count": 13,
     "metadata": {},
     "output_type": "execute_result"
    }
   ],
   "source": [
    "print('original biology publication number', len(Biology)"
   ]
  },
  {
   "cell_type": "code",
   "execution_count": 15,
   "metadata": {},
   "outputs": [],
   "source": [
    "with open('/data/openalex/processed/work_author.json') as f:\n",
    "    work_author=json.load(f)"
   ]
  },
  {
   "cell_type": "code",
   "execution_count": 16,
   "metadata": {},
   "outputs": [],
   "source": [
    "Biology['author']=Biology['work_id'].apply(lambda x: work_author[x] if x in work_author else np.nan)"
   ]
  },
  {
   "cell_type": "code",
   "execution_count": 22,
   "metadata": {},
   "outputs": [],
   "source": [
    "with open(\"/data/openalex/processed/reference_biology.json\") as f:\n",
    "    work_reference=json.load(f)"
   ]
  },
  {
   "cell_type": "code",
   "execution_count": 35,
   "metadata": {},
   "outputs": [],
   "source": [
    "# references within the field\n",
    "Biology['reference']=Biology['work_id'].apply(lambda x: work_reference[x] if x in work_reference else np.nan)"
   ]
  },
  {
   "cell_type": "code",
   "execution_count": 26,
   "metadata": {},
   "outputs": [
    {
     "data": {
      "text/html": [
       "<div>\n",
       "<style scoped>\n",
       "    .dataframe tbody tr th:only-of-type {\n",
       "        vertical-align: middle;\n",
       "    }\n",
       "\n",
       "    .dataframe tbody tr th {\n",
       "        vertical-align: top;\n",
       "    }\n",
       "\n",
       "    .dataframe thead th {\n",
       "        text-align: right;\n",
       "    }\n",
       "</style>\n",
       "<table border=\"1\" class=\"dataframe\">\n",
       "  <thead>\n",
       "    <tr style=\"text-align: right;\">\n",
       "      <th></th>\n",
       "      <th>work_id</th>\n",
       "      <th>year</th>\n",
       "      <th>author</th>\n",
       "      <th>reference</th>\n",
       "    </tr>\n",
       "  </thead>\n",
       "  <tbody>\n",
       "    <tr>\n",
       "      <th>0</th>\n",
       "      <td>W3173853689</td>\n",
       "      <td>2020.0</td>\n",
       "      <td>[A3173361891, A3175006382, A2986250374, A30870...</td>\n",
       "      <td>[W2104494153, W2103950684, W2766885277, W25085...</td>\n",
       "    </tr>\n",
       "  </tbody>\n",
       "</table>\n",
       "</div>"
      ],
      "text/plain": [
       "       work_id    year                                             author  \\\n",
       "0  W3173853689  2020.0  [A3173361891, A3175006382, A2986250374, A30870...   \n",
       "\n",
       "                                           reference  \n",
       "0  [W2104494153, W2103950684, W2766885277, W25085...  "
      ]
     },
     "execution_count": 26,
     "metadata": {},
     "output_type": "execute_result"
    }
   ],
   "source": [
    "Biology.head(1)"
   ]
  },
  {
   "cell_type": "code",
   "execution_count": 28,
   "metadata": {},
   "outputs": [],
   "source": [
    "Biology['len']=Biology['author'].apply(lambda x: len(x) if x==x else 0)"
   ]
  },
  {
   "cell_type": "code",
   "execution_count": 29,
   "metadata": {},
   "outputs": [],
   "source": [
    "W_time={}\n",
    "for i,j in zip(Biology['work_id'],Biology['year']):\n",
    "    W_time[i]=j"
   ]
  },
  {
   "cell_type": "code",
   "execution_count": 40,
   "metadata": {},
   "outputs": [],
   "source": [
    "W_pre2=defaultdict(lambda:[])\n",
    "W_pre5=defaultdict(lambda:[])\n",
    "W_pre10=defaultdict(lambda:[])\n",
    "for i,j in zip(Biology['work_id'],Biology['reference']):\n",
    "    if j==j:\n",
    "        for m in j:\n",
    "            if m in W_time:\n",
    "                diff=W_time[i]-W_time[m]\n",
    "                if 0<=diff<=2:\n",
    "                    W_pre2[m].append(i)\n",
    "                if 0<=diff<=5:\n",
    "                    W_pre5[m].append(i)\n",
    "                if 0<=diff<=10:\n",
    "                    W_pre10[m].append(i)"
   ]
  },
  {
   "cell_type": "code",
   "execution_count": 41,
   "metadata": {},
   "outputs": [],
   "source": [
    "Biology['citation2']=Biology['work_id'].apply(lambda x: len(W_pre2[x]))"
   ]
  },
  {
   "cell_type": "code",
   "execution_count": 42,
   "metadata": {},
   "outputs": [],
   "source": [
    "Biology['citation5']=Biology['work_id'].apply(lambda x: len(W_pre5[x]))"
   ]
  },
  {
   "cell_type": "code",
   "execution_count": 44,
   "metadata": {},
   "outputs": [],
   "source": [
    "Biology['citation10']=Biology['work_id'].apply(lambda x: len(W_pre10[x]))"
   ]
  },
  {
   "cell_type": "code",
   "execution_count": 47,
   "metadata": {},
   "outputs": [
    {
     "name": "stdout",
     "output_type": "stream",
     "text": [
      "0.44271792424262885\n",
      "0.6281436640881887\n"
     ]
    }
   ],
   "source": [
    "print(Biology['citation2'].sum()/Biology['citation5'].sum())\n",
    "print(Biology['citation5'].sum()/Biology['citation10'].sum())"
   ]
  },
  {
   "cell_type": "code",
   "execution_count": 48,
   "metadata": {},
   "outputs": [],
   "source": [
    "Biology=Biology.dropna(subset=['year','author'])"
   ]
  },
  {
   "cell_type": "code",
   "execution_count": 52,
   "metadata": {},
   "outputs": [
    {
     "data": {
      "text/html": [
       "<div>\n",
       "<style scoped>\n",
       "    .dataframe tbody tr th:only-of-type {\n",
       "        vertical-align: middle;\n",
       "    }\n",
       "\n",
       "    .dataframe tbody tr th {\n",
       "        vertical-align: top;\n",
       "    }\n",
       "\n",
       "    .dataframe thead th {\n",
       "        text-align: right;\n",
       "    }\n",
       "</style>\n",
       "<table border=\"1\" class=\"dataframe\">\n",
       "  <thead>\n",
       "    <tr style=\"text-align: right;\">\n",
       "      <th></th>\n",
       "      <th>work_id</th>\n",
       "      <th>year</th>\n",
       "      <th>author</th>\n",
       "      <th>reference</th>\n",
       "      <th>len</th>\n",
       "      <th>citation2</th>\n",
       "      <th>citation5</th>\n",
       "      <th>citation10</th>\n",
       "    </tr>\n",
       "  </thead>\n",
       "  <tbody>\n",
       "    <tr>\n",
       "      <th>0</th>\n",
       "      <td>W3173853689</td>\n",
       "      <td>2020.0</td>\n",
       "      <td>[A3173361891, A3175006382, A2986250374, A30870...</td>\n",
       "      <td>[W2104494153, W2103950684, W2766885277, W25085...</td>\n",
       "      <td>5</td>\n",
       "      <td>0</td>\n",
       "      <td>0</td>\n",
       "      <td>0</td>\n",
       "    </tr>\n",
       "    <tr>\n",
       "      <th>1</th>\n",
       "      <td>W4280522669</td>\n",
       "      <td>2022.0</td>\n",
       "      <td>[A4281201143, A4281201144]</td>\n",
       "      <td>NaN</td>\n",
       "      <td>2</td>\n",
       "      <td>0</td>\n",
       "      <td>0</td>\n",
       "      <td>0</td>\n",
       "    </tr>\n",
       "    <tr>\n",
       "      <th>2</th>\n",
       "      <td>W2092834612</td>\n",
       "      <td>2013.0</td>\n",
       "      <td>[A2516971166, A2553500975, A3172661203, A24931...</td>\n",
       "      <td>[W1511273783, W1535380492, W1966065368, W19725...</td>\n",
       "      <td>5</td>\n",
       "      <td>11</td>\n",
       "      <td>23</td>\n",
       "      <td>40</td>\n",
       "    </tr>\n",
       "    <tr>\n",
       "      <th>3</th>\n",
       "      <td>W2134880685</td>\n",
       "      <td>2015.0</td>\n",
       "      <td>[A2104997395, A2502458046, A2305943237, A24012...</td>\n",
       "      <td>[W1573966200, W1729331993, W1744995852, W19692...</td>\n",
       "      <td>9</td>\n",
       "      <td>6</td>\n",
       "      <td>16</td>\n",
       "      <td>23</td>\n",
       "    </tr>\n",
       "    <tr>\n",
       "      <th>4</th>\n",
       "      <td>W2401666164</td>\n",
       "      <td>2016.0</td>\n",
       "      <td>[A2250607093, A2136793144, A2309608514]</td>\n",
       "      <td>[W635674086, W1607454482, W1964581329, W196647...</td>\n",
       "      <td>3</td>\n",
       "      <td>9</td>\n",
       "      <td>26</td>\n",
       "      <td>30</td>\n",
       "    </tr>\n",
       "  </tbody>\n",
       "</table>\n",
       "</div>"
      ],
      "text/plain": [
       "       work_id    year                                             author  \\\n",
       "0  W3173853689  2020.0  [A3173361891, A3175006382, A2986250374, A30870...   \n",
       "1  W4280522669  2022.0                         [A4281201143, A4281201144]   \n",
       "2  W2092834612  2013.0  [A2516971166, A2553500975, A3172661203, A24931...   \n",
       "3  W2134880685  2015.0  [A2104997395, A2502458046, A2305943237, A24012...   \n",
       "4  W2401666164  2016.0            [A2250607093, A2136793144, A2309608514]   \n",
       "\n",
       "                                           reference  len  citation2  \\\n",
       "0  [W2104494153, W2103950684, W2766885277, W25085...    5          0   \n",
       "1                                                NaN    2          0   \n",
       "2  [W1511273783, W1535380492, W1966065368, W19725...    5         11   \n",
       "3  [W1573966200, W1729331993, W1744995852, W19692...    9          6   \n",
       "4  [W635674086, W1607454482, W1964581329, W196647...    3          9   \n",
       "\n",
       "   citation5  citation10  \n",
       "0          0           0  \n",
       "1          0           0  \n",
       "2         23          40  \n",
       "3         16          23  \n",
       "4         26          30  "
      ]
     },
     "execution_count": 52,
     "metadata": {},
     "output_type": "execute_result"
    }
   ],
   "source": [
    "Biology.head()"
   ]
  },
  {
   "cell_type": "code",
   "execution_count": 53,
   "metadata": {},
   "outputs": [],
   "source": [
    "year=[[i]*int(j) for i,j in zip(Biology['year'].values,Biology['len'].values)]"
   ]
  },
  {
   "cell_type": "code",
   "execution_count": 54,
   "metadata": {},
   "outputs": [],
   "source": [
    "year=[j for i in year for j in i]\n",
    "aid=[j for i in Biology['author'].values for j in i]"
   ]
  },
  {
   "cell_type": "code",
   "execution_count": 55,
   "metadata": {},
   "outputs": [],
   "source": [
    "W=defaultdict(lambda:[])\n",
    "for i,j in zip(aid,year):\n",
    "    if j==j:\n",
    "        W[i].append(j)"
   ]
  },
  {
   "cell_type": "code",
   "execution_count": 56,
   "metadata": {},
   "outputs": [],
   "source": [
    "def sci_age(x):\n",
    "    try:\n",
    "        return [x['year']-np.min(W[i])+1 if i!='na' else np.nan for i in x['author']]\n",
    "    except:\n",
    "        return np.nan"
   ]
  },
  {
   "cell_type": "code",
   "execution_count": 57,
   "metadata": {
    "scrolled": true
   },
   "outputs": [
    {
     "data": {
      "application/vnd.jupyter.widget-view+json": {
       "model_id": "744314d2aa29493ca77db16769235815",
       "version_major": 2,
       "version_minor": 0
      },
      "text/plain": [
       "  0%|          | 0/29294509 [00:00<?, ?it/s]"
      ]
     },
     "metadata": {},
     "output_type": "display_data"
    }
   ],
   "source": [
    "Biology['sci_age']=Biology.progress_apply(lambda x: sci_age(x), axis=1)"
   ]
  },
  {
   "cell_type": "code",
   "execution_count": 58,
   "metadata": {},
   "outputs": [],
   "source": [
    "#select year from 1800-2023\n",
    "Biology=Biology[(Biology['year']<=2023) & (Biology['year']>=1800)]"
   ]
  },
  {
   "cell_type": "code",
   "execution_count": 61,
   "metadata": {},
   "outputs": [
    {
     "data": {
      "application/vnd.jupyter.widget-view+json": {
       "model_id": "aca7ab8f3ca84a9c815fe2bdffd4436a",
       "version_major": 2,
       "version_minor": 0
      },
      "text/plain": [
       "  0%|          | 0/29293434 [00:00<?, ?it/s]"
      ]
     },
     "metadata": {},
     "output_type": "display_data"
    }
   ],
   "source": [
    "#remove papers with authors whose career age is above 80\n",
    "Biology['remove80']=Biology['sci_age'].progress_apply(lambda x: len([i for i in x if i>80]) if x==x else x)"
   ]
  },
  {
   "cell_type": "code",
   "execution_count": 62,
   "metadata": {},
   "outputs": [],
   "source": [
    "Biology=Biology[Biology['remove80']==0]"
   ]
  },
  {
   "cell_type": "code",
   "execution_count": 63,
   "metadata": {},
   "outputs": [
    {
     "name": "stdout",
     "output_type": "stream",
     "text": [
      "removing above 80 and outliner years 29239800\n"
     ]
    }
   ],
   "source": [
    "print('removing above 80 and outliner years',len(Biology))"
   ]
  },
  {
   "cell_type": "code",
   "execution_count": 64,
   "metadata": {},
   "outputs": [],
   "source": [
    "#teams with at least two people\n",
    "Biology=Biology[Biology['len']>=2]"
   ]
  },
  {
   "cell_type": "code",
   "execution_count": 65,
   "metadata": {},
   "outputs": [
    {
     "name": "stdout",
     "output_type": "stream",
     "text": [
      "team publications 22678629\n"
     ]
    }
   ],
   "source": [
    "print('team publications',len(Biology))"
   ]
  },
  {
   "cell_type": "code",
   "execution_count": 66,
   "metadata": {},
   "outputs": [
    {
     "data": {
      "text/plain": [
       "Index(['work_id', 'year', 'author', 'reference', 'len', 'citation2',\n",
       "       'citation5', 'citation10', 'sci_age', 'remove80'],\n",
       "      dtype='object')"
      ]
     },
     "execution_count": 66,
     "metadata": {},
     "output_type": "execute_result"
    }
   ],
   "source": [
    "Biology.columns"
   ]
  },
  {
   "cell_type": "code",
   "execution_count": 67,
   "metadata": {},
   "outputs": [],
   "source": [
    "Biology=Biology[['work_id', 'author', 'year','reference', 'len',\n",
    "       'citation2', 'citation5', 'citation10', 'sci_age']]"
   ]
  },
  {
   "cell_type": "code",
   "execution_count": 68,
   "metadata": {},
   "outputs": [],
   "source": [
    "Biology.to_csv('/data/openalex/processed/sharedleadership/Biology_teams.csv',index=False)"
   ]
  },
  {
   "cell_type": "code",
   "execution_count": null,
   "metadata": {},
   "outputs": [],
   "source": []
  },
  {
   "cell_type": "code",
   "execution_count": null,
   "metadata": {},
   "outputs": [],
   "source": []
  },
  {
   "cell_type": "markdown",
   "metadata": {},
   "source": [
    "##### Medicine processed"
   ]
  },
  {
   "cell_type": "code",
   "execution_count": 2,
   "metadata": {},
   "outputs": [],
   "source": [
    "def processed (input_file, output_file,reference_file): #input #output reference, author, sci_age, c2, c5,c10\n",
    "    Biology=pd.read_csv(input_file, compression='gzip', quotechar='\"')\n",
    "    print('original publication number', len(Biology))\n",
    "    with open('/data/openalex/processed/work_author.json') as f:\n",
    "        work_author=json.load(f)\n",
    "    Biology['author']=Biology['work_id'].apply(lambda x: work_author[x] if x in work_author else np.nan)\n",
    "    with open(reference_file) as f:\n",
    "        work_reference=json.load(f)\n",
    "    # references within the field\n",
    "    Biology['reference']=Biology['work_id'].apply(lambda x: work_reference[x] if x in work_reference else np.nan)\n",
    "    Biology['len']=Biology['author'].apply(lambda x: len(x) if x==x else 0)\n",
    "    W_time={}\n",
    "    for i,j in zip(Biology['work_id'],Biology['year']):\n",
    "        W_time[i]=j\n",
    "    W_pre2=defaultdict(lambda:[])\n",
    "    W_pre5=defaultdict(lambda:[])\n",
    "    W_pre10=defaultdict(lambda:[])\n",
    "    for i,j in zip(Biology['work_id'],Biology['reference']):\n",
    "        if j==j:\n",
    "            for m in j:\n",
    "                if m in W_time:\n",
    "                    diff=W_time[i]-W_time[m]\n",
    "                    if 0<=diff<=2:\n",
    "                        W_pre2[m].append(i)\n",
    "                    if 0<=diff<=5:\n",
    "                        W_pre5[m].append(i)\n",
    "                    if 0<=diff<=10:\n",
    "                        W_pre10[m].append(i)\n",
    "    Biology['citation2']=Biology['work_id'].apply(lambda x: len(W_pre2[x]))\n",
    "    Biology['citation5']=Biology['work_id'].apply(lambda x: len(W_pre5[x]))\n",
    "    Biology['citation10']=Biology['work_id'].apply(lambda x: len(W_pre10[x]))\n",
    "    print(Biology['citation2'].sum()/Biology['citation5'].sum())\n",
    "    print(Biology['citation5'].sum()/Biology['citation10'].sum())  \n",
    "    Biology=Biology.dropna(subset=['year','author'])\n",
    "    year=[[i]*int(j) for i,j in zip(Biology['year'].values,Biology['len'].values)]\n",
    "    year=[j for i in year for j in i]\n",
    "    aid=[j for i in Biology['author'].values for j in i]\n",
    "    W=defaultdict(lambda:[])\n",
    "    for i,j in zip(aid,year):\n",
    "        if j==j:\n",
    "            W[i].append(j)\n",
    "    def sci_age(x):\n",
    "        try:\n",
    "            return [x['year']-np.min(W[i])+1 if i!='na' else np.nan for i in x['author']]\n",
    "        except:\n",
    "            return np.nan\n",
    "    Biology['sci_age']=Biology.progress_apply(lambda x: sci_age(x), axis=1)\n",
    "    #select year from 1800-2023\n",
    "    Biology=Biology[(Biology['year']<=2023) & (Biology['year']>=1800)]\n",
    "    #remove papers with authors whose career age is above 80\n",
    "    Biology['remove80']=Biology['sci_age'].progress_apply(lambda x: len([i for i in x if i>80]))\n",
    "    Biology=Biology[Biology['remove80']==0]\n",
    "    print('removing above 80 and outliner years',len(Biology))\n",
    "    #teams with at least two people\n",
    "    Biology=Biology[Biology['len']>=2]     \n",
    "    print('team publications',len(Biology))\n",
    "    Biology=Biology[['work_id', 'author', 'year', 'reference', 'len',\n",
    "       'citation2', 'citation5', 'citation10', 'sci_age']]\n",
    "    Biology.to_csv(output_file,index=False)"
   ]
  },
  {
   "cell_type": "code",
   "execution_count": 3,
   "metadata": {
    "scrolled": false
   },
   "outputs": [
    {
     "name": "stdout",
     "output_type": "stream",
     "text": [
      "original publication number 44335837\n",
      "0.4487259975370613\n",
      "0.6408345450025145\n"
     ]
    },
    {
     "data": {
      "application/vnd.jupyter.widget-view+json": {
       "model_id": "66708208755b48ca8caf789161af2e3c",
       "version_major": 2,
       "version_minor": 0
      },
      "text/plain": [
       "  0%|          | 0/41525790 [00:00<?, ?it/s]"
      ]
     },
     "metadata": {},
     "output_type": "display_data"
    },
    {
     "data": {
      "application/vnd.jupyter.widget-view+json": {
       "model_id": "5db8c811e58b49d69ae7bf809de4253f",
       "version_major": 2,
       "version_minor": 0
      },
      "text/plain": [
       "  0%|          | 0/41524731 [00:00<?, ?it/s]"
      ]
     },
     "metadata": {},
     "output_type": "display_data"
    },
    {
     "name": "stdout",
     "output_type": "stream",
     "text": [
      "removing above 80 and outliner years 41280524\n",
      "team publications 30212086\n"
     ]
    }
   ],
   "source": [
    "processed(\"/data/openalex/processed/disciplines/Medicine.csv.gz\",'/data/openalex/processed/sharedleadership/Medicine_teams.csv',\"/data/openalex/processed/reference_biology.json\")"
   ]
  },
  {
   "cell_type": "code",
   "execution_count": null,
   "metadata": {},
   "outputs": [],
   "source": []
  },
  {
   "cell_type": "code",
   "execution_count": 4,
   "metadata": {},
   "outputs": [],
   "source": [
    "CS=pd.read_csv(\"/data/openalex/processed/disciplines/Computer science.csv.gz\", compression='gzip', quotechar='\"')"
   ]
  },
  {
   "cell_type": "code",
   "execution_count": 8,
   "metadata": {},
   "outputs": [
    {
     "data": {
      "application/vnd.jupyter.widget-view+json": {
       "model_id": "c8f6032fdc5d43329cb42eeac6b00da8",
       "version_major": 2,
       "version_minor": 0
      },
      "text/plain": [
       "0it [00:00, ?it/s]"
      ]
     },
     "metadata": {},
     "output_type": "display_data"
    }
   ],
   "source": [
    "W_CS={}\n",
    "for i in CS['work_id'].values:\n",
    "    W_CS[i]='CS'\n",
    "\n",
    "reference_CS=defaultdict(lambda:[])\n",
    "with gzip.open(\"/data/openalex/csv-files/works_referenced_works.csv.gz\",'rt') as f:\n",
    "    for e,line in tqdm(enumerate(f)):\n",
    "        if e>0:\n",
    "            i=line.split(',')[0].split('/')[-1]\n",
    "            j=line.split(',')[1].split('/')[-1].split('\\n')[0]\n",
    "            try:\n",
    "                if W_CS[i]==W_CS[j]:\n",
    "                    reference_CS[i].append(j)\n",
    "            except:\n",
    "                pass\n",
    "\n",
    "with open(\"/data/openalex/processed/reference_CS.json\",'w') as f:\n",
    "    json.dump(reference_CS, f)"
   ]
  },
  {
   "cell_type": "code",
   "execution_count": 3,
   "metadata": {},
   "outputs": [
    {
     "name": "stdout",
     "output_type": "stream",
     "text": [
      "original publication number 33674530\n",
      "0.4677328564021705\n",
      "0.6614499295402404\n"
     ]
    },
    {
     "data": {
      "application/vnd.jupyter.widget-view+json": {
       "model_id": "a2c0b9a08d504482a806890c6e9dc992",
       "version_major": 2,
       "version_minor": 0
      },
      "text/plain": [
       "  0%|          | 0/30717070 [00:00<?, ?it/s]"
      ]
     },
     "metadata": {},
     "output_type": "display_data"
    },
    {
     "data": {
      "application/vnd.jupyter.widget-view+json": {
       "model_id": "69537572501c4816a7b28ff6f4b00773",
       "version_major": 2,
       "version_minor": 0
      },
      "text/plain": [
       "  0%|          | 0/30716051 [00:00<?, ?it/s]"
      ]
     },
     "metadata": {},
     "output_type": "display_data"
    },
    {
     "name": "stdout",
     "output_type": "stream",
     "text": [
      "removing above 80 and outliner years 30677568\n",
      "team publications 19902081\n"
     ]
    }
   ],
   "source": [
    "processed(\"/data/openalex/processed/disciplines/Computer science.csv.gz\",'/data/openalex/processed/sharedleadership/Computer Science_teams.csv',\"/data/openalex/processed/reference_CS.json\")"
   ]
  },
  {
   "cell_type": "code",
   "execution_count": null,
   "metadata": {},
   "outputs": [],
   "source": []
  },
  {
   "cell_type": "code",
   "execution_count": 2,
   "metadata": {},
   "outputs": [],
   "source": [
    "def processed (input_file, output_file,reference_file): #input #output reference, author, sci_age, c2, c5,c10\n",
    "    CS=pd.read_csv(input_file, compression='gzip', quotechar='\"')\n",
    "    W_CS={}\n",
    "    for i in CS['work_id'].values:\n",
    "        W_CS[i]='CS'\n",
    "\n",
    "    reference_CS=defaultdict(lambda:[])\n",
    "    with gzip.open(\"/data/openalex/csv-files/works_referenced_works.csv.gz\",'rt') as f:\n",
    "        for e,line in tqdm(enumerate(f)):\n",
    "            if e>0:\n",
    "                i=line.split(',')[0].split('/')[-1]\n",
    "                j=line.split(',')[1].split('/')[-1].split('\\n')[0]\n",
    "                try:\n",
    "                    if W_CS[i]==W_CS[j]:\n",
    "                        reference_CS[i].append(j)\n",
    "                except:\n",
    "                    pass\n",
    "\n",
    "    with open(reference_file,'w') as f:\n",
    "        json.dump(reference_CS, f) \n",
    "\n",
    "    #clear storage\n",
    "    CS=0\n",
    "    W_CS={}\n",
    "    reference_CS=defaultdict(lambda:[])\n",
    "    \n",
    "    Biology=pd.read_csv(input_file, compression='gzip', quotechar='\"')\n",
    "    print('original publication number', len(Biology))\n",
    "    with open('/data/openalex/processed/work_author.json') as f:\n",
    "        work_author=json.load(f)\n",
    "    Biology['author']=Biology['work_id'].apply(lambda x: work_author[x] if x in work_author else np.nan)\n",
    "    with open(reference_file) as f:\n",
    "        work_reference=json.load(f)\n",
    "    # references within the field\n",
    "    Biology['reference']=Biology['work_id'].apply(lambda x: work_reference[x] if x in work_reference else np.nan)\n",
    "    Biology['len']=Biology['author'].apply(lambda x: len(x) if x==x else 0)\n",
    "    W_time={}\n",
    "    for i,j in zip(Biology['work_id'],Biology['year']):\n",
    "        W_time[i]=j\n",
    "    W_pre2=defaultdict(lambda:[])\n",
    "    W_pre5=defaultdict(lambda:[])\n",
    "    W_pre10=defaultdict(lambda:[])\n",
    "    for i,j in zip(Biology['work_id'],Biology['reference']):\n",
    "        if j==j:\n",
    "            for m in j:\n",
    "                if m in W_time:\n",
    "                    diff=W_time[i]-W_time[m]\n",
    "                    if 0<=diff<=2:\n",
    "                        W_pre2[m].append(i)\n",
    "                    if 0<=diff<=5:\n",
    "                        W_pre5[m].append(i)\n",
    "                    if 0<=diff<=10:\n",
    "                        W_pre10[m].append(i)\n",
    "    Biology['citation2']=Biology['work_id'].apply(lambda x: len(W_pre2[x]))\n",
    "    Biology['citation5']=Biology['work_id'].apply(lambda x: len(W_pre5[x]))\n",
    "    Biology['citation10']=Biology['work_id'].apply(lambda x: len(W_pre10[x]))\n",
    "    print(Biology['citation2'].sum()/Biology['citation5'].sum())\n",
    "    print(Biology['citation5'].sum()/Biology['citation10'].sum())  \n",
    "    Biology=Biology.dropna(subset=['year','author'])\n",
    "    year=[[i]*int(j) for i,j in zip(Biology['year'].values,Biology['len'].values)]\n",
    "    year=[j for i in year for j in i]\n",
    "    aid=[j for i in Biology['author'].values for j in i]\n",
    "    W=defaultdict(lambda:[])\n",
    "    for i,j in zip(aid,year):\n",
    "        if j==j:\n",
    "            W[i].append(j)\n",
    "    def sci_age(x):\n",
    "        try:\n",
    "            return [x['year']-np.min(W[i])+1 if i!='na' else np.nan for i in x['author']]\n",
    "        except:\n",
    "            return np.nan\n",
    "    Biology['sci_age']=Biology.progress_apply(lambda x: sci_age(x), axis=1)\n",
    "    #select year from 1800-2023\n",
    "    Biology=Biology[(Biology['year']<=2023) & (Biology['year']>=1800)]\n",
    "    #remove papers with authors whose career age is above 80\n",
    "    Biology['remove80']=Biology['sci_age'].progress_apply(lambda x: len([i for i in x if i>80]))\n",
    "    Biology=Biology[Biology['remove80']==0]\n",
    "    print('removing above 80 and outliner years',len(Biology))\n",
    "    #teams with at least two people\n",
    "    Biology=Biology[Biology['len']>=2]     \n",
    "    print('team publications',len(Biology))\n",
    "    Biology=Biology[['work_id', 'author', 'year', 'reference', 'len',\n",
    "       'citation2', 'citation5', 'citation10', 'sci_age']]\n",
    "    Biology.to_csv(output_file,index=False)"
   ]
  },
  {
   "cell_type": "code",
   "execution_count": 5,
   "metadata": {
    "collapsed": true
   },
   "outputs": [
    {
     "name": "stdout",
     "output_type": "stream",
     "text": [
      "Business\n"
     ]
    },
    {
     "data": {
      "application/vnd.jupyter.widget-view+json": {
       "model_id": "c4c5856aa61148c4849c38650b1f854b",
       "version_major": 2,
       "version_minor": 0
      },
      "text/plain": [
       "0it [00:00, ?it/s]"
      ]
     },
     "metadata": {},
     "output_type": "display_data"
    },
    {
     "ename": "KeyboardInterrupt",
     "evalue": "",
     "output_type": "error",
     "traceback": [
      "\u001b[0;31m---------------------------------------------------------------------------\u001b[0m",
      "\u001b[0;31mKeyError\u001b[0m                                  Traceback (most recent call last)",
      "\u001b[0;32m<ipython-input-2-d186f94d6e15>\u001b[0m in \u001b[0;36mprocessed\u001b[0;34m(input_file, output_file, reference_file)\u001b[0m\n\u001b[1;32m     13\u001b[0m                 \u001b[0;32mtry\u001b[0m\u001b[0;34m:\u001b[0m\u001b[0;34m\u001b[0m\u001b[0;34m\u001b[0m\u001b[0m\n\u001b[0;32m---> 14\u001b[0;31m                     \u001b[0;32mif\u001b[0m \u001b[0mW_CS\u001b[0m\u001b[0;34m[\u001b[0m\u001b[0mi\u001b[0m\u001b[0;34m]\u001b[0m\u001b[0;34m==\u001b[0m\u001b[0mW_CS\u001b[0m\u001b[0;34m[\u001b[0m\u001b[0mj\u001b[0m\u001b[0;34m]\u001b[0m\u001b[0;34m:\u001b[0m\u001b[0;34m\u001b[0m\u001b[0;34m\u001b[0m\u001b[0m\n\u001b[0m\u001b[1;32m     15\u001b[0m                         \u001b[0mreference_CS\u001b[0m\u001b[0;34m[\u001b[0m\u001b[0mi\u001b[0m\u001b[0;34m]\u001b[0m\u001b[0;34m.\u001b[0m\u001b[0mappend\u001b[0m\u001b[0;34m(\u001b[0m\u001b[0mj\u001b[0m\u001b[0;34m)\u001b[0m\u001b[0;34m\u001b[0m\u001b[0;34m\u001b[0m\u001b[0m\n",
      "\u001b[0;31mKeyError\u001b[0m: 'W4308408443'",
      "\nDuring handling of the above exception, another exception occurred:\n",
      "\u001b[0;31mKeyboardInterrupt\u001b[0m                         Traceback (most recent call last)",
      "\u001b[0;32m<ipython-input-5-2e4e8f492b14>\u001b[0m in \u001b[0;36m<module>\u001b[0;34m\u001b[0m\n\u001b[1;32m      5\u001b[0m        'History', 'Geology', 'Geography']:#'Psychology', 'Physics','Sociology', 'Engineering', \n\u001b[1;32m      6\u001b[0m     \u001b[0mprint\u001b[0m\u001b[0;34m(\u001b[0m\u001b[0mi\u001b[0m\u001b[0;34m)\u001b[0m\u001b[0;34m\u001b[0m\u001b[0;34m\u001b[0m\u001b[0m\n\u001b[0;32m----> 7\u001b[0;31m     \u001b[0mprocessed\u001b[0m\u001b[0;34m(\u001b[0m\u001b[0;34m\"/data/openalex/processed/disciplines/\"\u001b[0m\u001b[0;34m+\u001b[0m\u001b[0mstr\u001b[0m\u001b[0;34m(\u001b[0m\u001b[0mi\u001b[0m\u001b[0;34m)\u001b[0m\u001b[0;34m+\u001b[0m\u001b[0;34m\".csv.gz\"\u001b[0m\u001b[0;34m,\u001b[0m\u001b[0;34m\"/data/openalex/processed/sharedleadership/\"\u001b[0m\u001b[0;34m+\u001b[0m\u001b[0mstr\u001b[0m\u001b[0;34m(\u001b[0m\u001b[0mi\u001b[0m\u001b[0;34m)\u001b[0m\u001b[0;34m+\u001b[0m\u001b[0;34m\"_teams.csv\"\u001b[0m\u001b[0;34m,\u001b[0m\u001b[0;34m\"/data/openalex/processed/reference_\"\u001b[0m\u001b[0;34m+\u001b[0m\u001b[0mstr\u001b[0m\u001b[0;34m(\u001b[0m\u001b[0mi\u001b[0m\u001b[0;34m)\u001b[0m\u001b[0;34m+\u001b[0m\u001b[0;34m\".json\"\u001b[0m\u001b[0;34m)\u001b[0m\u001b[0;34m\u001b[0m\u001b[0;34m\u001b[0m\u001b[0m\n\u001b[0m",
      "\u001b[0;32m<ipython-input-2-d186f94d6e15>\u001b[0m in \u001b[0;36mprocessed\u001b[0;34m(input_file, output_file, reference_file)\u001b[0m\n\u001b[1;32m     12\u001b[0m                 \u001b[0mj\u001b[0m\u001b[0;34m=\u001b[0m\u001b[0mline\u001b[0m\u001b[0;34m.\u001b[0m\u001b[0msplit\u001b[0m\u001b[0;34m(\u001b[0m\u001b[0;34m','\u001b[0m\u001b[0;34m)\u001b[0m\u001b[0;34m[\u001b[0m\u001b[0;36m1\u001b[0m\u001b[0;34m]\u001b[0m\u001b[0;34m.\u001b[0m\u001b[0msplit\u001b[0m\u001b[0;34m(\u001b[0m\u001b[0;34m'/'\u001b[0m\u001b[0;34m)\u001b[0m\u001b[0;34m[\u001b[0m\u001b[0;34m-\u001b[0m\u001b[0;36m1\u001b[0m\u001b[0;34m]\u001b[0m\u001b[0;34m.\u001b[0m\u001b[0msplit\u001b[0m\u001b[0;34m(\u001b[0m\u001b[0;34m'\\n'\u001b[0m\u001b[0;34m)\u001b[0m\u001b[0;34m[\u001b[0m\u001b[0;36m0\u001b[0m\u001b[0;34m]\u001b[0m\u001b[0;34m\u001b[0m\u001b[0;34m\u001b[0m\u001b[0m\n\u001b[1;32m     13\u001b[0m                 \u001b[0;32mtry\u001b[0m\u001b[0;34m:\u001b[0m\u001b[0;34m\u001b[0m\u001b[0;34m\u001b[0m\u001b[0m\n\u001b[0;32m---> 14\u001b[0;31m                     \u001b[0;32mif\u001b[0m \u001b[0mW_CS\u001b[0m\u001b[0;34m[\u001b[0m\u001b[0mi\u001b[0m\u001b[0;34m]\u001b[0m\u001b[0;34m==\u001b[0m\u001b[0mW_CS\u001b[0m\u001b[0;34m[\u001b[0m\u001b[0mj\u001b[0m\u001b[0;34m]\u001b[0m\u001b[0;34m:\u001b[0m\u001b[0;34m\u001b[0m\u001b[0;34m\u001b[0m\u001b[0m\n\u001b[0m\u001b[1;32m     15\u001b[0m                         \u001b[0mreference_CS\u001b[0m\u001b[0;34m[\u001b[0m\u001b[0mi\u001b[0m\u001b[0;34m]\u001b[0m\u001b[0;34m.\u001b[0m\u001b[0mappend\u001b[0m\u001b[0;34m(\u001b[0m\u001b[0mj\u001b[0m\u001b[0;34m)\u001b[0m\u001b[0;34m\u001b[0m\u001b[0;34m\u001b[0m\u001b[0m\n\u001b[1;32m     16\u001b[0m                 \u001b[0;32mexcept\u001b[0m\u001b[0;34m:\u001b[0m\u001b[0;34m\u001b[0m\u001b[0;34m\u001b[0m\u001b[0m\n",
      "\u001b[0;31mKeyboardInterrupt\u001b[0m: "
     ]
    }
   ],
   "source": [
    "for i in [ 'Business' , 'Art', 'Economics',\n",
    "          'Philosophy', 'Mathematics',\n",
    "       'Environmental science', 'Chemistry',\n",
    "       'Materials science', 'Political science',\n",
    "       'History', 'Geology', 'Geography']:#'Psychology', 'Physics','Sociology', 'Engineering', \n",
    "    print(i)\n",
    "    processed(\"/data/openalex/processed/disciplines/\"+str(i)+\".csv.gz\",\"/data/openalex/processed/sharedleadership/\"+str(i)+\"_teams.csv\",\"/data/openalex/processed/reference_\"+str(i)+\".json\")"
   ]
  },
  {
   "cell_type": "code",
   "execution_count": null,
   "metadata": {},
   "outputs": [],
   "source": []
  },
  {
   "cell_type": "code",
   "execution_count": 4,
   "metadata": {},
   "outputs": [],
   "source": [
    "def processed (input_file, output_file,reference_file): #input #output reference, author, sci_age, keep all teams not only shared leadership \n",
    "    Biology=pd.read_csv(input_file, compression='gzip', quotechar='\"')\n",
    "    print('original publication number', len(Biology))\n",
    "    with open('/data/openalex/processed/work_author.json') as f:\n",
    "        work_author=json.load(f)\n",
    "    Biology['author']=Biology['work_id'].apply(lambda x: work_author[x] if x in work_author else np.nan)\n",
    "    with open(reference_file) as f:\n",
    "        work_reference=json.load(f)\n",
    "    # references within the field\n",
    "    Biology['reference']=Biology['work_id'].apply(lambda x: work_reference[x] if x in work_reference else np.nan)\n",
    "    Biology['len']=Biology['author'].apply(lambda x: len(x) if x==x else 0)  \n",
    "    Biology=Biology.dropna(subset=['year','author'])\n",
    "    year=[[i]*int(j) for i,j in zip(Biology['year'].values,Biology['len'].values)]\n",
    "    year=[j for i in year for j in i]\n",
    "    aid=[j for i in Biology['author'].values for j in i]\n",
    "    W=defaultdict(lambda:[])\n",
    "    for i,j in zip(aid,year):\n",
    "        if j==j:\n",
    "            W[i].append(j)\n",
    "    def sci_age(x):\n",
    "        try:\n",
    "            return [x['year']-np.min(W[i])+1 if i!='na' else np.nan for i in x['author']]\n",
    "        except:\n",
    "            return np.nan\n",
    "    Biology['sci_age']=Biology.progress_apply(lambda x: sci_age(x), axis=1)\n",
    "    #select year from 1800-2023\n",
    "    Biology=Biology[(Biology['year']<=2023) & (Biology['year']>=1800)]\n",
    "    #remove papers with authors whose career age is above 80\n",
    "    Biology['remove80']=Biology['sci_age'].progress_apply(lambda x: len([i for i in x if i>80]))\n",
    "    Biology=Biology[Biology['remove80']==0]\n",
    "    print('removing above 80 and outliner years',len(Biology))\n",
    "    #teams with at least two people\n",
    "#     Biology=Biology[Biology['len']>=2]     \n",
    "    print('team publications',len(Biology))\n",
    "    Biology=Biology[['work_id', 'author', 'year', 'reference', 'len', 'sci_age']]\n",
    "    Biology.to_csv(output_file,index=False)"
   ]
  },
  {
   "cell_type": "code",
   "execution_count": 5,
   "metadata": {},
   "outputs": [
    {
     "name": "stdout",
     "output_type": "stream",
     "text": [
      "original publication number 33674530\n"
     ]
    },
    {
     "data": {
      "application/vnd.jupyter.widget-view+json": {
       "model_id": "f0c7f91ca37b4c1db7b9bdcfa80d739d",
       "version_major": 2,
       "version_minor": 0
      },
      "text/plain": [
       "  0%|          | 0/30717070 [00:00<?, ?it/s]"
      ]
     },
     "metadata": {},
     "output_type": "display_data"
    },
    {
     "data": {
      "application/vnd.jupyter.widget-view+json": {
       "model_id": "8b79fddcf8b044219a4b8178d96979c7",
       "version_major": 2,
       "version_minor": 0
      },
      "text/plain": [
       "  0%|          | 0/30716051 [00:00<?, ?it/s]"
      ]
     },
     "metadata": {},
     "output_type": "display_data"
    },
    {
     "name": "stdout",
     "output_type": "stream",
     "text": [
      "removing above 80 and outliner years 30677568\n",
      "team publications 30677568\n"
     ]
    }
   ],
   "source": [
    "processed(\"/data/openalex/processed/disciplines/Computer science.csv.gz\",\"/data/openalex/processed/sharedleadership/Computer science_allteams.csv\",\"/data/openalex/processed/reference_CS.json\")"
   ]
  },
  {
   "cell_type": "code",
   "execution_count": null,
   "metadata": {},
   "outputs": [],
   "source": []
  }
 ],
 "metadata": {
  "kernelspec": {
   "display_name": "Python 3",
   "language": "python",
   "name": "python3"
  },
  "language_info": {
   "codemirror_mode": {
    "name": "ipython",
    "version": 3
   },
   "file_extension": ".py",
   "mimetype": "text/x-python",
   "name": "python",
   "nbconvert_exporter": "python",
   "pygments_lexer": "ipython3",
   "version": "3.7.4"
  }
 },
 "nbformat": 4,
 "nbformat_minor": 2
}
